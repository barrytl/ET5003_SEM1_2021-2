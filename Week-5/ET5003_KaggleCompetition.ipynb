{
  "nbformat": 4,
  "nbformat_minor": 0,
  "metadata": {
    "colab": {
      "name": "ET5003_KaggleCompetition.ipynb",
      "provenance": []
    },
    "kernelspec": {
      "name": "python3",
      "display_name": "Python 3"
    },
    "language_info": {
      "name": "python"
    }
  },
  "cells": [
    {
      "cell_type": "markdown",
      "metadata": {
        "id": "930vlW5BrOtq"
      },
      "source": [
        "<div>\n",
        "<img src=\"https://drive.google.com/uc?export=view&id=1vK33e_EqaHgBHcbRV_m38hx6IkG0blK_\" width=\"350\"/>\n",
        "</div> \n",
        "\n",
        "#**Artificial Intelligence - MSc**\n",
        "##ET5003 - MACHINE LEARNING APPLICATIONS \n",
        "\n",
        "###Instructor: Enrique Naredo\n",
        "###ET5003_KaggleCompetition"
      ]
    },
    {
      "cell_type": "code",
      "metadata": {
        "id": "LqXD_IwUQuBF",
        "cellView": "form"
      },
      "source": [
        "#@title Current Date\n",
        "Today = '2021-10-11' #@param {type:\"date\"}\n"
      ],
      "execution_count": null,
      "outputs": []
    },
    {
      "cell_type": "code",
      "metadata": {
        "id": "uzDKau31OjVO",
        "cellView": "form"
      },
      "source": [
        "#@markdown ---\n",
        "#@markdown ### Enter your details here:\n",
        "Team_Number = \"\" #@param {type:\"string\"}\n",
        "Student_ID&Name = \"\" #@param {type:\"string\"}\n",
        "Student_ID&Name = \"\" #@param {type:\"string\"}\n",
        "Student_ID&Name = \"\" #@param {type:\"string\"}\n",
        "Student_ID&Name = \"\" #@param {type:\"string\"}\n",
        "Student_ID&Name = \"\" #@param {type:\"string\"}\n",
        "#@markdown ---"
      ],
      "execution_count": null,
      "outputs": []
    },
    {
      "cell_type": "code",
      "metadata": {
        "id": "r39xGZckTpKx",
        "cellView": "form"
      },
      "source": [
        "#@title Notebook information\n",
        "Notebook_type = 'Etivity' #@param [\"Example\", \"Lab\", \"Practice\", \"Etivity\", \"Assignment\", \"Exam\"]\n",
        "Version = Draft #@param [\"Draft\", \"Final\"] {type:\"raw\"}\n",
        "Submission = False #@param {type:\"boolean\"}"
      ],
      "execution_count": null,
      "outputs": []
    },
    {
      "cell_type": "markdown",
      "metadata": {
        "id": "_A0Z6S-r6DpA"
      },
      "source": [
        "# INTRODUCTION"
      ]
    },
    {
      "cell_type": "markdown",
      "metadata": {
        "id": "d2vlkUAJ7Pz7"
      },
      "source": [
        "Your introduction here."
      ]
    },
    {
      "cell_type": "markdown",
      "metadata": {
        "id": "aajlS0WCJ8pm"
      },
      "source": [
        "***The goal is to use advanced Machine Learning methods to predict House price.***"
      ]
    },
    {
      "cell_type": "markdown",
      "metadata": {
        "id": "Wg7VCbX77eAA"
      },
      "source": [
        "## Imports"
      ]
    },
    {
      "cell_type": "code",
      "metadata": {
        "id": "iFFLThrpwibd"
      },
      "source": [
        "# Suppressing Warnings:\n",
        "import warnings\n",
        "warnings.filterwarnings(\"ignore\")"
      ],
      "execution_count": 1,
      "outputs": []
    },
    {
      "cell_type": "code",
      "metadata": {
        "id": "k96-GLUGE2ux"
      },
      "source": [
        "# standard libraries\n",
        "import pandas as pd\n",
        "import numpy as np\n",
        "import matplotlib.pyplot as plt\n",
        "%matplotlib inline"
      ],
      "execution_count": 2,
      "outputs": []
    },
    {
      "cell_type": "code",
      "metadata": {
        "id": "sYPJU_Y6O6Dq"
      },
      "source": [
        "# to plot\n",
        "import matplotlib.colors\n",
        "from mpl_toolkits.mplot3d import Axes3D\n",
        "\n",
        "# to generate classification, regression and clustering datasets\n",
        "import sklearn.datasets as dt\n",
        "\n",
        "# to create data frames\n",
        "from pandas import DataFrame\n",
        "\n",
        "# to generate data from an existing dataset\n",
        "from sklearn.neighbors import KernelDensity\n",
        "from sklearn.model_selection import GridSearchCV"
      ],
      "execution_count": 3,
      "outputs": []
    },
    {
      "cell_type": "code",
      "metadata": {
        "id": "mxMYIOx1FONV"
      },
      "source": [
        "# Scikit-learn is an open source machine learning library \n",
        "# that supports supervised and unsupervised learning\n",
        "# https://scikit-learn.org/stable/\n",
        "from sklearn.model_selection import train_test_split\n",
        "from sklearn.feature_extraction.text import CountVectorizer\n",
        "from sklearn.naive_bayes import MultinomialNB\n",
        "from sklearn.metrics import accuracy_score, confusion_matrix"
      ],
      "execution_count": 4,
      "outputs": []
    },
    {
      "cell_type": "code",
      "metadata": {
        "id": "YLlFHWx4j7W6",
        "colab": {
          "base_uri": "https://localhost:8080/"
        },
        "outputId": "a15c3e53-98de-4c7c-ef1e-05cb73af06ff"
      },
      "source": [
        "# Regular expression operations\n",
        "#https://docs.python.org/3/library/re.html\n",
        "import re \n",
        "\n",
        "# Natural Language Toolkit\n",
        "# https://www.nltk.org/install.html\n",
        "import nltk\n",
        "from nltk.corpus import stopwords\n",
        "nltk.download('stopwords')\n",
        "stop_words = stopwords.words('english')\n",
        "\n",
        "# Stemming maps different forms of the same word to a common “stem” \n",
        "# https://pypi.org/project/snowballstemmer/\n",
        "from nltk.stem import SnowballStemmer\n",
        "\n",
        "# https://www.nltk.org/book/ch02.html\n",
        "from nltk.corpus import stopwords\n",
        "\n",
        "# https://scikit-learn.org/stable/modules/generated/sklearn.preprocessing.StandardScaler.html\n",
        "from sklearn.preprocessing import StandardScaler"
      ],
      "execution_count": 5,
      "outputs": [
        {
          "output_type": "stream",
          "name": "stdout",
          "text": [
            "[nltk_data] Downloading package stopwords to /root/nltk_data...\n",
            "[nltk_data]   Unzipping corpora/stopwords.zip.\n"
          ]
        }
      ]
    },
    {
      "cell_type": "code",
      "metadata": {
        "colab": {
          "base_uri": "https://localhost:8080/"
        },
        "id": "5cfDHD9BXh0s",
        "outputId": "aec8f3d6-ca92-4d17-b3d7-18262bc191d5"
      },
      "source": [
        "!pip install gpy"
      ],
      "execution_count": 6,
      "outputs": [
        {
          "output_type": "stream",
          "name": "stdout",
          "text": [
            "Collecting gpy\n",
            "  Downloading GPy-1.10.0.tar.gz (959 kB)\n",
            "\u001b[K     |████████████████████████████████| 959 kB 4.9 MB/s \n",
            "\u001b[?25hRequirement already satisfied: numpy>=1.7 in /usr/local/lib/python3.7/dist-packages (from gpy) (1.19.5)\n",
            "Requirement already satisfied: six in /usr/local/lib/python3.7/dist-packages (from gpy) (1.15.0)\n",
            "Collecting paramz>=0.9.0\n",
            "  Downloading paramz-0.9.5.tar.gz (71 kB)\n",
            "\u001b[K     |████████████████████████████████| 71 kB 7.0 MB/s \n",
            "\u001b[?25hRequirement already satisfied: cython>=0.29 in /usr/local/lib/python3.7/dist-packages (from gpy) (0.29.24)\n",
            "Requirement already satisfied: scipy>=1.3.0 in /usr/local/lib/python3.7/dist-packages (from gpy) (1.4.1)\n",
            "Requirement already satisfied: decorator>=4.0.10 in /usr/local/lib/python3.7/dist-packages (from paramz>=0.9.0->gpy) (4.4.2)\n",
            "Building wheels for collected packages: gpy, paramz\n",
            "  Building wheel for gpy (setup.py) ... \u001b[?25l\u001b[?25hdone\n",
            "  Created wheel for gpy: filename=GPy-1.10.0-cp37-cp37m-linux_x86_64.whl size=2565136 sha256=6bd141591e4d5056cc0592e6060e954bf9ef79f31c9116ab4a1416750927fbef\n",
            "  Stored in directory: /root/.cache/pip/wheels/f7/18/28/dd1ce0192a81b71a3b086fd952511d088b21e8359ea496860a\n",
            "  Building wheel for paramz (setup.py) ... \u001b[?25l\u001b[?25hdone\n",
            "  Created wheel for paramz: filename=paramz-0.9.5-py3-none-any.whl size=102565 sha256=2f98b26d2dc88c6157b6a77ce05fea311719bd6aad3407d5891ca55ab3dee735\n",
            "  Stored in directory: /root/.cache/pip/wheels/c8/95/f5/ce28482da28162e6028c4b3a32c41d147395825b3cd62bc810\n",
            "Successfully built gpy paramz\n",
            "Installing collected packages: paramz, gpy\n",
            "Successfully installed gpy-1.10.0 paramz-0.9.5\n"
          ]
        }
      ]
    },
    {
      "cell_type": "code",
      "metadata": {
        "id": "wQ1cFNSK96ab"
      },
      "source": [
        "import seaborn as sns\n",
        "import GPy as GPy\n",
        "import numpy as np\n",
        "import pylab as pb\n",
        "import pymc3 as pm\n",
        "import arviz as az"
      ],
      "execution_count": 7,
      "outputs": []
    },
    {
      "cell_type": "markdown",
      "metadata": {
        "id": "WL91ShB19RPw"
      },
      "source": [
        "# DATASET"
      ]
    },
    {
      "cell_type": "markdown",
      "metadata": {
        "id": "ESg5DGKWJSOf"
      },
      "source": [
        "Extract from this [paper](https://ieeexplore.ieee.org/document/9300074):\n",
        "\n",
        "* House prices are a significant impression of the economy, and its value ranges are of great concerns for the clients and property dealers. \n",
        "\n",
        "* Housing price escalate every year that eventually reinforced the need of strategy or technique that could predict house prices in future. \n",
        "\n",
        "* There are certain factors that influence house prices including physical conditions, locations, number of bedrooms and others.\n"
      ]
    },
    {
      "cell_type": "markdown",
      "metadata": {
        "id": "a8Y2pf50FlYL"
      },
      "source": [
        "1. [Download the dataset](https://github.com/UL-CS6134/CS6134_SEM1_2021-2/tree/main/Week-5). \n",
        "\n",
        "2. Upload the dataset into your folder.\n",
        "\n"
      ]
    },
    {
      "cell_type": "markdown",
      "metadata": {
        "id": "FMkdCQEmKTof"
      },
      "source": [
        "The challenge is to predict the final price of each house."
      ]
    },
    {
      "cell_type": "code",
      "metadata": {
        "colab": {
          "base_uri": "https://localhost:8080/"
        },
        "id": "sNDL4oCa2AG9",
        "outputId": "ad4ca251-1cf8-4f9d-83bd-541c3bebb7ad"
      },
      "source": [
        "from google.colab import drive\n",
        "drive.mount('/content/drive')"
      ],
      "execution_count": 8,
      "outputs": [
        {
          "output_type": "stream",
          "name": "stdout",
          "text": [
            "Mounted at /content/drive\n"
          ]
        }
      ]
    },
    {
      "cell_type": "code",
      "metadata": {
        "id": "6MUJdlxSPSMM"
      },
      "source": [
        "# Define the seed so that results can be reproduced\n",
        "seed = 11\n",
        "rand_state = 11\n",
        "\n",
        "# Define the color maps for plots\n",
        "color_map = plt.cm.get_cmap('RdYlBu')\n",
        "color_map_discrete = matplotlib.colors.LinearSegmentedColormap.from_list(\"\", [\"red\",\"cyan\",\"magenta\",\"blue\"])"
      ],
      "execution_count": 75,
      "outputs": []
    },
    {
      "cell_type": "code",
      "metadata": {
        "id": "5Timyu4I8pTE"
      },
      "source": [
        "Path = '/content/drive/My Drive/Data/ET5003_Etivity_3/'\n",
        "\n",
        "train_data = Path + 'HousePrice_Train.csv'\n",
        "test_data = Path + 'HousePrice_Test.csv'\n",
        "\n",
        "# We don't need the sample submission, this needs to be created from model predictions, keeping it just for reference\n",
        "#sample_submission = Path + 'sample_submission.csv'"
      ],
      "execution_count": 76,
      "outputs": []
    },
    {
      "cell_type": "code",
      "metadata": {
        "colab": {
          "base_uri": "https://localhost:8080/"
        },
        "id": "mCxaZytP86PC",
        "outputId": "2a40abc8-41bf-4201-c5d2-73a9e9dfbabf"
      },
      "source": [
        "# train data\n",
        "df_train = pd.read_csv(train_data)\n",
        "print(\"Training dataset shape : \",df_train.shape)\n",
        "\n",
        "# test data\n",
        "df_test = pd.read_csv(test_data)\n",
        "print(\"Test dataset shape : \",df_test.shape)\n",
        "\n",
        "# sample submission example\n",
        "# df_sample = pd.read_csv(sample_submission)\n",
        "# print(\"Sample_Submission dataset shape : \",df_sample.shape) "
      ],
      "execution_count": 77,
      "outputs": [
        {
          "output_type": "stream",
          "name": "stdout",
          "text": [
            "Training dataset shape :  (1638, 14)\n",
            "Test dataset shape :  (702, 13)\n"
          ]
        }
      ]
    },
    {
      "cell_type": "code",
      "metadata": {
        "colab": {
          "base_uri": "https://localhost:8080/"
        },
        "id": "P_rymo31CgS3",
        "outputId": "13203b4d-e44a-4881-ac8d-406893fca323"
      },
      "source": [
        "df_train.isna().sum()\n",
        "#df_test.isna().sum()"
      ],
      "execution_count": 78,
      "outputs": [
        {
          "output_type": "execute_result",
          "data": {
            "text/plain": [
              "Index               0\n",
              "ID                  0\n",
              "Location            0\n",
              "Num_Bathrooms       0\n",
              "Num_Beds            0\n",
              "BER_class         251\n",
              "Description         0\n",
              "Services         1061\n",
              "Features            0\n",
              "Latitude            0\n",
              "Longitude           0\n",
              "Type                0\n",
              "Surface             0\n",
              "Price               0\n",
              "dtype: int64"
            ]
          },
          "metadata": {},
          "execution_count": 78
        }
      ]
    },
    {
      "cell_type": "code",
      "metadata": {
        "id": "CBfO1DdVELtF"
      },
      "source": [
        "df_train.set_index('Index',inplace=True)\n",
        "df_test.set_index('Index',inplace=True)"
      ],
      "execution_count": 79,
      "outputs": []
    },
    {
      "cell_type": "code",
      "metadata": {
        "colab": {
          "base_uri": "https://localhost:8080/",
          "height": 269
        },
        "id": "zSPFnzvgx8sF",
        "outputId": "ea83b3a9-a8c5-4b74-e60e-1f54a8c7a1fb"
      },
      "source": [
        "df_train.head(6)"
      ],
      "execution_count": 80,
      "outputs": [
        {
          "output_type": "execute_result",
          "data": {
            "text/html": [
              "<div>\n",
              "<style scoped>\n",
              "    .dataframe tbody tr th:only-of-type {\n",
              "        vertical-align: middle;\n",
              "    }\n",
              "\n",
              "    .dataframe tbody tr th {\n",
              "        vertical-align: top;\n",
              "    }\n",
              "\n",
              "    .dataframe thead th {\n",
              "        text-align: right;\n",
              "    }\n",
              "</style>\n",
              "<table border=\"1\" class=\"dataframe\">\n",
              "  <thead>\n",
              "    <tr style=\"text-align: right;\">\n",
              "      <th></th>\n",
              "      <th>ID</th>\n",
              "      <th>Location</th>\n",
              "      <th>Num_Bathrooms</th>\n",
              "      <th>Num_Beds</th>\n",
              "      <th>BER_class</th>\n",
              "      <th>Description</th>\n",
              "      <th>Services</th>\n",
              "      <th>Features</th>\n",
              "      <th>Latitude</th>\n",
              "      <th>Longitude</th>\n",
              "      <th>Type</th>\n",
              "      <th>Surface</th>\n",
              "      <th>Price</th>\n",
              "    </tr>\n",
              "    <tr>\n",
              "      <th>Index</th>\n",
              "      <th></th>\n",
              "      <th></th>\n",
              "      <th></th>\n",
              "      <th></th>\n",
              "      <th></th>\n",
              "      <th></th>\n",
              "      <th></th>\n",
              "      <th></th>\n",
              "      <th></th>\n",
              "      <th></th>\n",
              "      <th></th>\n",
              "      <th></th>\n",
              "      <th></th>\n",
              "    </tr>\n",
              "  </thead>\n",
              "  <tbody>\n",
              "    <tr>\n",
              "      <th>1</th>\n",
              "      <td>12409116</td>\n",
              "      <td>Ongar</td>\n",
              "      <td>2</td>\n",
              "      <td>2</td>\n",
              "      <td>C3</td>\n",
              "      <td>DNG are delighted to present to the market no....</td>\n",
              "      <td>NaN</td>\n",
              "      <td>None</td>\n",
              "      <td>53.396659</td>\n",
              "      <td>-6.438791</td>\n",
              "      <td>apartment</td>\n",
              "      <td>67.00</td>\n",
              "      <td>195000</td>\n",
              "    </tr>\n",
              "    <tr>\n",
              "      <th>2</th>\n",
              "      <td>12320330</td>\n",
              "      <td>North Strand</td>\n",
              "      <td>1</td>\n",
              "      <td>2</td>\n",
              "      <td>D1</td>\n",
              "      <td>13 Northbrook Terrace is a charming red brick ...</td>\n",
              "      <td>NaN</td>\n",
              "      <td>Bight and Spacious interior\\nNumerous original...</td>\n",
              "      <td>53.357129</td>\n",
              "      <td>-6.239779</td>\n",
              "      <td>terraced</td>\n",
              "      <td>95.97</td>\n",
              "      <td>425000</td>\n",
              "    </tr>\n",
              "    <tr>\n",
              "      <th>3</th>\n",
              "      <td>12405953</td>\n",
              "      <td>Stepaside</td>\n",
              "      <td>3</td>\n",
              "      <td>3</td>\n",
              "      <td>A3</td>\n",
              "      <td>Welcome to No. 6 Cotter Close, an immaculately...</td>\n",
              "      <td>NaN</td>\n",
              "      <td>Special Features\\nLarge rear garden\\nGenerous ...</td>\n",
              "      <td>53.266468</td>\n",
              "      <td>-6.222771</td>\n",
              "      <td>semi-detached</td>\n",
              "      <td>107.00</td>\n",
              "      <td>535000</td>\n",
              "    </tr>\n",
              "    <tr>\n",
              "      <th>4</th>\n",
              "      <td>12202582</td>\n",
              "      <td>Cabinteely</td>\n",
              "      <td>1</td>\n",
              "      <td>3</td>\n",
              "      <td>E1</td>\n",
              "      <td>Welcome to 3 Sycamore Walk!\\n\\r\\nEnjoying a pr...</td>\n",
              "      <td>NaN</td>\n",
              "      <td>Wonderful 3 bed detached bungalow.     \\nAccom...</td>\n",
              "      <td>53.261600</td>\n",
              "      <td>-6.166738</td>\n",
              "      <td>detached</td>\n",
              "      <td>81.00</td>\n",
              "      <td>499000</td>\n",
              "    </tr>\n",
              "    <tr>\n",
              "      <th>5</th>\n",
              "      <td>12299336</td>\n",
              "      <td>Lusk</td>\n",
              "      <td>3</td>\n",
              "      <td>4</td>\n",
              "      <td>D1</td>\n",
              "      <td>'Four Seasons' comes to the market as a wonder...</td>\n",
              "      <td>NaN</td>\n",
              "      <td>Detached Property      \\nDouble Glazed Windows...</td>\n",
              "      <td>53.550731</td>\n",
              "      <td>-6.121415</td>\n",
              "      <td>detached</td>\n",
              "      <td>153.00</td>\n",
              "      <td>510000</td>\n",
              "    </tr>\n",
              "    <tr>\n",
              "      <th>6</th>\n",
              "      <td>12225979</td>\n",
              "      <td>Glasnevin</td>\n",
              "      <td>1</td>\n",
              "      <td>3</td>\n",
              "      <td>E1</td>\n",
              "      <td>Property Team Lappin Estates take great pleasu...</td>\n",
              "      <td>NaN</td>\n",
              "      <td>None</td>\n",
              "      <td>53.380367</td>\n",
              "      <td>-6.279310</td>\n",
              "      <td>terraced</td>\n",
              "      <td>140.00</td>\n",
              "      <td>360000</td>\n",
              "    </tr>\n",
              "  </tbody>\n",
              "</table>\n",
              "</div>"
            ],
            "text/plain": [
              "             ID      Location  Num_Bathrooms  ...           Type Surface   Price\n",
              "Index                                         ...                               \n",
              "1      12409116         Ongar              2  ...      apartment   67.00  195000\n",
              "2      12320330  North Strand              1  ...       terraced   95.97  425000\n",
              "3      12405953     Stepaside              3  ...  semi-detached  107.00  535000\n",
              "4      12202582    Cabinteely              1  ...       detached   81.00  499000\n",
              "5      12299336          Lusk              3  ...       detached  153.00  510000\n",
              "6      12225979     Glasnevin              1  ...       terraced  140.00  360000\n",
              "\n",
              "[6 rows x 13 columns]"
            ]
          },
          "metadata": {},
          "execution_count": 80
        }
      ]
    },
    {
      "cell_type": "code",
      "metadata": {
        "colab": {
          "base_uri": "https://localhost:8080/",
          "height": 290
        },
        "id": "qYdI7RbpEIk_",
        "outputId": "e9f2fc43-967f-4555-dda4-8d502d798ec5"
      },
      "source": [
        "df_test.head()"
      ],
      "execution_count": 81,
      "outputs": [
        {
          "output_type": "execute_result",
          "data": {
            "text/html": [
              "<div>\n",
              "<style scoped>\n",
              "    .dataframe tbody tr th:only-of-type {\n",
              "        vertical-align: middle;\n",
              "    }\n",
              "\n",
              "    .dataframe tbody tr th {\n",
              "        vertical-align: top;\n",
              "    }\n",
              "\n",
              "    .dataframe thead th {\n",
              "        text-align: right;\n",
              "    }\n",
              "</style>\n",
              "<table border=\"1\" class=\"dataframe\">\n",
              "  <thead>\n",
              "    <tr style=\"text-align: right;\">\n",
              "      <th></th>\n",
              "      <th>ID</th>\n",
              "      <th>Location</th>\n",
              "      <th>Num_Bathrooms</th>\n",
              "      <th>Num_Beds</th>\n",
              "      <th>BER_class</th>\n",
              "      <th>Description</th>\n",
              "      <th>Services</th>\n",
              "      <th>Features</th>\n",
              "      <th>Latitude</th>\n",
              "      <th>Longitude</th>\n",
              "      <th>Type</th>\n",
              "      <th>Surface</th>\n",
              "    </tr>\n",
              "    <tr>\n",
              "      <th>Index</th>\n",
              "      <th></th>\n",
              "      <th></th>\n",
              "      <th></th>\n",
              "      <th></th>\n",
              "      <th></th>\n",
              "      <th></th>\n",
              "      <th></th>\n",
              "      <th></th>\n",
              "      <th></th>\n",
              "      <th></th>\n",
              "      <th></th>\n",
              "      <th></th>\n",
              "    </tr>\n",
              "  </thead>\n",
              "  <tbody>\n",
              "    <tr>\n",
              "      <th>1639</th>\n",
              "      <td>12292473</td>\n",
              "      <td>Milltown</td>\n",
              "      <td>2</td>\n",
              "      <td>2</td>\n",
              "      <td>C2</td>\n",
              "      <td>OMD Estate Agents are delighted to present thi...</td>\n",
              "      <td>Parking,Oil Fired Central Heating</td>\n",
              "      <td>Designated parking spaces\\nPresented in pristi...</td>\n",
              "      <td>53.316269</td>\n",
              "      <td>-6.243391</td>\n",
              "      <td>townhouse</td>\n",
              "      <td>65.0</td>\n",
              "    </tr>\n",
              "    <tr>\n",
              "      <th>1640</th>\n",
              "      <td>12314667</td>\n",
              "      <td>Glasnevin</td>\n",
              "      <td>2</td>\n",
              "      <td>5</td>\n",
              "      <td>E1</td>\n",
              "      <td>Welcome to Saint Anthony No.214 Glasnevin Aven...</td>\n",
              "      <td>Parking,Gas Fired Central Heating</td>\n",
              "      <td>Modern Worcester Gas Boiler\\nSingle Glazed Win...</td>\n",
              "      <td>53.390769</td>\n",
              "      <td>-6.281936</td>\n",
              "      <td>semi-detached</td>\n",
              "      <td>142.0</td>\n",
              "    </tr>\n",
              "    <tr>\n",
              "      <th>1641</th>\n",
              "      <td>11699240</td>\n",
              "      <td>Dalkey</td>\n",
              "      <td>1</td>\n",
              "      <td>2</td>\n",
              "      <td>G</td>\n",
              "      <td>Located in this ever popular road, on grounds ...</td>\n",
              "      <td>NaN</td>\n",
              "      <td>2 BEDROOM DETACHED HOUSE ON  1/5th ACRE\\nOIL F...</td>\n",
              "      <td>53.272486</td>\n",
              "      <td>-6.108675</td>\n",
              "      <td>detached</td>\n",
              "      <td>80.0</td>\n",
              "    </tr>\n",
              "    <tr>\n",
              "      <th>1642</th>\n",
              "      <td>12416984</td>\n",
              "      <td>Raheny</td>\n",
              "      <td>4</td>\n",
              "      <td>4</td>\n",
              "      <td>A2</td>\n",
              "      <td>DNG are delighted to represent the sale of thi...</td>\n",
              "      <td>Parking,Alarm</td>\n",
              "      <td>Detached House\\nSouth Facing Garden\\nOff Stree...</td>\n",
              "      <td>53.376932</td>\n",
              "      <td>-6.185334</td>\n",
              "      <td>detached</td>\n",
              "      <td>209.0</td>\n",
              "    </tr>\n",
              "    <tr>\n",
              "      <th>1643</th>\n",
              "      <td>12383407</td>\n",
              "      <td>Crumlin</td>\n",
              "      <td>2</td>\n",
              "      <td>3</td>\n",
              "      <td>F</td>\n",
              "      <td>A unique opportunity to acquire this red brick...</td>\n",
              "      <td>Parking,Gas Fired Central Heating,Alarm</td>\n",
              "      <td>Red brick end of terrace property \\nC. 108sqm ...</td>\n",
              "      <td>53.327208</td>\n",
              "      <td>-6.308938</td>\n",
              "      <td>end-of-terrace</td>\n",
              "      <td>108.0</td>\n",
              "    </tr>\n",
              "  </tbody>\n",
              "</table>\n",
              "</div>"
            ],
            "text/plain": [
              "             ID   Location  Num_Bathrooms  ...  Longitude            Type Surface\n",
              "Index                                      ...                                   \n",
              "1639   12292473   Milltown              2  ...  -6.243391       townhouse    65.0\n",
              "1640   12314667  Glasnevin              2  ...  -6.281936   semi-detached   142.0\n",
              "1641   11699240     Dalkey              1  ...  -6.108675        detached    80.0\n",
              "1642   12416984     Raheny              4  ...  -6.185334        detached   209.0\n",
              "1643   12383407    Crumlin              2  ...  -6.308938  end-of-terrace   108.0\n",
              "\n",
              "[5 rows x 12 columns]"
            ]
          },
          "metadata": {},
          "execution_count": 81
        }
      ]
    },
    {
      "cell_type": "code",
      "metadata": {
        "colab": {
          "base_uri": "https://localhost:8080/"
        },
        "id": "z7sbOI5rG-48",
        "outputId": "76af8457-003f-4f42-8fa6-6d2a33041779"
      },
      "source": [
        "df_train.dtypes"
      ],
      "execution_count": 82,
      "outputs": [
        {
          "output_type": "execute_result",
          "data": {
            "text/plain": [
              "ID                 int64\n",
              "Location          object\n",
              "Num_Bathrooms      int64\n",
              "Num_Beds           int64\n",
              "BER_class         object\n",
              "Description       object\n",
              "Services          object\n",
              "Features          object\n",
              "Latitude         float64\n",
              "Longitude        float64\n",
              "Type              object\n",
              "Surface          float64\n",
              "Price              int64\n",
              "dtype: object"
            ]
          },
          "metadata": {},
          "execution_count": 82
        }
      ]
    },
    {
      "cell_type": "code",
      "metadata": {
        "colab": {
          "base_uri": "https://localhost:8080/",
          "height": 300
        },
        "id": "E7ue3zC_1_--",
        "outputId": "83d40e58-ffaa-4181-c1c7-9e573c53fe83"
      },
      "source": [
        "df_train.describe()\n",
        "#df_test.describe()"
      ],
      "execution_count": 83,
      "outputs": [
        {
          "output_type": "execute_result",
          "data": {
            "text/html": [
              "<div>\n",
              "<style scoped>\n",
              "    .dataframe tbody tr th:only-of-type {\n",
              "        vertical-align: middle;\n",
              "    }\n",
              "\n",
              "    .dataframe tbody tr th {\n",
              "        vertical-align: top;\n",
              "    }\n",
              "\n",
              "    .dataframe thead th {\n",
              "        text-align: right;\n",
              "    }\n",
              "</style>\n",
              "<table border=\"1\" class=\"dataframe\">\n",
              "  <thead>\n",
              "    <tr style=\"text-align: right;\">\n",
              "      <th></th>\n",
              "      <th>ID</th>\n",
              "      <th>Num_Bathrooms</th>\n",
              "      <th>Num_Beds</th>\n",
              "      <th>Latitude</th>\n",
              "      <th>Longitude</th>\n",
              "      <th>Surface</th>\n",
              "      <th>Price</th>\n",
              "    </tr>\n",
              "  </thead>\n",
              "  <tbody>\n",
              "    <tr>\n",
              "      <th>count</th>\n",
              "      <td>1.638000e+03</td>\n",
              "      <td>1638.000000</td>\n",
              "      <td>1638.000000</td>\n",
              "      <td>1638.000000</td>\n",
              "      <td>1638.000000</td>\n",
              "      <td>1638.000000</td>\n",
              "      <td>1.638000e+03</td>\n",
              "    </tr>\n",
              "    <tr>\n",
              "      <th>mean</th>\n",
              "      <td>1.231930e+07</td>\n",
              "      <td>2.054335</td>\n",
              "      <td>3.043346</td>\n",
              "      <td>53.350473</td>\n",
              "      <td>-6.255086</td>\n",
              "      <td>169.540695</td>\n",
              "      <td>5.547196e+05</td>\n",
              "    </tr>\n",
              "    <tr>\n",
              "      <th>std</th>\n",
              "      <td>1.447540e+05</td>\n",
              "      <td>1.241259</td>\n",
              "      <td>1.379650</td>\n",
              "      <td>0.076832</td>\n",
              "      <td>0.144430</td>\n",
              "      <td>1791.793934</td>\n",
              "      <td>5.652032e+05</td>\n",
              "    </tr>\n",
              "    <tr>\n",
              "      <th>min</th>\n",
              "      <td>1.118567e+07</td>\n",
              "      <td>1.000000</td>\n",
              "      <td>1.000000</td>\n",
              "      <td>52.501856</td>\n",
              "      <td>-6.497000</td>\n",
              "      <td>3.400000</td>\n",
              "      <td>1.999500e+04</td>\n",
              "    </tr>\n",
              "    <tr>\n",
              "      <th>25%</th>\n",
              "      <td>1.228104e+07</td>\n",
              "      <td>1.000000</td>\n",
              "      <td>2.000000</td>\n",
              "      <td>53.294261</td>\n",
              "      <td>-6.309613</td>\n",
              "      <td>73.000000</td>\n",
              "      <td>2.950000e+05</td>\n",
              "    </tr>\n",
              "    <tr>\n",
              "      <th>50%</th>\n",
              "      <td>1.238055e+07</td>\n",
              "      <td>2.000000</td>\n",
              "      <td>3.000000</td>\n",
              "      <td>53.341386</td>\n",
              "      <td>-6.247780</td>\n",
              "      <td>97.050000</td>\n",
              "      <td>3.950000e+05</td>\n",
              "    </tr>\n",
              "    <tr>\n",
              "      <th>75%</th>\n",
              "      <td>1.240548e+07</td>\n",
              "      <td>3.000000</td>\n",
              "      <td>4.000000</td>\n",
              "      <td>53.382031</td>\n",
              "      <td>-6.193982</td>\n",
              "      <td>135.000000</td>\n",
              "      <td>5.950000e+05</td>\n",
              "    </tr>\n",
              "    <tr>\n",
              "      <th>max</th>\n",
              "      <td>1.242836e+07</td>\n",
              "      <td>18.000000</td>\n",
              "      <td>27.000000</td>\n",
              "      <td>53.630588</td>\n",
              "      <td>-1.744995</td>\n",
              "      <td>72236.387140</td>\n",
              "      <td>8.900000e+06</td>\n",
              "    </tr>\n",
              "  </tbody>\n",
              "</table>\n",
              "</div>"
            ],
            "text/plain": [
              "                 ID  Num_Bathrooms  ...       Surface         Price\n",
              "count  1.638000e+03    1638.000000  ...   1638.000000  1.638000e+03\n",
              "mean   1.231930e+07       2.054335  ...    169.540695  5.547196e+05\n",
              "std    1.447540e+05       1.241259  ...   1791.793934  5.652032e+05\n",
              "min    1.118567e+07       1.000000  ...      3.400000  1.999500e+04\n",
              "25%    1.228104e+07       1.000000  ...     73.000000  2.950000e+05\n",
              "50%    1.238055e+07       2.000000  ...     97.050000  3.950000e+05\n",
              "75%    1.240548e+07       3.000000  ...    135.000000  5.950000e+05\n",
              "max    1.242836e+07      18.000000  ...  72236.387140  8.900000e+06\n",
              "\n",
              "[8 rows x 7 columns]"
            ]
          },
          "metadata": {},
          "execution_count": 83
        }
      ]
    },
    {
      "cell_type": "code",
      "metadata": {
        "colab": {
          "base_uri": "https://localhost:8080/",
          "height": 668
        },
        "id": "ZewOK3lO-E7U",
        "outputId": "b78d64c1-4c8f-42cd-de72-baaae2196ae5"
      },
      "source": [
        "plt.figure(figsize = (10,10))\n",
        "sns.heatmap(df_train.corr(),annot=True)\n",
        "plt.show()"
      ],
      "execution_count": 84,
      "outputs": [
        {
          "output_type": "display_data",
          "data": {
            "image/png": "[encoded data removed]",
            "text/plain": [
              "<Figure size 720x720 with 2 Axes>"
            ]
          },
          "metadata": {
            "needs_background": "light"
          }
        }
      ]
    },
    {
      "cell_type": "code",
      "metadata": {
        "colab": {
          "base_uri": "https://localhost:8080/",
          "height": 1000
        },
        "id": "vM82pJS491d0",
        "outputId": "5cfb0e50-ac5d-45bc-94a3-fb2a77d0d3ce"
      },
      "source": [
        "sns.pairplot(df_train)\n",
        "plt.show()\n",
        "# sns.pairplot(df_test)\n",
        "# plt.show()"
      ],
      "execution_count": 21,
      "outputs": [
        {
          "output_type": "display_data",
          "data": {
            "image/png": "[encoded data removed]",
            "text/plain": [
              "<Figure size 1260x1260 with 56 Axes>"
            ]
          },
          "metadata": {
            "needs_background": "light"
          }
        }
      ]
    },
    {
      "cell_type": "markdown",
      "metadata": {
        "id": "QC03Kkf1Bft4"
      },
      "source": [
        "Some of the numberical features contain outliers which I will remove to make the training data evenly distributed"
      ]
    },
    {
      "cell_type": "code",
      "metadata": {
        "id": "-8SErRWo-jo2"
      },
      "source": [
        "# Removing numerical outliers\n",
        "def remove_outliers(df_train, num_columns, threshold = 1.5):\n",
        " \n",
        "  for i,col in enumerate(num_columns):\n",
        "     \n",
        "     q1 = df_train[col].quantile(0.25)\n",
        "     q3 = df_train[col].quantile(0.75)\n",
        "     iqr = q3 - q1     \n",
        "     df_no_outlier = df_train[(df_train[col] > q1 - threshold*iqr ) & (df_train[col] < q3 + threshold*iqr)]\n",
        "  return df_no_outlier"
      ],
      "execution_count": 85,
      "outputs": []
    },
    {
      "cell_type": "code",
      "metadata": {
        "id": "8N4S1BkBajzW"
      },
      "source": [
        "num_columns = ['Num_Bathrooms','Num_Beds','Surface']\n",
        "df_train = remove_outliers(df_train,num_columns)"
      ],
      "execution_count": 86,
      "outputs": []
    },
    {
      "cell_type": "code",
      "metadata": {
        "colab": {
          "base_uri": "https://localhost:8080/",
          "height": 112
        },
        "id": "ZR1EwhNVv88H",
        "outputId": "b3b8319c-8b59-46c6-f7d7-f8c1c92c0056"
      },
      "source": [
        "df_train[(df_train['Latitude']<53) | (df_train['Longitude']>-4)]"
      ],
      "execution_count": 87,
      "outputs": [
        {
          "output_type": "execute_result",
          "data": {
            "text/html": [
              "<div>\n",
              "<style scoped>\n",
              "    .dataframe tbody tr th:only-of-type {\n",
              "        vertical-align: middle;\n",
              "    }\n",
              "\n",
              "    .dataframe tbody tr th {\n",
              "        vertical-align: top;\n",
              "    }\n",
              "\n",
              "    .dataframe thead th {\n",
              "        text-align: right;\n",
              "    }\n",
              "</style>\n",
              "<table border=\"1\" class=\"dataframe\">\n",
              "  <thead>\n",
              "    <tr style=\"text-align: right;\">\n",
              "      <th></th>\n",
              "      <th>ID</th>\n",
              "      <th>Location</th>\n",
              "      <th>Num_Bathrooms</th>\n",
              "      <th>Num_Beds</th>\n",
              "      <th>BER_class</th>\n",
              "      <th>Description</th>\n",
              "      <th>Services</th>\n",
              "      <th>Features</th>\n",
              "      <th>Latitude</th>\n",
              "      <th>Longitude</th>\n",
              "      <th>Type</th>\n",
              "      <th>Surface</th>\n",
              "      <th>Price</th>\n",
              "    </tr>\n",
              "    <tr>\n",
              "      <th>Index</th>\n",
              "      <th></th>\n",
              "      <th></th>\n",
              "      <th></th>\n",
              "      <th></th>\n",
              "      <th></th>\n",
              "      <th></th>\n",
              "      <th></th>\n",
              "      <th></th>\n",
              "      <th></th>\n",
              "      <th></th>\n",
              "      <th></th>\n",
              "      <th></th>\n",
              "      <th></th>\n",
              "    </tr>\n",
              "  </thead>\n",
              "  <tbody>\n",
              "    <tr>\n",
              "      <th>356</th>\n",
              "      <td>12270559</td>\n",
              "      <td>Clondalkin</td>\n",
              "      <td>1</td>\n",
              "      <td>3</td>\n",
              "      <td>NaN</td>\n",
              "      <td>RAY COOKE AUCTIONEERS take great pleasure in i...</td>\n",
              "      <td>NaN</td>\n",
              "      <td>None</td>\n",
              "      <td>52.501856</td>\n",
              "      <td>-1.744995</td>\n",
              "      <td>semi-detached</td>\n",
              "      <td>79.0</td>\n",
              "      <td>199000</td>\n",
              "    </tr>\n",
              "  </tbody>\n",
              "</table>\n",
              "</div>"
            ],
            "text/plain": [
              "             ID    Location  Num_Bathrooms  ...           Type Surface   Price\n",
              "Index                                       ...                               \n",
              "356    12270559  Clondalkin              1  ...  semi-detached    79.0  199000\n",
              "\n",
              "[1 rows x 13 columns]"
            ]
          },
          "metadata": {},
          "execution_count": 87
        }
      ]
    },
    {
      "cell_type": "markdown",
      "metadata": {
        "id": "Af2EPkPlwnq5"
      },
      "source": [
        "Looking at the earlier pairplots, there is one outlier for both Latitude and Longitude.       \n",
        "After investigating further, the  co-ordinates are for an address in Birmingham,UK, so I will drop this example"
      ]
    },
    {
      "cell_type": "code",
      "metadata": {
        "id": "MfvfKJVpw3-W"
      },
      "source": [
        "df_train.drop(index=355,axis=1,inplace=True)\n"
      ],
      "execution_count": 88,
      "outputs": []
    },
    {
      "cell_type": "markdown",
      "metadata": {
        "id": "LP_C0fXVj0XK"
      },
      "source": [
        "## Cathegorical variables"
      ]
    },
    {
      "cell_type": "code",
      "metadata": {
        "id": "i8NMcvw5fhuU"
      },
      "source": [
        "ber_mapper = {\n",
        "    'A1':1,'A2':2,'A3':3,\n",
        "    'B1':4,'B2':5,'B3':6,\n",
        "    'C1':7,'C2':8,'C3':9,\n",
        "    'D1':10,'D2':11,\n",
        "    'E1':12,'E2':13,\n",
        "    'F':14,\n",
        "    'G':15,\n",
        "    'SINo666of2006exempt':16,\n",
        "    np.nan:17\n",
        "}\n",
        "\n",
        "df_train['BER_class'] = df_train['BER_class'].replace(ber_mapper)\n",
        "df_test['BER_class'] = df_test['BER_class'].replace(ber_mapper)"
      ],
      "execution_count": 89,
      "outputs": []
    },
    {
      "cell_type": "code",
      "metadata": {
        "id": "wY7yI-8kwov5",
        "outputId": "0c1b00e0-18c4-48e2-d5c6-395e554a02de",
        "colab": {
          "base_uri": "https://localhost:8080/",
          "height": 394
        }
      },
      "source": [
        "df_train[['Type','Price']].groupby(['Type']).mean().sort_values(by='Price')"
      ],
      "execution_count": 93,
      "outputs": [
        {
          "output_type": "execute_result",
          "data": {
            "text/html": [
              "<div>\n",
              "<style scoped>\n",
              "    .dataframe tbody tr th:only-of-type {\n",
              "        vertical-align: middle;\n",
              "    }\n",
              "\n",
              "    .dataframe tbody tr th {\n",
              "        vertical-align: top;\n",
              "    }\n",
              "\n",
              "    .dataframe thead th {\n",
              "        text-align: right;\n",
              "    }\n",
              "</style>\n",
              "<table border=\"1\" class=\"dataframe\">\n",
              "  <thead>\n",
              "    <tr style=\"text-align: right;\">\n",
              "      <th></th>\n",
              "      <th>Price</th>\n",
              "    </tr>\n",
              "    <tr>\n",
              "      <th>Type</th>\n",
              "      <th></th>\n",
              "    </tr>\n",
              "  </thead>\n",
              "  <tbody>\n",
              "    <tr>\n",
              "      <th>studio</th>\n",
              "      <td>242500.000000</td>\n",
              "    </tr>\n",
              "    <tr>\n",
              "      <th>duplex</th>\n",
              "      <td>326281.250000</td>\n",
              "    </tr>\n",
              "    <tr>\n",
              "      <th>apartment</th>\n",
              "      <td>329502.908879</td>\n",
              "    </tr>\n",
              "    <tr>\n",
              "      <th>end-of-terrace</th>\n",
              "      <td>403926.339286</td>\n",
              "    </tr>\n",
              "    <tr>\n",
              "      <th>terraced</th>\n",
              "      <td>449238.947368</td>\n",
              "    </tr>\n",
              "    <tr>\n",
              "      <th>townhouse</th>\n",
              "      <td>477500.000000</td>\n",
              "    </tr>\n",
              "    <tr>\n",
              "      <th>semi-detached</th>\n",
              "      <td>501111.486486</td>\n",
              "    </tr>\n",
              "    <tr>\n",
              "      <th>bungalow</th>\n",
              "      <td>525427.272727</td>\n",
              "    </tr>\n",
              "    <tr>\n",
              "      <th>detached</th>\n",
              "      <td>674590.522876</td>\n",
              "    </tr>\n",
              "    <tr>\n",
              "      <th>site</th>\n",
              "      <td>750000.000000</td>\n",
              "    </tr>\n",
              "  </tbody>\n",
              "</table>\n",
              "</div>"
            ],
            "text/plain": [
              "                        Price\n",
              "Type                         \n",
              "studio          242500.000000\n",
              "duplex          326281.250000\n",
              "apartment       329502.908879\n",
              "end-of-terrace  403926.339286\n",
              "terraced        449238.947368\n",
              "townhouse       477500.000000\n",
              "semi-detached   501111.486486\n",
              "bungalow        525427.272727\n",
              "detached        674590.522876\n",
              "site            750000.000000"
            ]
          },
          "metadata": {},
          "execution_count": 93
        }
      ]
    },
    {
      "cell_type": "code",
      "metadata": {
        "id": "7rIF1YnvpjVU"
      },
      "source": [
        "# df_train = pd.get_dummies(df_train, columns=['Type'], drop_first=False)\n",
        "# df_test = pd.get_dummies(df_test, columns=['Type'], drop_first=False)\n",
        "\n",
        "type_map = {\n",
        "     'apartment':2,\n",
        "     'bungalow':7,\n",
        "     'detached':8, \n",
        "     'duplex':1,\n",
        "     'end-of-terrace':3,\n",
        "     'semi-detached':6,\n",
        "     'site':9,\n",
        "     'studio':0,\n",
        "     'terraced':4,\n",
        "     'townhouse':5\n",
        "    \n",
        "}\n",
        "df_train['Type'] = df_train['Type'].replace(type_map)\n",
        "df_test['Type'] = df_test['Type'].replace(type_map)"
      ],
      "execution_count": 94,
      "outputs": []
    },
    {
      "cell_type": "markdown",
      "metadata": {
        "id": "QKvxpE2WCiQA"
      },
      "source": [
        "As `BER_Class` is an ordinal cathegorical variable I have decided to encode with the use of the mapper above. I have inputed NaN values with the last class, however I may revisit this decision. It might be worthwhile to impute a value for one of the existing BER ratings.      \n",
        "I have encoded `Type` with the mapper above,  based on ordering the mean Price of property for each class. Initially I had one hot encoded this feature but this led to some issues as not all of the test set had observations in each property type.\n",
        "  "
      ]
    },
    {
      "cell_type": "code",
      "metadata": {
        "id": "UGtN3HZnsDCr"
      },
      "source": [
        "#df_train.isna().sum()\n",
        "#df_test.isna().sum()"
      ],
      "execution_count": 95,
      "outputs": []
    },
    {
      "cell_type": "code",
      "metadata": {
        "colab": {
          "base_uri": "https://localhost:8080/",
          "height": 868
        },
        "id": "CxAsSUAre5xy",
        "outputId": "068925cb-0164-4c2c-e0cb-a379f878559a"
      },
      "source": [
        "plt.figure(figsize = (15,15))\n",
        "sns.heatmap(df_train.corr(),annot=True)\n",
        "plt.show()\n",
        "\n",
        "# sns.pairplot(df_train)\n",
        "# plt.show()\n"
      ],
      "execution_count": 96,
      "outputs": [
        {
          "output_type": "display_data",
          "data": {
            "image/png": "[encoded data removed]",
            "text/plain": [
              "<Figure size 1080x1080 with 2 Axes>"
            ]
          },
          "metadata": {
            "needs_background": "light"
          }
        }
      ]
    },
    {
      "cell_type": "code",
      "metadata": {
        "id": "jIUWC3eqt9p9",
        "colab": {
          "base_uri": "https://localhost:8080/"
        },
        "outputId": "aae1dbc8-e5f9-4b86-ab2e-560b0f047648"
      },
      "source": [
        "df_train.columns"
      ],
      "execution_count": 97,
      "outputs": [
        {
          "output_type": "execute_result",
          "data": {
            "text/plain": [
              "Index(['ID', 'Location', 'Num_Bathrooms', 'Num_Beds', 'BER_class',\n",
              "       'Description', 'Services', 'Features', 'Latitude', 'Longitude', 'Type',\n",
              "       'Surface', 'Price'],\n",
              "      dtype='object')"
            ]
          },
          "metadata": {},
          "execution_count": 97
        }
      ]
    },
    {
      "cell_type": "code",
      "metadata": {
        "colab": {
          "base_uri": "https://localhost:8080/"
        },
        "id": "w-2HvoJBA_0l",
        "outputId": "e620948d-c38f-445c-c5a7-c9eeb8a5de8b"
      },
      "source": [
        "df_test.columns"
      ],
      "execution_count": 98,
      "outputs": [
        {
          "output_type": "execute_result",
          "data": {
            "text/plain": [
              "Index(['ID', 'Location', 'Num_Bathrooms', 'Num_Beds', 'BER_class',\n",
              "       'Description', 'Services', 'Features', 'Latitude', 'Longitude', 'Type',\n",
              "       'Surface'],\n",
              "      dtype='object')"
            ]
          },
          "metadata": {},
          "execution_count": 98
        }
      ]
    },
    {
      "cell_type": "code",
      "metadata": {
        "colab": {
          "base_uri": "https://localhost:8080/",
          "height": 238
        },
        "id": "1Lrg08tqFR4u",
        "outputId": "99824155-267e-4afb-bd0e-78278671001e"
      },
      "source": [
        "df_cost = df_train['Price']\n",
        "df_train.drop(['ID','Location','Price'],axis=1,inplace=True)\n",
        "df_test.drop(['ID','Location'],axis=1, inplace=True)\n",
        "df_test.head()"
      ],
      "execution_count": 99,
      "outputs": [
        {
          "output_type": "execute_result",
          "data": {
            "text/html": [
              "<div>\n",
              "<style scoped>\n",
              "    .dataframe tbody tr th:only-of-type {\n",
              "        vertical-align: middle;\n",
              "    }\n",
              "\n",
              "    .dataframe tbody tr th {\n",
              "        vertical-align: top;\n",
              "    }\n",
              "\n",
              "    .dataframe thead th {\n",
              "        text-align: right;\n",
              "    }\n",
              "</style>\n",
              "<table border=\"1\" class=\"dataframe\">\n",
              "  <thead>\n",
              "    <tr style=\"text-align: right;\">\n",
              "      <th></th>\n",
              "      <th>Num_Bathrooms</th>\n",
              "      <th>Num_Beds</th>\n",
              "      <th>BER_class</th>\n",
              "      <th>Description</th>\n",
              "      <th>Services</th>\n",
              "      <th>Features</th>\n",
              "      <th>Latitude</th>\n",
              "      <th>Longitude</th>\n",
              "      <th>Type</th>\n",
              "      <th>Surface</th>\n",
              "    </tr>\n",
              "    <tr>\n",
              "      <th>Index</th>\n",
              "      <th></th>\n",
              "      <th></th>\n",
              "      <th></th>\n",
              "      <th></th>\n",
              "      <th></th>\n",
              "      <th></th>\n",
              "      <th></th>\n",
              "      <th></th>\n",
              "      <th></th>\n",
              "      <th></th>\n",
              "    </tr>\n",
              "  </thead>\n",
              "  <tbody>\n",
              "    <tr>\n",
              "      <th>1639</th>\n",
              "      <td>2</td>\n",
              "      <td>2</td>\n",
              "      <td>8</td>\n",
              "      <td>OMD Estate Agents are delighted to present thi...</td>\n",
              "      <td>Parking,Oil Fired Central Heating</td>\n",
              "      <td>Designated parking spaces\\nPresented in pristi...</td>\n",
              "      <td>53.316269</td>\n",
              "      <td>-6.243391</td>\n",
              "      <td>5</td>\n",
              "      <td>65.0</td>\n",
              "    </tr>\n",
              "    <tr>\n",
              "      <th>1640</th>\n",
              "      <td>2</td>\n",
              "      <td>5</td>\n",
              "      <td>12</td>\n",
              "      <td>Welcome to Saint Anthony No.214 Glasnevin Aven...</td>\n",
              "      <td>Parking,Gas Fired Central Heating</td>\n",
              "      <td>Modern Worcester Gas Boiler\\nSingle Glazed Win...</td>\n",
              "      <td>53.390769</td>\n",
              "      <td>-6.281936</td>\n",
              "      <td>6</td>\n",
              "      <td>142.0</td>\n",
              "    </tr>\n",
              "    <tr>\n",
              "      <th>1641</th>\n",
              "      <td>1</td>\n",
              "      <td>2</td>\n",
              "      <td>15</td>\n",
              "      <td>Located in this ever popular road, on grounds ...</td>\n",
              "      <td>NaN</td>\n",
              "      <td>2 BEDROOM DETACHED HOUSE ON  1/5th ACRE\\nOIL F...</td>\n",
              "      <td>53.272486</td>\n",
              "      <td>-6.108675</td>\n",
              "      <td>8</td>\n",
              "      <td>80.0</td>\n",
              "    </tr>\n",
              "    <tr>\n",
              "      <th>1642</th>\n",
              "      <td>4</td>\n",
              "      <td>4</td>\n",
              "      <td>2</td>\n",
              "      <td>DNG are delighted to represent the sale of thi...</td>\n",
              "      <td>Parking,Alarm</td>\n",
              "      <td>Detached House\\nSouth Facing Garden\\nOff Stree...</td>\n",
              "      <td>53.376932</td>\n",
              "      <td>-6.185334</td>\n",
              "      <td>8</td>\n",
              "      <td>209.0</td>\n",
              "    </tr>\n",
              "    <tr>\n",
              "      <th>1643</th>\n",
              "      <td>2</td>\n",
              "      <td>3</td>\n",
              "      <td>14</td>\n",
              "      <td>A unique opportunity to acquire this red brick...</td>\n",
              "      <td>Parking,Gas Fired Central Heating,Alarm</td>\n",
              "      <td>Red brick end of terrace property \\nC. 108sqm ...</td>\n",
              "      <td>53.327208</td>\n",
              "      <td>-6.308938</td>\n",
              "      <td>3</td>\n",
              "      <td>108.0</td>\n",
              "    </tr>\n",
              "  </tbody>\n",
              "</table>\n",
              "</div>"
            ],
            "text/plain": [
              "       Num_Bathrooms  Num_Beds  BER_class  ... Longitude Type Surface\n",
              "Index                                      ...                       \n",
              "1639               2         2          8  ... -6.243391    5    65.0\n",
              "1640               2         5         12  ... -6.281936    6   142.0\n",
              "1641               1         2         15  ... -6.108675    8    80.0\n",
              "1642               4         4          2  ... -6.185334    8   209.0\n",
              "1643               2         3         14  ... -6.308938    3   108.0\n",
              "\n",
              "[5 rows x 10 columns]"
            ]
          },
          "metadata": {},
          "execution_count": 99
        }
      ]
    },
    {
      "cell_type": "markdown",
      "metadata": {
        "id": "2PMoPLlUJ1Ly"
      },
      "source": [
        "## Training & Test Data"
      ]
    },
    {
      "cell_type": "code",
      "metadata": {
        "id": "loLTHklwKGnV"
      },
      "source": [
        "# # split data into training and test\n",
        "# from sklearn.model_selection import train_test_split\n",
        "\n",
        "# # training: 70% (0.7), test: 30% (0.3) \n",
        "# # you could try any other combination \n",
        "# # but consider 50% of training as the low boundary\n",
        "# X_train,X_test,y_train,y_test = train_test_split(df_train.drop('Price',axis=1), df_train['Price'], test_size=0.3)"
      ],
      "execution_count": 33,
      "outputs": []
    },
    {
      "cell_type": "markdown",
      "metadata": {
        "id": "ztBkSZluye87"
      },
      "source": [
        "### Train dataset"
      ]
    },
    {
      "cell_type": "code",
      "metadata": {
        "id": "6XUFUPABMHfF",
        "colab": {
          "base_uri": "https://localhost:8080/",
          "height": 175
        },
        "outputId": "3ff94156-5dea-4d14-fbe9-01cfc92bc52a"
      },
      "source": [
        "# show first data frame rows \n",
        "df_train.head(3)"
      ],
      "execution_count": 100,
      "outputs": [
        {
          "output_type": "execute_result",
          "data": {
            "text/html": [
              "<div>\n",
              "<style scoped>\n",
              "    .dataframe tbody tr th:only-of-type {\n",
              "        vertical-align: middle;\n",
              "    }\n",
              "\n",
              "    .dataframe tbody tr th {\n",
              "        vertical-align: top;\n",
              "    }\n",
              "\n",
              "    .dataframe thead th {\n",
              "        text-align: right;\n",
              "    }\n",
              "</style>\n",
              "<table border=\"1\" class=\"dataframe\">\n",
              "  <thead>\n",
              "    <tr style=\"text-align: right;\">\n",
              "      <th></th>\n",
              "      <th>Num_Bathrooms</th>\n",
              "      <th>Num_Beds</th>\n",
              "      <th>BER_class</th>\n",
              "      <th>Description</th>\n",
              "      <th>Services</th>\n",
              "      <th>Features</th>\n",
              "      <th>Latitude</th>\n",
              "      <th>Longitude</th>\n",
              "      <th>Type</th>\n",
              "      <th>Surface</th>\n",
              "    </tr>\n",
              "    <tr>\n",
              "      <th>Index</th>\n",
              "      <th></th>\n",
              "      <th></th>\n",
              "      <th></th>\n",
              "      <th></th>\n",
              "      <th></th>\n",
              "      <th></th>\n",
              "      <th></th>\n",
              "      <th></th>\n",
              "      <th></th>\n",
              "      <th></th>\n",
              "    </tr>\n",
              "  </thead>\n",
              "  <tbody>\n",
              "    <tr>\n",
              "      <th>1</th>\n",
              "      <td>2</td>\n",
              "      <td>2</td>\n",
              "      <td>9</td>\n",
              "      <td>DNG are delighted to present to the market no....</td>\n",
              "      <td>NaN</td>\n",
              "      <td>None</td>\n",
              "      <td>53.396659</td>\n",
              "      <td>-6.438791</td>\n",
              "      <td>2</td>\n",
              "      <td>67.00</td>\n",
              "    </tr>\n",
              "    <tr>\n",
              "      <th>2</th>\n",
              "      <td>1</td>\n",
              "      <td>2</td>\n",
              "      <td>10</td>\n",
              "      <td>13 Northbrook Terrace is a charming red brick ...</td>\n",
              "      <td>NaN</td>\n",
              "      <td>Bight and Spacious interior\\nNumerous original...</td>\n",
              "      <td>53.357129</td>\n",
              "      <td>-6.239779</td>\n",
              "      <td>4</td>\n",
              "      <td>95.97</td>\n",
              "    </tr>\n",
              "    <tr>\n",
              "      <th>3</th>\n",
              "      <td>3</td>\n",
              "      <td>3</td>\n",
              "      <td>3</td>\n",
              "      <td>Welcome to No. 6 Cotter Close, an immaculately...</td>\n",
              "      <td>NaN</td>\n",
              "      <td>Special Features\\nLarge rear garden\\nGenerous ...</td>\n",
              "      <td>53.266468</td>\n",
              "      <td>-6.222771</td>\n",
              "      <td>6</td>\n",
              "      <td>107.00</td>\n",
              "    </tr>\n",
              "  </tbody>\n",
              "</table>\n",
              "</div>"
            ],
            "text/plain": [
              "       Num_Bathrooms  Num_Beds  BER_class  ... Longitude Type Surface\n",
              "Index                                      ...                       \n",
              "1                  2         2          9  ... -6.438791    2   67.00\n",
              "2                  1         2         10  ... -6.239779    4   95.97\n",
              "3                  3         3          3  ... -6.222771    6  107.00\n",
              "\n",
              "[3 rows x 10 columns]"
            ]
          },
          "metadata": {},
          "execution_count": 100
        }
      ]
    },
    {
      "cell_type": "code",
      "metadata": {
        "id": "5rq_p-D4yLBe",
        "colab": {
          "base_uri": "https://localhost:8080/",
          "height": 300
        },
        "outputId": "c62126ce-9bc6-46aa-c4b2-9ff0a3c094d5"
      },
      "source": [
        "# Generate descriptive statistics\n",
        "df_train.describe()"
      ],
      "execution_count": 101,
      "outputs": [
        {
          "output_type": "execute_result",
          "data": {
            "text/html": [
              "<div>\n",
              "<style scoped>\n",
              "    .dataframe tbody tr th:only-of-type {\n",
              "        vertical-align: middle;\n",
              "    }\n",
              "\n",
              "    .dataframe tbody tr th {\n",
              "        vertical-align: top;\n",
              "    }\n",
              "\n",
              "    .dataframe thead th {\n",
              "        text-align: right;\n",
              "    }\n",
              "</style>\n",
              "<table border=\"1\" class=\"dataframe\">\n",
              "  <thead>\n",
              "    <tr style=\"text-align: right;\">\n",
              "      <th></th>\n",
              "      <th>Num_Bathrooms</th>\n",
              "      <th>Num_Beds</th>\n",
              "      <th>BER_class</th>\n",
              "      <th>Latitude</th>\n",
              "      <th>Longitude</th>\n",
              "      <th>Type</th>\n",
              "      <th>Surface</th>\n",
              "    </tr>\n",
              "  </thead>\n",
              "  <tbody>\n",
              "    <tr>\n",
              "      <th>count</th>\n",
              "      <td>1515.000000</td>\n",
              "      <td>1515.000000</td>\n",
              "      <td>1515.000000</td>\n",
              "      <td>1515.000000</td>\n",
              "      <td>1515.000000</td>\n",
              "      <td>1515.000000</td>\n",
              "      <td>1515.000000</td>\n",
              "    </tr>\n",
              "    <tr>\n",
              "      <th>mean</th>\n",
              "      <td>1.891749</td>\n",
              "      <td>2.870627</td>\n",
              "      <td>10.976898</td>\n",
              "      <td>53.351428</td>\n",
              "      <td>-6.258639</td>\n",
              "      <td>4.382178</td>\n",
              "      <td>101.688193</td>\n",
              "    </tr>\n",
              "    <tr>\n",
              "      <th>std</th>\n",
              "      <td>0.908003</td>\n",
              "      <td>1.040349</td>\n",
              "      <td>3.772790</td>\n",
              "      <td>0.076369</td>\n",
              "      <td>0.147498</td>\n",
              "      <td>2.085003</td>\n",
              "      <td>41.188026</td>\n",
              "    </tr>\n",
              "    <tr>\n",
              "      <th>min</th>\n",
              "      <td>1.000000</td>\n",
              "      <td>1.000000</td>\n",
              "      <td>1.000000</td>\n",
              "      <td>52.501856</td>\n",
              "      <td>-6.497000</td>\n",
              "      <td>0.000000</td>\n",
              "      <td>3.400000</td>\n",
              "    </tr>\n",
              "    <tr>\n",
              "      <th>25%</th>\n",
              "      <td>1.000000</td>\n",
              "      <td>2.000000</td>\n",
              "      <td>8.000000</td>\n",
              "      <td>53.296689</td>\n",
              "      <td>-6.313427</td>\n",
              "      <td>2.000000</td>\n",
              "      <td>70.780000</td>\n",
              "    </tr>\n",
              "    <tr>\n",
              "      <th>50%</th>\n",
              "      <td>2.000000</td>\n",
              "      <td>3.000000</td>\n",
              "      <td>11.000000</td>\n",
              "      <td>53.343055</td>\n",
              "      <td>-6.250368</td>\n",
              "      <td>4.000000</td>\n",
              "      <td>94.300000</td>\n",
              "    </tr>\n",
              "    <tr>\n",
              "      <th>75%</th>\n",
              "      <td>2.000000</td>\n",
              "      <td>4.000000</td>\n",
              "      <td>14.000000</td>\n",
              "      <td>53.382792</td>\n",
              "      <td>-6.199124</td>\n",
              "      <td>6.000000</td>\n",
              "      <td>125.000000</td>\n",
              "    </tr>\n",
              "    <tr>\n",
              "      <th>max</th>\n",
              "      <td>9.000000</td>\n",
              "      <td>9.000000</td>\n",
              "      <td>17.000000</td>\n",
              "      <td>53.617028</td>\n",
              "      <td>-1.744995</td>\n",
              "      <td>9.000000</td>\n",
              "      <td>227.980000</td>\n",
              "    </tr>\n",
              "  </tbody>\n",
              "</table>\n",
              "</div>"
            ],
            "text/plain": [
              "       Num_Bathrooms     Num_Beds  ...         Type      Surface\n",
              "count    1515.000000  1515.000000  ...  1515.000000  1515.000000\n",
              "mean        1.891749     2.870627  ...     4.382178   101.688193\n",
              "std         0.908003     1.040349  ...     2.085003    41.188026\n",
              "min         1.000000     1.000000  ...     0.000000     3.400000\n",
              "25%         1.000000     2.000000  ...     2.000000    70.780000\n",
              "50%         2.000000     3.000000  ...     4.000000    94.300000\n",
              "75%         2.000000     4.000000  ...     6.000000   125.000000\n",
              "max         9.000000     9.000000  ...     9.000000   227.980000\n",
              "\n",
              "[8 rows x 7 columns]"
            ]
          },
          "metadata": {},
          "execution_count": 101
        }
      ]
    },
    {
      "cell_type": "markdown",
      "metadata": {
        "id": "Iqg9_uxFyZli"
      },
      "source": [
        "### Test dataset"
      ]
    },
    {
      "cell_type": "code",
      "metadata": {
        "id": "bw2_yypxMfsi",
        "colab": {
          "base_uri": "https://localhost:8080/",
          "height": 175
        },
        "outputId": "e5e18c9a-bca9-4754-9670-d45c2839eeb6"
      },
      "source": [
        "# show first data frame rows \n",
        "df_test.head(3)"
      ],
      "execution_count": 102,
      "outputs": [
        {
          "output_type": "execute_result",
          "data": {
            "text/html": [
              "<div>\n",
              "<style scoped>\n",
              "    .dataframe tbody tr th:only-of-type {\n",
              "        vertical-align: middle;\n",
              "    }\n",
              "\n",
              "    .dataframe tbody tr th {\n",
              "        vertical-align: top;\n",
              "    }\n",
              "\n",
              "    .dataframe thead th {\n",
              "        text-align: right;\n",
              "    }\n",
              "</style>\n",
              "<table border=\"1\" class=\"dataframe\">\n",
              "  <thead>\n",
              "    <tr style=\"text-align: right;\">\n",
              "      <th></th>\n",
              "      <th>Num_Bathrooms</th>\n",
              "      <th>Num_Beds</th>\n",
              "      <th>BER_class</th>\n",
              "      <th>Description</th>\n",
              "      <th>Services</th>\n",
              "      <th>Features</th>\n",
              "      <th>Latitude</th>\n",
              "      <th>Longitude</th>\n",
              "      <th>Type</th>\n",
              "      <th>Surface</th>\n",
              "    </tr>\n",
              "    <tr>\n",
              "      <th>Index</th>\n",
              "      <th></th>\n",
              "      <th></th>\n",
              "      <th></th>\n",
              "      <th></th>\n",
              "      <th></th>\n",
              "      <th></th>\n",
              "      <th></th>\n",
              "      <th></th>\n",
              "      <th></th>\n",
              "      <th></th>\n",
              "    </tr>\n",
              "  </thead>\n",
              "  <tbody>\n",
              "    <tr>\n",
              "      <th>1639</th>\n",
              "      <td>2</td>\n",
              "      <td>2</td>\n",
              "      <td>8</td>\n",
              "      <td>OMD Estate Agents are delighted to present thi...</td>\n",
              "      <td>Parking,Oil Fired Central Heating</td>\n",
              "      <td>Designated parking spaces\\nPresented in pristi...</td>\n",
              "      <td>53.316269</td>\n",
              "      <td>-6.243391</td>\n",
              "      <td>5</td>\n",
              "      <td>65.0</td>\n",
              "    </tr>\n",
              "    <tr>\n",
              "      <th>1640</th>\n",
              "      <td>2</td>\n",
              "      <td>5</td>\n",
              "      <td>12</td>\n",
              "      <td>Welcome to Saint Anthony No.214 Glasnevin Aven...</td>\n",
              "      <td>Parking,Gas Fired Central Heating</td>\n",
              "      <td>Modern Worcester Gas Boiler\\nSingle Glazed Win...</td>\n",
              "      <td>53.390769</td>\n",
              "      <td>-6.281936</td>\n",
              "      <td>6</td>\n",
              "      <td>142.0</td>\n",
              "    </tr>\n",
              "    <tr>\n",
              "      <th>1641</th>\n",
              "      <td>1</td>\n",
              "      <td>2</td>\n",
              "      <td>15</td>\n",
              "      <td>Located in this ever popular road, on grounds ...</td>\n",
              "      <td>NaN</td>\n",
              "      <td>2 BEDROOM DETACHED HOUSE ON  1/5th ACRE\\nOIL F...</td>\n",
              "      <td>53.272486</td>\n",
              "      <td>-6.108675</td>\n",
              "      <td>8</td>\n",
              "      <td>80.0</td>\n",
              "    </tr>\n",
              "  </tbody>\n",
              "</table>\n",
              "</div>"
            ],
            "text/plain": [
              "       Num_Bathrooms  Num_Beds  BER_class  ... Longitude Type Surface\n",
              "Index                                      ...                       \n",
              "1639               2         2          8  ... -6.243391    5    65.0\n",
              "1640               2         5         12  ... -6.281936    6   142.0\n",
              "1641               1         2         15  ... -6.108675    8    80.0\n",
              "\n",
              "[3 rows x 10 columns]"
            ]
          },
          "metadata": {},
          "execution_count": 102
        }
      ]
    },
    {
      "cell_type": "code",
      "metadata": {
        "id": "FXo0x2u7T7-1",
        "colab": {
          "base_uri": "https://localhost:8080/",
          "height": 300
        },
        "outputId": "9baa482f-1f63-45b4-f910-fb7647dda1d0"
      },
      "source": [
        "# Generate descriptive statistics\n",
        "df_test.describe()"
      ],
      "execution_count": 103,
      "outputs": [
        {
          "output_type": "execute_result",
          "data": {
            "text/html": [
              "<div>\n",
              "<style scoped>\n",
              "    .dataframe tbody tr th:only-of-type {\n",
              "        vertical-align: middle;\n",
              "    }\n",
              "\n",
              "    .dataframe tbody tr th {\n",
              "        vertical-align: top;\n",
              "    }\n",
              "\n",
              "    .dataframe thead th {\n",
              "        text-align: right;\n",
              "    }\n",
              "</style>\n",
              "<table border=\"1\" class=\"dataframe\">\n",
              "  <thead>\n",
              "    <tr style=\"text-align: right;\">\n",
              "      <th></th>\n",
              "      <th>Num_Bathrooms</th>\n",
              "      <th>Num_Beds</th>\n",
              "      <th>BER_class</th>\n",
              "      <th>Latitude</th>\n",
              "      <th>Longitude</th>\n",
              "      <th>Type</th>\n",
              "      <th>Surface</th>\n",
              "    </tr>\n",
              "  </thead>\n",
              "  <tbody>\n",
              "    <tr>\n",
              "      <th>count</th>\n",
              "      <td>702.000000</td>\n",
              "      <td>702.000000</td>\n",
              "      <td>702.000000</td>\n",
              "      <td>702.000000</td>\n",
              "      <td>702.000000</td>\n",
              "      <td>702.000000</td>\n",
              "      <td>702.000000</td>\n",
              "    </tr>\n",
              "    <tr>\n",
              "      <th>mean</th>\n",
              "      <td>2.027066</td>\n",
              "      <td>2.987179</td>\n",
              "      <td>10.968661</td>\n",
              "      <td>53.350445</td>\n",
              "      <td>-6.252411</td>\n",
              "      <td>4.450142</td>\n",
              "      <td>132.603530</td>\n",
              "    </tr>\n",
              "    <tr>\n",
              "      <th>std</th>\n",
              "      <td>1.071273</td>\n",
              "      <td>1.198480</td>\n",
              "      <td>3.931894</td>\n",
              "      <td>0.073961</td>\n",
              "      <td>0.091600</td>\n",
              "      <td>2.182068</td>\n",
              "      <td>330.347066</td>\n",
              "    </tr>\n",
              "    <tr>\n",
              "      <th>min</th>\n",
              "      <td>1.000000</td>\n",
              "      <td>1.000000</td>\n",
              "      <td>2.000000</td>\n",
              "      <td>53.214227</td>\n",
              "      <td>-6.521183</td>\n",
              "      <td>1.000000</td>\n",
              "      <td>32.100000</td>\n",
              "    </tr>\n",
              "    <tr>\n",
              "      <th>25%</th>\n",
              "      <td>1.000000</td>\n",
              "      <td>2.000000</td>\n",
              "      <td>8.000000</td>\n",
              "      <td>53.295225</td>\n",
              "      <td>-6.304258</td>\n",
              "      <td>2.000000</td>\n",
              "      <td>73.000000</td>\n",
              "    </tr>\n",
              "    <tr>\n",
              "      <th>50%</th>\n",
              "      <td>2.000000</td>\n",
              "      <td>3.000000</td>\n",
              "      <td>11.000000</td>\n",
              "      <td>53.341153</td>\n",
              "      <td>-6.247799</td>\n",
              "      <td>4.000000</td>\n",
              "      <td>99.200000</td>\n",
              "    </tr>\n",
              "    <tr>\n",
              "      <th>75%</th>\n",
              "      <td>3.000000</td>\n",
              "      <td>4.000000</td>\n",
              "      <td>14.000000</td>\n",
              "      <td>53.381752</td>\n",
              "      <td>-6.184277</td>\n",
              "      <td>6.000000</td>\n",
              "      <td>136.875000</td>\n",
              "    </tr>\n",
              "    <tr>\n",
              "      <th>max</th>\n",
              "      <td>9.000000</td>\n",
              "      <td>14.000000</td>\n",
              "      <td>17.000000</td>\n",
              "      <td>53.617443</td>\n",
              "      <td>-6.057150</td>\n",
              "      <td>9.000000</td>\n",
              "      <td>8576.000000</td>\n",
              "    </tr>\n",
              "  </tbody>\n",
              "</table>\n",
              "</div>"
            ],
            "text/plain": [
              "       Num_Bathrooms    Num_Beds  ...        Type      Surface\n",
              "count     702.000000  702.000000  ...  702.000000   702.000000\n",
              "mean        2.027066    2.987179  ...    4.450142   132.603530\n",
              "std         1.071273    1.198480  ...    2.182068   330.347066\n",
              "min         1.000000    1.000000  ...    1.000000    32.100000\n",
              "25%         1.000000    2.000000  ...    2.000000    73.000000\n",
              "50%         2.000000    3.000000  ...    4.000000    99.200000\n",
              "75%         3.000000    4.000000  ...    6.000000   136.875000\n",
              "max         9.000000   14.000000  ...    9.000000  8576.000000\n",
              "\n",
              "[8 rows x 7 columns]"
            ]
          },
          "metadata": {},
          "execution_count": 103
        }
      ]
    },
    {
      "cell_type": "markdown",
      "metadata": {
        "id": "UjMH1CSEUA1A"
      },
      "source": [
        "### Expected Cost dataset"
      ]
    },
    {
      "cell_type": "code",
      "metadata": {
        "colab": {
          "base_uri": "https://localhost:8080/"
        },
        "id": "ELbh77iidWrj",
        "outputId": "a69c2d7b-b342-42d3-ebf4-34ea0526d557"
      },
      "source": [
        "df_cost.head()"
      ],
      "execution_count": 104,
      "outputs": [
        {
          "output_type": "execute_result",
          "data": {
            "text/plain": [
              "Index\n",
              "1    195000\n",
              "2    425000\n",
              "3    535000\n",
              "4    499000\n",
              "5    510000\n",
              "Name: Price, dtype: int64"
            ]
          },
          "metadata": {},
          "execution_count": 104
        }
      ]
    },
    {
      "cell_type": "code",
      "metadata": {
        "id": "7p63sCZeUNx3",
        "colab": {
          "base_uri": "https://localhost:8080/"
        },
        "outputId": "b06b69dd-d548-4ea4-ac44-6ccb1af86503"
      },
      "source": [
        "# # Generate descriptive statistics\n",
        "df_cost.describe()"
      ],
      "execution_count": 105,
      "outputs": [
        {
          "output_type": "execute_result",
          "data": {
            "text/plain": [
              "count    1.515000e+03\n",
              "mean     4.498256e+05\n",
              "std      2.382571e+05\n",
              "min      1.999500e+04\n",
              "25%      2.850000e+05\n",
              "50%      3.850000e+05\n",
              "75%      5.450000e+05\n",
              "max      2.000000e+06\n",
              "Name: Price, dtype: float64"
            ]
          },
          "metadata": {},
          "execution_count": 105
        }
      ]
    },
    {
      "cell_type": "markdown",
      "metadata": {
        "id": "G5oRiZxo2gpN"
      },
      "source": [
        "# NATURAL LANGUAGE PROCESSING"
      ]
    },
    {
      "cell_type": "markdown",
      "metadata": {
        "id": "e8s0Wi3a8yjN"
      },
      "source": [
        "Natural language processing ([NLP](https://en.wikipedia.org/wiki/Natural_language_processing)) is a subfield of linguistics, computer science, and artificial intelligence.\n",
        "\n",
        "* NLP concerned with the interactions between computers and human language.\n",
        "* In particular how to program computers to process and analyze large amounts of natural language data. \n",
        "* The goal is a computer capable of \"understanding\" the contents of documents.\n",
        "* Including the contextual nuances of the language within them. \n",
        "* The technology can then accurately extract information and insights contained in the documents.\n",
        "* As well as categorize and organize the documents themselves. "
      ]
    },
    {
      "cell_type": "markdown",
      "metadata": {
        "id": "oValFP-z2gpN"
      },
      "source": [
        "Your comments, explanation, and references here."
      ]
    },
    {
      "cell_type": "markdown",
      "metadata": {
        "id": "f5RitlSzWGnO"
      },
      "source": [
        "### NLP of Text data"
      ]
    },
    {
      "cell_type": "code",
      "metadata": {
        "id": "MQubAhQ3icYr"
      },
      "source": [
        "from sklearn.feature_extraction.text import TfidfVectorizer\n",
        "from scipy.sparse import hstack\n",
        "\n",
        "from sklearn.linear_model import LogisticRegression as LogReg\n",
        "from sklearn.ensemble import RandomForestRegressor as rfr\n",
        "from sklearn.tree import DecisionTreeRegressor as dtr\n",
        "from  sklearn.metrics import mean_squared_error, mean_absolute_error\n"
      ],
      "execution_count": 106,
      "outputs": []
    },
    {
      "cell_type": "code",
      "metadata": {
        "colab": {
          "base_uri": "https://localhost:8080/",
          "height": 238
        },
        "id": "sq6rXVYG08YY",
        "outputId": "3bf7ff0d-8c0f-462c-dca1-92f04dfc6423"
      },
      "source": [
        "nlp_features = [\"Description\",\"Services\", \"Features\"] \n",
        "df_train_text =df_train[nlp_features]\n",
        "df_train_text.head()"
      ],
      "execution_count": 107,
      "outputs": [
        {
          "output_type": "execute_result",
          "data": {
            "text/html": [
              "<div>\n",
              "<style scoped>\n",
              "    .dataframe tbody tr th:only-of-type {\n",
              "        vertical-align: middle;\n",
              "    }\n",
              "\n",
              "    .dataframe tbody tr th {\n",
              "        vertical-align: top;\n",
              "    }\n",
              "\n",
              "    .dataframe thead th {\n",
              "        text-align: right;\n",
              "    }\n",
              "</style>\n",
              "<table border=\"1\" class=\"dataframe\">\n",
              "  <thead>\n",
              "    <tr style=\"text-align: right;\">\n",
              "      <th></th>\n",
              "      <th>Description</th>\n",
              "      <th>Services</th>\n",
              "      <th>Features</th>\n",
              "    </tr>\n",
              "    <tr>\n",
              "      <th>Index</th>\n",
              "      <th></th>\n",
              "      <th></th>\n",
              "      <th></th>\n",
              "    </tr>\n",
              "  </thead>\n",
              "  <tbody>\n",
              "    <tr>\n",
              "      <th>1</th>\n",
              "      <td>DNG are delighted to present to the market no....</td>\n",
              "      <td>NaN</td>\n",
              "      <td>None</td>\n",
              "    </tr>\n",
              "    <tr>\n",
              "      <th>2</th>\n",
              "      <td>13 Northbrook Terrace is a charming red brick ...</td>\n",
              "      <td>NaN</td>\n",
              "      <td>Bight and Spacious interior\\nNumerous original...</td>\n",
              "    </tr>\n",
              "    <tr>\n",
              "      <th>3</th>\n",
              "      <td>Welcome to No. 6 Cotter Close, an immaculately...</td>\n",
              "      <td>NaN</td>\n",
              "      <td>Special Features\\nLarge rear garden\\nGenerous ...</td>\n",
              "    </tr>\n",
              "    <tr>\n",
              "      <th>4</th>\n",
              "      <td>Welcome to 3 Sycamore Walk!\\n\\r\\nEnjoying a pr...</td>\n",
              "      <td>NaN</td>\n",
              "      <td>Wonderful 3 bed detached bungalow.     \\nAccom...</td>\n",
              "    </tr>\n",
              "    <tr>\n",
              "      <th>5</th>\n",
              "      <td>'Four Seasons' comes to the market as a wonder...</td>\n",
              "      <td>NaN</td>\n",
              "      <td>Detached Property      \\nDouble Glazed Windows...</td>\n",
              "    </tr>\n",
              "  </tbody>\n",
              "</table>\n",
              "</div>"
            ],
            "text/plain": [
              "                                             Description  ...                                           Features\n",
              "Index                                                     ...                                                   \n",
              "1      DNG are delighted to present to the market no....  ...                                               None\n",
              "2      13 Northbrook Terrace is a charming red brick ...  ...  Bight and Spacious interior\\nNumerous original...\n",
              "3      Welcome to No. 6 Cotter Close, an immaculately...  ...  Special Features\\nLarge rear garden\\nGenerous ...\n",
              "4      Welcome to 3 Sycamore Walk!\\n\\r\\nEnjoying a pr...  ...  Wonderful 3 bed detached bungalow.     \\nAccom...\n",
              "5      'Four Seasons' comes to the market as a wonder...  ...  Detached Property      \\nDouble Glazed Windows...\n",
              "\n",
              "[5 rows x 3 columns]"
            ]
          },
          "metadata": {},
          "execution_count": 107
        }
      ]
    },
    {
      "cell_type": "code",
      "metadata": {
        "colab": {
          "base_uri": "https://localhost:8080/"
        },
        "id": "mQBsQ9KUru2G",
        "outputId": "2e9b6868-29a5-4af9-eaa0-a8b4af86cdcd"
      },
      "source": [
        "df_train_text.isna().sum()"
      ],
      "execution_count": 108,
      "outputs": [
        {
          "output_type": "execute_result",
          "data": {
            "text/plain": [
              "Description      0\n",
              "Services       966\n",
              "Features         0\n",
              "dtype: int64"
            ]
          },
          "metadata": {},
          "execution_count": 108
        }
      ]
    },
    {
      "cell_type": "code",
      "metadata": {
        "id": "xmNv4lg2XeEb"
      },
      "source": [
        "def nlp_tasks(data, min_chars = 3):\n",
        "  \"\"\"\n",
        "  Function performing all the NLP pre-processing tasks to an Pandas DataFrame\n",
        "  Tasks are as follows:\n",
        "  1.Remove all characters which are not letters\n",
        "  2.Remove all short words under a lenght defined by min_chars \n",
        "  3.Convert everything to lower case\n",
        "  4.Tokenization of all words\n",
        "  5.Remove all stop words \n",
        "  6.De-tokenization \n",
        "\n",
        "  Args:\n",
        "  data: Pandas Dataframe containing object or text only features\n",
        "  min_chars: Integer defining the minimun length of words to retained, default = 3\n",
        "\n",
        "  Returns:\n",
        "  Pandas DataFrame after applying the NLP preprocessing tasks\n",
        "  \n",
        "  \"\"\"\n",
        "\n",
        "  # I will replace all NaN with an empty string to make it the data easier to process\n",
        "  data.replace(np.nan, \"\", inplace=True)\n",
        "\n",
        "  for col in data.columns:\n",
        "    text_list = data[col].tolist()\n",
        "    text_df = pd.DataFrame({col : text_list})\n",
        "\n",
        "    # removing everything except letters\n",
        "    text_df[col] = text_df[col].str.replace(\"[^a-zA-Z#]\", \" \")\n",
        "\n",
        "    # removing short words, this is user defined by the variable min_chars\n",
        "    text_df[col] = text_df[col].apply(lambda x: ' '.join([w for w in x.split() if len(w)>min_chars]))\n",
        "\n",
        "    # make all text lowercase\n",
        "    text_df[col] = text_df[col].apply(lambda x: x.lower())\n",
        "    \n",
        "    # tokenization\n",
        "    tokenized_doc = text_df[col].apply(lambda x: x.split())\n",
        "    # remove stop-words\n",
        "    tokenized_doc = tokenized_doc.apply(lambda x: [item for item in x if item not in stop_words])\n",
        "    \n",
        "    # de-tokenization\n",
        "    detokenized_doc = []\n",
        "    for i in range(len(text_df)):\n",
        "      t = ' '.join(tokenized_doc[i])\n",
        "      detokenized_doc.append(t)\n",
        "    \n",
        "    data[col] = detokenized_doc\n",
        "    \n",
        "  return data"
      ],
      "execution_count": 109,
      "outputs": []
    },
    {
      "cell_type": "code",
      "metadata": {
        "id": "xjmBlzGz3f5q"
      },
      "source": [
        "#####################################################################################################################################################################################################################\n",
        "#####################################################################################################################################################################################################################"
      ],
      "execution_count": 110,
      "outputs": []
    },
    {
      "cell_type": "code",
      "metadata": {
        "id": "Z2s_ZbMxQl2N"
      },
      "source": [
        "# Rough Work, was trying to see if I could create function to find a set of all bigrams or trigrams to investigate further\n",
        "\n",
        "\n",
        "# from nltk import ngrams\n",
        "# def find_ngrams(data, k=2):\n",
        "#   n_gram = []\n",
        "#   for feat in data:\n",
        "#     for example in feat:\n",
        "#       n_gram = str(ngrams(feat.split(),k))\n",
        "\n",
        "#   return n_gram\n",
        "\n",
        "# grams = find_ngrams(df_train_txt_clean)\n",
        "\n",
        "\n",
        "# from nltk.util import ngrams\n",
        "# def ngramconvert(df,n=3):\n",
        "#     df_new = pd.DataFrame()\n",
        "#     for item in df.columns:\n",
        "#         df_new['new'+item]=df[item].apply(lambda sentence: list(ngrams(sentence.split(), n)))\n",
        "#     return df_new\n",
        "# df_train_txt_clean.columns"
      ],
      "execution_count": 111,
      "outputs": []
    },
    {
      "cell_type": "markdown",
      "metadata": {
        "id": "h5p8yZ4kffgr"
      },
      "source": [
        "### Retrain NLP with all data combined "
      ]
    },
    {
      "cell_type": "code",
      "metadata": {
        "id": "LGjvW9Axd7g0"
      },
      "source": [
        "all_txt = pd.concat([df_train[nlp_features], df_test[nlp_features]])"
      ],
      "execution_count": 112,
      "outputs": []
    },
    {
      "cell_type": "code",
      "metadata": {
        "id": "TUgMqk3Ieu9o"
      },
      "source": [
        "all_clean_txt = nlp_tasks(all_txt)"
      ],
      "execution_count": 113,
      "outputs": []
    },
    {
      "cell_type": "markdown",
      "metadata": {
        "id": "vl45nszdfvpN"
      },
      "source": [
        "##### TF-IDF Vectorization"
      ]
    },
    {
      "cell_type": "code",
      "metadata": {
        "colab": {
          "base_uri": "https://localhost:8080/"
        },
        "id": "JdyJJFsegPK-",
        "outputId": "1d8da205-89d9-4ebe-e831-5d3a1c0b2fcc"
      },
      "source": [
        "from sklearn.feature_extraction.text import TfidfVectorizer\n",
        "\n",
        "vectorizer = TfidfVectorizer(stop_words='english', ngram_range = (1,2),  max_df=0.5, smooth_idf=True) #max_features= 300,\n",
        "print(vectorizer)"
      ],
      "execution_count": 114,
      "outputs": [
        {
          "output_type": "stream",
          "name": "stdout",
          "text": [
            "TfidfVectorizer(analyzer='word', binary=False, decode_error='strict',\n",
            "                dtype=<class 'numpy.float64'>, encoding='utf-8',\n",
            "                input='content', lowercase=True, max_df=0.5, max_features=None,\n",
            "                min_df=1, ngram_range=(1, 2), norm='l2', preprocessor=None,\n",
            "                smooth_idf=True, stop_words='english', strip_accents=None,\n",
            "                sublinear_tf=False, token_pattern='(?u)\\\\b\\\\w\\\\w+\\\\b',\n",
            "                tokenizer=None, use_idf=True, vocabulary=None)\n"
          ]
        }
      ]
    },
    {
      "cell_type": "code",
      "metadata": {
        "id": "qQip-ovEeu6w"
      },
      "source": [
        "XA = vectorizer.fit_transform(all_clean_txt['Description'])\n",
        "XB = vectorizer.fit_transform(all_clean_txt['Services'])\n",
        "XC = vectorizer.fit_transform(all_clean_txt['Features'])"
      ],
      "execution_count": 115,
      "outputs": []
    },
    {
      "cell_type": "code",
      "metadata": {
        "colab": {
          "base_uri": "https://localhost:8080/"
        },
        "id": "-juGJE5Teu3j",
        "outputId": "13cd198d-6cc2-475a-a45e-0b719e907e80"
      },
      "source": [
        "from scipy.sparse import hstack\n",
        "\n",
        "X_total =hstack((XA,XB,XC),format='csr')\n",
        "#X1.shape\n",
        "#X2.shape\n",
        "#X3.shape\n",
        "X_total.shape"
      ],
      "execution_count": 116,
      "outputs": [
        {
          "output_type": "execute_result",
          "data": {
            "text/plain": [
              "(2217, 151898)"
            ]
          },
          "metadata": {},
          "execution_count": 116
        }
      ]
    },
    {
      "cell_type": "code",
      "metadata": {
        "colab": {
          "base_uri": "https://localhost:8080/"
        },
        "id": "-dbfabm2eu0U",
        "outputId": "51d326db-6068-44f1-d779-8e719071ebc5"
      },
      "source": [
        "X_train_full = X_total[0:len(df_train),:]\n",
        "y_full = df_cost\n",
        "\n",
        "print(X_train_full.shape)\n",
        "print(y_full.shape)\n"
      ],
      "execution_count": 117,
      "outputs": [
        {
          "output_type": "stream",
          "name": "stdout",
          "text": [
            "(1515, 151898)\n",
            "(1515,)\n"
          ]
        }
      ]
    },
    {
      "cell_type": "code",
      "metadata": {
        "colab": {
          "base_uri": "https://localhost:8080/"
        },
        "id": "3bmQKeYhgPTl",
        "outputId": "1f982fca-c6f6-4211-9452-7d59c0ca2e2e"
      },
      "source": [
        "X_submission = X_total[len(df_train):,:]\n",
        "\n",
        "print(X_submission.shape)"
      ],
      "execution_count": 118,
      "outputs": [
        {
          "output_type": "stream",
          "name": "stdout",
          "text": [
            "(702, 151898)\n"
          ]
        }
      ]
    },
    {
      "cell_type": "code",
      "metadata": {
        "id": "OXV52mDihC18"
      },
      "source": [
        "X_train, X_val, y_train, y_val = train_test_split(X_train_full, y_full, test_size = 0.30, random_state = 0)"
      ],
      "execution_count": 119,
      "outputs": []
    },
    {
      "cell_type": "markdown",
      "metadata": {
        "id": "m-KYhFh859c-"
      },
      "source": [
        "Training the NLP features into a regression model to make predictions on the test set\n",
        "\n",
        "WIP: trying different algorithms to see what works\n",
        "\n",
        "Need to revisist: see if I can incorporate these NLP features with the existing numerical and encoded features and use that data to build a prediction model"
      ]
    },
    {
      "cell_type": "markdown",
      "metadata": {
        "id": "wEOqM0YmKNbm"
      },
      "source": [
        "##### Random Forest Regressor "
      ]
    },
    {
      "cell_type": "code",
      "metadata": {
        "colab": {
          "base_uri": "https://localhost:8080/"
        },
        "id": "GqhYa-KihjgL",
        "outputId": "1a38e46c-326b-4064-f597-664f583f49ac"
      },
      "source": [
        "from sklearn.linear_model import LogisticRegression as LogReg\n",
        "from sklearn.ensemble import RandomForestRegressor as rfr\n",
        "from sklearn.tree import DecisionTreeRegressor as dtr\n",
        "\n",
        "rf_reg = rfr(n_estimators=4,criterion=\"mse\",n_jobs=-1,random_state=rand_state) # criterion=absolute_error\n",
        "rf_reg.fit(X_train, y_train)"
      ],
      "execution_count": 120,
      "outputs": [
        {
          "output_type": "execute_result",
          "data": {
            "text/plain": [
              "RandomForestRegressor(bootstrap=True, ccp_alpha=0.0, criterion='mse',\n",
              "                      max_depth=None, max_features='auto', max_leaf_nodes=None,\n",
              "                      max_samples=None, min_impurity_decrease=0.0,\n",
              "                      min_impurity_split=None, min_samples_leaf=1,\n",
              "                      min_samples_split=2, min_weight_fraction_leaf=0.0,\n",
              "                      n_estimators=4, n_jobs=-1, oob_score=False,\n",
              "                      random_state=11, verbose=0, warm_start=False)"
            ]
          },
          "metadata": {},
          "execution_count": 120
        }
      ]
    },
    {
      "cell_type": "code",
      "metadata": {
        "id": "XlujgybOhf27"
      },
      "source": [
        "# Using the model to predict House Prices\n",
        "\n",
        "prediction_train = rf_reg.predict(X_train)\n",
        "\n",
        "prediction_test = rf_reg.predict(X_val)"
      ],
      "execution_count": 121,
      "outputs": []
    },
    {
      "cell_type": "code",
      "metadata": {
        "id": "w6e19BB9ivx5"
      },
      "source": [
        "def rmsle(y_predicted, y_actual):\n",
        "  \"\"\"\n",
        "  Function to calculate the root mean squared log error(RMSLE)\n",
        "  Returns RMSLE\n",
        "  \"\"\"\n",
        "\n",
        "  return np.sqrt(mean_squared_error((np.log(y_predicted)+1),(np.log(y_actual)+1) ) )"
      ],
      "execution_count": 122,
      "outputs": []
    },
    {
      "cell_type": "code",
      "metadata": {
        "colab": {
          "base_uri": "https://localhost:8080/"
        },
        "id": "-hrWRyPkhf28",
        "outputId": "353b50d6-7e50-499c-9d44-52417492fd8f"
      },
      "source": [
        "#from  sklearn.metrics import mean_squared_error, mean_absolute_error\n",
        "\n",
        "# accuracy in training set\n",
        "y_pred_train = prediction_train\n",
        "print(\"Train Accuracy: \", rmsle(y_train,y_pred_train))\n",
        "\n",
        "# accuracy in test set (unseen data)\n",
        "y_true = y_val\n",
        "y_pred_test = prediction_test\n",
        "print(\"Validation Accuracy: \", rmsle(y_true, y_pred_test))"
      ],
      "execution_count": 123,
      "outputs": [
        {
          "output_type": "stream",
          "name": "stdout",
          "text": [
            "Train Accuracy:  0.17430242098995888\n",
            "Validation Accuracy:  0.3800969384542724\n"
          ]
        }
      ]
    },
    {
      "cell_type": "code",
      "metadata": {
        "id": "5j8WY7XWhf29"
      },
      "source": [
        "# submission_pred = pd.DataFrame(rf_reg.predict(X_submission))\n",
        "\n",
        "# index = pd.Series(df_test.index.to_list())\n",
        "# submission_data = pd.concat([index,submission_pred],axis=1)\n",
        "# submission_data.set_axis(['Index','Price'],axis=1,inplace=True)\n",
        "# submission_data.set_index('Index',inplace=True)\n",
        "# submission_data.to_csv(Path+'ET5003_Kaggle_BarryLawton_20197772.csv',index=True)"
      ],
      "execution_count": 124,
      "outputs": []
    },
    {
      "cell_type": "markdown",
      "metadata": {
        "id": "8-cJfYbYsKJO"
      },
      "source": [
        "## Building a ML model to predict house prices"
      ]
    },
    {
      "cell_type": "code",
      "metadata": {
        "id": "vQJmz7ddsJmv"
      },
      "source": [
        ""
      ],
      "execution_count": 124,
      "outputs": []
    },
    {
      "cell_type": "markdown",
      "metadata": {
        "id": "Uxc3X1O9Ugrn"
      },
      "source": [
        "# Full Regression Model\n",
        "Work in progress...."
      ]
    },
    {
      "cell_type": "code",
      "metadata": {
        "id": "bxaff6pUbBE3",
        "colab": {
          "base_uri": "https://localhost:8080/"
        },
        "outputId": "dbe019df-e485-4e49-8fcf-5be80188a019"
      },
      "source": [
        "#df_train.head()\n",
        "df_train.columns"
      ],
      "execution_count": 125,
      "outputs": [
        {
          "output_type": "execute_result",
          "data": {
            "text/plain": [
              "Index(['Num_Bathrooms', 'Num_Beds', 'BER_class', 'Description', 'Services',\n",
              "       'Features', 'Latitude', 'Longitude', 'Type', 'Surface'],\n",
              "      dtype='object')"
            ]
          },
          "metadata": {},
          "execution_count": 125
        }
      ]
    },
    {
      "cell_type": "code",
      "metadata": {
        "id": "FjAiDMT1zaps"
      },
      "source": [
        "#\n",
        "# pwise_feats_train = ['Num_Bathrooms', 'Num_Beds', 'BER_class', 'Latitude', 'Longitude', 'Surface', 'Type_apartment','Type_bungalow', 'Type_detached', 'Type_duplex',\n",
        "#                     'Type_end-of-terrace','Type_semi-detached', 'Type_site', 'Type_studio', 'Type_terraced','Type_townhouse']\n",
        "\n",
        "# pwise_feats_test = [feat for feat in pwise_feats_train if feat != 'Type_studio']\n",
        "#  'Description', 'Services','Features',"
      ],
      "execution_count": null,
      "outputs": []
    },
    {
      "cell_type": "code",
      "metadata": {
        "id": "Yv5j1KzzMUnm"
      },
      "source": [
        "pwise_feats_train = ['Num_Bathrooms', 'Num_Beds', 'BER_class','Latitude', 'Longitude', 'Type', 'Surface']\n",
        "\n",
        "# # dropna: remove missing values\n",
        "df_train_pw = df_train[pwise_feats_train].dropna(axis=0)\n",
        "df_train_cost = df_cost[df_cost.index.isin(df_train_pw.index)]\n",
        "     \n",
        "df_test_pw  =  df_test[pwise_feats_train].dropna(axis=0)\n",
        "\n",
        "# # cost\n",
        "# df_cost = df_cost[df_cost.index.isin(df_subset_test.index)]"
      ],
      "execution_count": 136,
      "outputs": []
    },
    {
      "cell_type": "code",
      "metadata": {
        "id": "sOMNXB5gxocG"
      },
      "source": [
        "#df_train[pwise_feats_train].columns"
      ],
      "execution_count": 137,
      "outputs": []
    },
    {
      "cell_type": "code",
      "metadata": {
        "id": "-MgLVNcpxkh1"
      },
      "source": [
        "#df_test[pwise_feats_test].columns"
      ],
      "execution_count": 138,
      "outputs": []
    },
    {
      "cell_type": "code",
      "metadata": {
        "id": "uWp1NaxRp-fq"
      },
      "source": [
        "X_train , X_val, y_train, y_val = train_test_split(df_train_pw,df_train_cost,test_size = 0.25, random_state = rand_state)"
      ],
      "execution_count": 139,
      "outputs": []
    },
    {
      "cell_type": "code",
      "metadata": {
        "id": "WT4BLP7vp-cq"
      },
      "source": [
        "#type(X_val)\n",
        "#y_train\n",
        "#y_val.index"
      ],
      "execution_count": 140,
      "outputs": []
    },
    {
      "cell_type": "code",
      "metadata": {
        "id": "CfnLd1iwo6z9"
      },
      "source": [
        "# train set, inputs\n",
        "Xs_train = X_train.values\n",
        "\n",
        "# train set, output variable, price\n",
        "ys_train = y_train.values.reshape(-1,1)\n",
        "\n",
        "# validation set, will be used to evaluate models performance\n",
        "Xs_val = X_val.values\n",
        "ys_val = y_val.values\n",
        "\n",
        "\n",
        "#test set, inputs, will be used to make predictions for the submission\n",
        "Xs_test = df_test_pw.values\n",
        "\n",
        "# X_train_index = X_train.index\n",
        "# y_train_index = y_train.index\n",
        "# X_val_index = X_val.index\n",
        "# y_val_index = y_val.index\n",
        "\n",
        "# X_test  = df_test_pw.index\n"
      ],
      "execution_count": 141,
      "outputs": []
    },
    {
      "cell_type": "code",
      "metadata": {
        "id": "CE07A5LTxY2i"
      },
      "source": [
        "#Xs_val.shape\n",
        "#Xs_test.shape"
      ],
      "execution_count": 142,
      "outputs": []
    },
    {
      "cell_type": "code",
      "metadata": {
        "id": "kx7sjMi0TZ-G"
      },
      "source": [
        "# StandardScaler() will normalize the features i.e. each column of X, \n",
        "# so, each column/feature/variable will have μ = 0 and σ = 1\n",
        "sc = StandardScaler()\n",
        "\n",
        "Xss_train = np.hstack([Xs_train,Xs_train[:,[2]]**2])\n",
        "xscaler = sc.fit(Xss_train)\n",
        "Xn_train = xscaler.transform(Xss_train)\n",
        "\n",
        "Xss_val = np.hstack([Xs_val,Xs_val[:,[2]]**2])\n",
        "Xn_val = xscaler.transform(Xss_val)\n",
        "\n",
        "Xss_test = np.hstack([Xs_test,Xs_test[:,[2]]**2])\n",
        "Xn_test = xscaler.transform(Xss_test)\n",
        "\n",
        "ylog = np.log(ys_train.astype('float'))\n",
        "yscaler = StandardScaler().fit(ylog)\n",
        "yn_train = yscaler.transform(ylog)"
      ],
      "execution_count": 144,
      "outputs": []
    },
    {
      "cell_type": "code",
      "metadata": {
        "id": "PZK2kfygoIDi"
      },
      "source": [
        "# model\n",
        "with pm.Model() as model:\n",
        "    #prior over the parameters of linear regression\n",
        "    alpha = pm.Normal('alpha', mu=0, sigma=30)\n",
        "    #we have one beta for each column of Xn\n",
        "    beta = pm.Normal('beta', mu=0, sigma=30, shape=Xn_train.shape[1])\n",
        "    #prior over the variance of the noise\n",
        "    sigma = pm.HalfCauchy('sigma_n', 5)\n",
        "    #linear regression model in matrix form\n",
        "    mu = alpha + pm.math.dot(beta, Xn_train.T)\n",
        "    #likelihood, be sure that observed is a 1d vector\n",
        "    like = pm.Normal('like', mu=mu, sigma=sigma, observed=yn_train[:,0])\n",
        "    "
      ],
      "execution_count": 145,
      "outputs": []
    },
    {
      "cell_type": "code",
      "metadata": {
        "id": "5AZgLW40oIDi",
        "colab": {
          "base_uri": "https://localhost:8080/",
          "height": 303
        },
        "outputId": "910d6905-df0c-4123-c913-5b708d1da8a7"
      },
      "source": [
        "#number of iterations of the algorithms\n",
        "iter = 70000 \n",
        "\n",
        "# run the model\n",
        "with model:\n",
        "    approximation = pm.fit(iter,method='advi')\n",
        "    \n",
        "# check the convergence\n",
        "plt.plot(approximation.hist);"
      ],
      "execution_count": 153,
      "outputs": [
        {
          "output_type": "display_data",
          "data": {
            "text/html": [
              "\n",
              "    <div>\n",
              "        <style>\n",
              "            /* Turns off some styling */\n",
              "            progress {\n",
              "                /* gets rid of default border in Firefox and Opera. */\n",
              "                border: none;\n",
              "                /* Needs to be in here for Safari polyfill so background images work as expected. */\n",
              "                background-size: auto;\n",
              "            }\n",
              "            .progress-bar-interrupted, .progress-bar-interrupted::-webkit-progress-bar {\n",
              "                background: #F44336;\n",
              "            }\n",
              "        </style>\n",
              "      <progress value='70000' class='' max='70000' style='width:300px; height:20px; vertical-align: middle;'></progress>\n",
              "      100.00% [70000/70000 00:08<00:00 Average Loss = 1,139]\n",
              "    </div>\n",
              "    "
            ],
            "text/plain": [
              "<IPython.core.display.HTML object>"
            ]
          },
          "metadata": {}
        },
        {
          "output_type": "stream",
          "name": "stderr",
          "text": [
            "Finished [100%]: Average Loss = 1,139\n"
          ]
        },
        {
          "output_type": "display_data",
          "data": {
            "image/png": "[encoded data removed]",
            "text/plain": [
              "<Figure size 432x288 with 1 Axes>"
            ]
          },
          "metadata": {
            "needs_background": "light"
          }
        }
      ]
    },
    {
      "cell_type": "code",
      "metadata": {
        "id": "o3lOwO5Qj4px"
      },
      "source": [
        "# samples from the posterior\n",
        "posterior = approximation.sample(5000)"
      ],
      "execution_count": 154,
      "outputs": []
    },
    {
      "cell_type": "code",
      "metadata": {
        "id": "cIskuS3ToIDk",
        "colab": {
          "base_uri": "https://localhost:8080/"
        },
        "outputId": "8d5a3fb8-db4d-46ef-e5db-8f5ded1f1c23"
      },
      "source": [
        "# prediction\n",
        "ll=np.mean(posterior['alpha']) + np.dot(np.mean(posterior['beta'],axis=0), Xn_val.T)\n",
        "y_pred_BLR = np.exp(yscaler.inverse_transform(ll.reshape(-1,1)))[:,0]\n",
        "print(\"RMSLE on the validation data = \",(rmsle(y_pred_BLR,ys_val)))\n",
        "print(\"MAPE on the validation data = \",(np.mean(abs(y_pred_BLR - ys_val) / ys_val)))"
      ],
      "execution_count": 155,
      "outputs": [
        {
          "output_type": "stream",
          "name": "stdout",
          "text": [
            "RMSLE on the validation data =  0.30017016685423126\n",
            "MAPE on the validation data =  0.25307312099985885\n"
          ]
        }
      ]
    },
    {
      "cell_type": "code",
      "metadata": {
        "id": "y0JvnU3Fq8Ih"
      },
      "source": [
        "ll=np.mean(posterior['alpha']) + np.dot(np.mean(posterior['beta'],axis=0), Xn_test.T)\n",
        "y_submission_BLR = np.exp(yscaler.inverse_transform(ll.reshape(-1,1)))[:,0]\n",
        "\n",
        "submission_pred = pd.DataFrame(y_submission_BLR)\n",
        "\n",
        "index = pd.Series(df_test.index.to_list())\n",
        "submission_data = pd.concat([index,submission_pred],axis=1)\n",
        "submission_data.set_axis(['Index','Price'],axis=1,inplace=True)\n",
        "submission_data.set_index('Index',inplace=True)\n",
        "submission_data.to_csv(Path+'ET5003_Kaggle_BarryLawton_20197772.csv',index=True)"
      ],
      "execution_count": 156,
      "outputs": []
    },
    {
      "cell_type": "code",
      "metadata": {
        "id": "6b_vmr8sq8DB"
      },
      "source": [
        ""
      ],
      "execution_count": 73,
      "outputs": []
    },
    {
      "cell_type": "code",
      "metadata": {
        "id": "mCAx5FQ6q8AB"
      },
      "source": [
        ""
      ],
      "execution_count": 73,
      "outputs": []
    },
    {
      "cell_type": "code",
      "metadata": {
        "id": "6eVdy38BbBBv"
      },
      "source": [
        ""
      ],
      "execution_count": 73,
      "outputs": []
    },
    {
      "cell_type": "markdown",
      "metadata": {
        "id": "bJFJQxAS9HZK"
      },
      "source": [
        "# PIECEWISE REGRESSION"
      ]
    },
    {
      "cell_type": "markdown",
      "metadata": {
        "id": "QkRchZtf6IV-"
      },
      "source": [
        "**Piecewise regression**, extract from [Wikipedia](https://en.wikipedia.org/wiki/Segmented_regression):\n",
        "\n",
        "Segmented regression, also known as piecewise regression or broken-stick regression, is a method in regression analysis in which the independent variable is partitioned into intervals and a separate line segment is fit to each interval. \n",
        "\n",
        "* Segmented regression analysis can also be performed on \n",
        "multivariate data by partitioning the various independent variables. \n",
        "* Segmented regression is useful when the independent variables, clustered into different groups, exhibit different relationships between the variables in these regions. \n",
        "\n",
        "* The boundaries between the segments are breakpoints.\n",
        "\n",
        "* Segmented linear regression is segmented regression whereby the relations in the intervals are obtained by linear regression. "
      ]
    },
    {
      "cell_type": "markdown",
      "metadata": {
        "id": "_kFgkUA85_pn"
      },
      "source": [
        "# BAYESIAN NN"
      ]
    },
    {
      "cell_type": "markdown",
      "metadata": {
        "id": "ELer5PV37ftX"
      },
      "source": [
        "A [Bayesian network](https://en.wikipedia.org/wiki/Bayesian_network) (also known as a Bayes network, Bayes net, belief network, or decision network) is a probabilistic graphical model that represents a set of variables and their conditional dependencies via a directed acyclic graph (DAG). \n",
        "\n",
        "* Bayesian networks are ideal for taking an event that occurred and predicting the likelihood that any one of several possible known causes was the contributing factor. \n",
        "* For example, a Bayesian network could represent the probabilistic relationships between diseases and symptoms. \n",
        "* Given symptoms, the network can be used to compute the probabilities of the presence of various diseases."
      ]
    },
    {
      "cell_type": "markdown",
      "metadata": {
        "id": "z0kauv1L5_po"
      },
      "source": [
        "Your comments, explanation, and references here."
      ]
    },
    {
      "cell_type": "code",
      "metadata": {
        "id": "0smpwCET5_pp"
      },
      "source": [
        "# your code here"
      ],
      "execution_count": 74,
      "outputs": []
    },
    {
      "cell_type": "markdown",
      "metadata": {
        "id": "f0GYCpwEM09T"
      },
      "source": [
        "# SUMMARY"
      ]
    },
    {
      "cell_type": "markdown",
      "metadata": {
        "id": "rBDzsZSJ7HZp"
      },
      "source": [
        "Your summary here."
      ]
    }
  ]
}