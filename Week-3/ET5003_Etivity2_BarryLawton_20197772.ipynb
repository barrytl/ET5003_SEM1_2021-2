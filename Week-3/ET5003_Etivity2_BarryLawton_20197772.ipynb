{
  "nbformat": 4,
  "nbformat_minor": 0,
  "metadata": {
    "colab": {
      "name": "ET5003_Etivity2_template.ipynb",
      "provenance": []
    },
    "kernelspec": {
      "name": "python3",
      "display_name": "Python 3"
    },
    "language_info": {
      "name": "python"
    }
  },
  "cells": [
    {
      "cell_type": "markdown",
      "metadata": {
        "id": "930vlW5BrOtq"
      },
      "source": [
        "<div>\n",
        "<img src=\"https://drive.google.com/uc?export=view&id=1vK33e_EqaHgBHcbRV_m38hx6IkG0blK_\" width=\"350\"/>\n",
        "</div> \n",
        "\n",
        "#**Artificial Intelligence - MSc**\n",
        "##ET5003 - MACHINE LEARNING APPLICATIONS \n",
        "\n",
        "###Instructor: Enrique Naredo\n",
        "###ET5003_Etivity-2"
      ]
    },
    {
      "cell_type": "code",
      "metadata": {
        "id": "LqXD_IwUQuBF",
        "cellView": "form"
      },
      "source": [
        "#@title Current Date\n",
        "Today = '2021-09-27' #@param {type:\"date\"}\n"
      ],
      "execution_count": 1,
      "outputs": []
    },
    {
      "cell_type": "code",
      "metadata": {
        "id": "uzDKau31OjVO",
        "cellView": "form"
      },
      "source": [
        "#@markdown ---\n",
        "#@markdown ### Enter your details here:\n",
        "Student_ID = \"20197772\" #@param {type:\"string\"}\n",
        "Student_full_name = \"Barry Lawton\" #@param {type:\"string\"}\n",
        "#@markdown ---"
      ],
      "execution_count": 2,
      "outputs": []
    },
    {
      "cell_type": "code",
      "metadata": {
        "id": "r39xGZckTpKx",
        "cellView": "form"
      },
      "source": [
        "#@title Notebook information\n",
        "Notebook_type = 'Example' #@param [\"Example\", \"Lab\", \"Practice\", \"Etivity\", \"Assignment\", \"Exam\"]\n",
        "Version = 'Draft' #@param [\"Draft\", \"Final\"] {type:\"raw\"}\n",
        "Submission = False #@param {type:\"boolean\"}"
      ],
      "execution_count": 3,
      "outputs": []
    },
    {
      "cell_type": "markdown",
      "metadata": {
        "id": "_A0Z6S-r6DpA"
      },
      "source": [
        "# INTRODUCTION"
      ]
    },
    {
      "cell_type": "markdown",
      "metadata": {
        "id": "QkRchZtf6IV-"
      },
      "source": [
        "**Piecewise regression**, extract from [Wikipedia](https://en.wikipedia.org/wiki/Segmented_regression):\n",
        "\n",
        "Segmented regression, also known as piecewise regression or broken-stick regression, is a method in regression analysis in which the independent variable is partitioned into intervals and a separate line segment is fit to each interval. \n",
        "\n",
        "* Segmented regression analysis can also be performed on \n",
        "multivariate data by partitioning the various independent variables. \n",
        "* Segmented regression is useful when the independent variables, clustered into different groups, exhibit different relationships between the variables in these regions. \n",
        "\n",
        "* The boundaries between the segments are breakpoints.\n",
        "\n",
        "* Segmented linear regression is segmented regression whereby the relations in the intervals are obtained by linear regression. "
      ]
    },
    {
      "cell_type": "markdown",
      "metadata": {
        "id": "aajlS0WCJ8pm"
      },
      "source": [
        "***The goal is to use advanced Machine Learning methods to predict House price.***"
      ]
    },
    {
      "cell_type": "markdown",
      "metadata": {
        "id": "Wg7VCbX77eAA"
      },
      "source": [
        "## Imports"
      ]
    },
    {
      "cell_type": "code",
      "metadata": {
        "id": "iFFLThrpwibd"
      },
      "source": [
        "# Suppressing Warnings:\n",
        "import warnings\n",
        "warnings.filterwarnings(\"ignore\")"
      ],
      "execution_count": 3,
      "outputs": []
    },
    {
      "cell_type": "code",
      "metadata": {
        "id": "d1770_fNrCWn"
      },
      "source": [
        "import pandas as pd\n",
        "import matplotlib.pyplot as plt\n",
        "import numpy as np\n",
        "import pymc3 as pm\n",
        "import arviz as az\n",
        "from sklearn.preprocessing import StandardScaler\n",
        "import seaborn as sns"
      ],
      "execution_count": 4,
      "outputs": []
    },
    {
      "cell_type": "code",
      "metadata": {
        "id": "sYPJU_Y6O6Dq"
      },
      "source": [
        "# to plot\n",
        "import matplotlib.colors\n",
        "from mpl_toolkits.mplot3d import Axes3D\n",
        "\n",
        "# to generate classification, regression and clustering datasets\n",
        "import sklearn.datasets as dt\n",
        "\n",
        "# to create data frames\n",
        "from pandas import DataFrame\n",
        "\n",
        "# to generate data from an existing dataset\n",
        "from sklearn.neighbors import KernelDensity\n",
        "from sklearn.model_selection import GridSearchCV"
      ],
      "execution_count": 5,
      "outputs": []
    },
    {
      "cell_type": "code",
      "metadata": {
        "id": "6MUJdlxSPSMM"
      },
      "source": [
        "# Define the seed so that results can be reproduced\n",
        "seed = 11\n",
        "rand_state = 11\n",
        "\n",
        "# Define the color maps for plots\n",
        "color_map = plt.cm.get_cmap('RdYlBu')\n",
        "color_map_discrete = matplotlib.colors.LinearSegmentedColormap.from_list(\"\", [\"red\",\"cyan\",\"magenta\",\"blue\"])"
      ],
      "execution_count": 6,
      "outputs": []
    },
    {
      "cell_type": "markdown",
      "metadata": {
        "id": "WL91ShB19RPw"
      },
      "source": [
        "# DATASET"
      ]
    },
    {
      "cell_type": "markdown",
      "metadata": {
        "id": "ESg5DGKWJSOf"
      },
      "source": [
        "Extract from this [paper](https://ieeexplore.ieee.org/document/9300074):\n",
        "\n",
        "* House prices are a significant impression of the economy, and its value ranges are of great concerns for the clients and property dealers. \n",
        "\n",
        "* Housing price escalate every year that eventually reinforced the need of strategy or technique that could predict house prices in future. \n",
        "\n",
        "* There are certain factors that influence house prices including physical conditions, locations, number of bedrooms and others.\n"
      ]
    },
    {
      "cell_type": "markdown",
      "metadata": {
        "id": "a8Y2pf50FlYL"
      },
      "source": [
        "1. [Download the dataset](https://github.com/UL-ET5003/ET5003_SEM1_2021-2/tree/main/Week-3). \n",
        "\n",
        "2. Upload the dataset into your folder.\n",
        "\n"
      ]
    },
    {
      "cell_type": "markdown",
      "metadata": {
        "id": "FMkdCQEmKTof"
      },
      "source": [
        "The challenge is to predict the final price of each house."
      ]
    },
    {
      "cell_type": "code",
      "metadata": {
        "colab": {
          "base_uri": "https://localhost:8080/"
        },
        "id": "I2wjRmPgLhqn",
        "outputId": "3290e00d-384e-4a70-a3c5-787207bf207b"
      },
      "source": [
        "from google.colab import drive\n",
        "drive.mount('/content/drive')"
      ],
      "execution_count": 2,
      "outputs": [
        {
          "output_type": "stream",
          "name": "stdout",
          "text": [
            "Mounted at /content/drive\n"
          ]
        }
      ]
    },
    {
      "cell_type": "code",
      "metadata": {
        "id": "4rosmH4665uJ"
      },
      "source": [
        "# training dataset: \n",
        "#training_file = syntPath+filename1\n",
        "# test dataset: \n",
        "#testing_file = syntPath+filename2\n",
        "# cost dataset: \n",
        "#cost_file = syntPath+filename3"
      ],
      "execution_count": 9,
      "outputs": []
    },
    {
      "cell_type": "code",
      "metadata": {
        "colab": {
          "base_uri": "https://localhost:8080/"
        },
        "id": "qEjpvbbOLfFB",
        "outputId": "fbb069b6-147e-4853-dbcb-da67007848a3"
      },
      "source": [
        "# Path from my google Drive\n",
        "\n",
        "Path = '/content/drive/My Drive/Data/ET5003_Etivity_2/'\n",
        "# house data\n",
        "train_data = Path + 'house_train.csv'\n",
        "test_data = Path + 'house_test.csv'\n",
        "true_price = Path + 'true_price.csv'\n",
        "\n",
        "# train data\n",
        "df_train = pd.read_csv(train_data)\n",
        "print(\"Training dataset shape : \",df_train.shape)\n",
        "\n",
        "# test data\n",
        "df_test = pd.read_csv(test_data)\n",
        "print(\"Test dataset shape : \",df_test.shape)\n",
        "\n",
        "# true price data\n",
        "df_cost = pd.read_csv(true_price)\n",
        "print(\"True Price dataset shape : \",df_cost.shape) "
      ],
      "execution_count": 7,
      "outputs": [
        {
          "output_type": "stream",
          "name": "stdout",
          "text": [
            "Training dataset shape :  (2982, 17)\n",
            "Test dataset shape :  (500, 16)\n",
            "True Price dataset shape :  (500, 2)\n"
          ]
        }
      ]
    },
    {
      "cell_type": "code",
      "metadata": {
        "id": "xfXrnM5eY4rz"
      },
      "source": [
        "# Make a copy of the origianl dataset just in case I need it later \n",
        "df_train_copy = df_train\n",
        "df_test_copy = df_test\n",
        "df_cost_copy = df_cost"
      ],
      "execution_count": 8,
      "outputs": []
    },
    {
      "cell_type": "markdown",
      "metadata": {
        "id": "tfh0wYOno-EH"
      },
      "source": [
        "## Exploratory Data Analysis"
      ]
    },
    {
      "cell_type": "code",
      "metadata": {
        "colab": {
          "base_uri": "https://localhost:8080/"
        },
        "id": "z4vCMER2PLFO",
        "outputId": "970faaac-d134-47e0-ca0b-453332a4fd04"
      },
      "source": [
        "df_train.columns"
      ],
      "execution_count": 9,
      "outputs": [
        {
          "output_type": "execute_result",
          "data": {
            "text/plain": [
              "Index(['ad_id', 'area', 'bathrooms', 'beds', 'ber_classification', 'county',\n",
              "       'description_block', 'environment', 'facility', 'features', 'latitude',\n",
              "       'longitude', 'no_of_units', 'price', 'property_category',\n",
              "       'property_type', 'surface'],\n",
              "      dtype='object')"
            ]
          },
          "metadata": {},
          "execution_count": 9
        }
      ]
    },
    {
      "cell_type": "code",
      "metadata": {
        "colab": {
          "base_uri": "https://localhost:8080/"
        },
        "id": "h6Gz-egAPLCg",
        "outputId": "3f0f5406-1098-4881-fa53-7e2f2a78e047"
      },
      "source": [
        "df_test.columns"
      ],
      "execution_count": 10,
      "outputs": [
        {
          "output_type": "execute_result",
          "data": {
            "text/plain": [
              "Index(['ad_id', 'area', 'bathrooms', 'beds', 'ber_classification', 'county',\n",
              "       'description_block', 'environment', 'facility', 'features', 'latitude',\n",
              "       'longitude', 'no_of_units', 'property_category', 'property_type',\n",
              "       'surface'],\n",
              "      dtype='object')"
            ]
          },
          "metadata": {},
          "execution_count": 10
        }
      ]
    },
    {
      "cell_type": "code",
      "metadata": {
        "colab": {
          "base_uri": "https://localhost:8080/"
        },
        "id": "5MsOuxk0PK_m",
        "outputId": "077be7d7-7a10-44cd-b570-4ed16f1af3df"
      },
      "source": [
        "df_cost.columns"
      ],
      "execution_count": 11,
      "outputs": [
        {
          "output_type": "execute_result",
          "data": {
            "text/plain": [
              "Index(['Id', 'Expected'], dtype='object')"
            ]
          },
          "metadata": {},
          "execution_count": 11
        }
      ]
    },
    {
      "cell_type": "code",
      "metadata": {
        "id": "oVx3qDz8X6Dj"
      },
      "source": [
        "# Lets make the column names consistent with df_train and df_test\n",
        "df_cost = df_cost.rename(columns={'Id':'ad_id','Expected':'price'})"
      ],
      "execution_count": 12,
      "outputs": []
    },
    {
      "cell_type": "code",
      "metadata": {
        "colab": {
          "base_uri": "https://localhost:8080/",
          "height": 265
        },
        "id": "5yEQLKDfRCoO",
        "outputId": "2ad26b7b-f5c1-4637-a26a-fe51bc467d70"
      },
      "source": [
        "df_train.sample(3)"
      ],
      "execution_count": 13,
      "outputs": [
        {
          "output_type": "execute_result",
          "data": {
            "text/html": [
              "<div>\n",
              "<style scoped>\n",
              "    .dataframe tbody tr th:only-of-type {\n",
              "        vertical-align: middle;\n",
              "    }\n",
              "\n",
              "    .dataframe tbody tr th {\n",
              "        vertical-align: top;\n",
              "    }\n",
              "\n",
              "    .dataframe thead th {\n",
              "        text-align: right;\n",
              "    }\n",
              "</style>\n",
              "<table border=\"1\" class=\"dataframe\">\n",
              "  <thead>\n",
              "    <tr style=\"text-align: right;\">\n",
              "      <th></th>\n",
              "      <th>ad_id</th>\n",
              "      <th>area</th>\n",
              "      <th>bathrooms</th>\n",
              "      <th>beds</th>\n",
              "      <th>ber_classification</th>\n",
              "      <th>county</th>\n",
              "      <th>description_block</th>\n",
              "      <th>environment</th>\n",
              "      <th>facility</th>\n",
              "      <th>features</th>\n",
              "      <th>latitude</th>\n",
              "      <th>longitude</th>\n",
              "      <th>no_of_units</th>\n",
              "      <th>price</th>\n",
              "      <th>property_category</th>\n",
              "      <th>property_type</th>\n",
              "      <th>surface</th>\n",
              "    </tr>\n",
              "  </thead>\n",
              "  <tbody>\n",
              "    <tr>\n",
              "      <th>2556</th>\n",
              "      <td>12415441</td>\n",
              "      <td>Inchicore</td>\n",
              "      <td>2.0</td>\n",
              "      <td>4.0</td>\n",
              "      <td>E1</td>\n",
              "      <td>Dublin</td>\n",
              "      <td>Stylish four bedroom south facing red brick te...</td>\n",
              "      <td>prod</td>\n",
              "      <td>Parking,Gas Fired Central Heating,Alarm,Wired ...</td>\n",
              "      <td>Year of construction 1910\\nRed brick facade\\nF...</td>\n",
              "      <td>53.337430</td>\n",
              "      <td>-6.323163</td>\n",
              "      <td>NaN</td>\n",
              "      <td>350000.0</td>\n",
              "      <td>sale</td>\n",
              "      <td>terraced</td>\n",
              "      <td>75.3</td>\n",
              "    </tr>\n",
              "    <tr>\n",
              "      <th>2592</th>\n",
              "      <td>12415990</td>\n",
              "      <td>Santry</td>\n",
              "      <td>1.0</td>\n",
              "      <td>3.0</td>\n",
              "      <td>E1</td>\n",
              "      <td>Dublin</td>\n",
              "      <td>Description\\nDNG are delighted to present this...</td>\n",
              "      <td>prod</td>\n",
              "      <td>Parking,Gas Fired Central Heating,Wired for Ca...</td>\n",
              "      <td>None</td>\n",
              "      <td>53.394434</td>\n",
              "      <td>-6.253105</td>\n",
              "      <td>NaN</td>\n",
              "      <td>350000.0</td>\n",
              "      <td>sale</td>\n",
              "      <td>semi-detached</td>\n",
              "      <td>101.0</td>\n",
              "    </tr>\n",
              "    <tr>\n",
              "      <th>2779</th>\n",
              "      <td>12423007</td>\n",
              "      <td>Harold's Cross</td>\n",
              "      <td>1.0</td>\n",
              "      <td>1.0</td>\n",
              "      <td>B3</td>\n",
              "      <td>Dublin</td>\n",
              "      <td>One bedroom apartment with one bathroom comple...</td>\n",
              "      <td>prod</td>\n",
              "      <td>Gas Fired Central Heating,Alarm,Wired for Cabl...</td>\n",
              "      <td>Highly sought after location\\nWithin walking d...</td>\n",
              "      <td>53.319743</td>\n",
              "      <td>-6.279069</td>\n",
              "      <td>NaN</td>\n",
              "      <td>250000.0</td>\n",
              "      <td>sale</td>\n",
              "      <td>apartment</td>\n",
              "      <td>53.0</td>\n",
              "    </tr>\n",
              "  </tbody>\n",
              "</table>\n",
              "</div>"
            ],
            "text/plain": [
              "         ad_id            area  ...  property_type  surface\n",
              "2556  12415441       Inchicore  ...       terraced     75.3\n",
              "2592  12415990          Santry  ...  semi-detached    101.0\n",
              "2779  12423007  Harold's Cross  ...      apartment     53.0\n",
              "\n",
              "[3 rows x 17 columns]"
            ]
          },
          "metadata": {},
          "execution_count": 13
        }
      ]
    },
    {
      "cell_type": "code",
      "metadata": {
        "colab": {
          "base_uri": "https://localhost:8080/",
          "height": 230
        },
        "id": "W3hTnZC9SND0",
        "outputId": "c43c39e1-d966-4e91-87ed-3e8dedf5f84c"
      },
      "source": [
        "df_test.head(3)"
      ],
      "execution_count": 14,
      "outputs": [
        {
          "output_type": "execute_result",
          "data": {
            "text/html": [
              "<div>\n",
              "<style scoped>\n",
              "    .dataframe tbody tr th:only-of-type {\n",
              "        vertical-align: middle;\n",
              "    }\n",
              "\n",
              "    .dataframe tbody tr th {\n",
              "        vertical-align: top;\n",
              "    }\n",
              "\n",
              "    .dataframe thead th {\n",
              "        text-align: right;\n",
              "    }\n",
              "</style>\n",
              "<table border=\"1\" class=\"dataframe\">\n",
              "  <thead>\n",
              "    <tr style=\"text-align: right;\">\n",
              "      <th></th>\n",
              "      <th>ad_id</th>\n",
              "      <th>area</th>\n",
              "      <th>bathrooms</th>\n",
              "      <th>beds</th>\n",
              "      <th>ber_classification</th>\n",
              "      <th>county</th>\n",
              "      <th>description_block</th>\n",
              "      <th>environment</th>\n",
              "      <th>facility</th>\n",
              "      <th>features</th>\n",
              "      <th>latitude</th>\n",
              "      <th>longitude</th>\n",
              "      <th>no_of_units</th>\n",
              "      <th>property_category</th>\n",
              "      <th>property_type</th>\n",
              "      <th>surface</th>\n",
              "    </tr>\n",
              "  </thead>\n",
              "  <tbody>\n",
              "    <tr>\n",
              "      <th>0</th>\n",
              "      <td>12373510</td>\n",
              "      <td>Skerries</td>\n",
              "      <td>2.0</td>\n",
              "      <td>4.0</td>\n",
              "      <td>G</td>\n",
              "      <td>Dublin</td>\n",
              "      <td>It's all in the name \"Island View\";. Truly won...</td>\n",
              "      <td>prod</td>\n",
              "      <td>Parking,Alarm,Oil Fired Central Heating</td>\n",
              "      <td>Breath-taking panoramic views radiate from thi...</td>\n",
              "      <td>53.566881</td>\n",
              "      <td>-6.101148</td>\n",
              "      <td>NaN</td>\n",
              "      <td>sale</td>\n",
              "      <td>bungalow</td>\n",
              "      <td>142.0</td>\n",
              "    </tr>\n",
              "    <tr>\n",
              "      <th>1</th>\n",
              "      <td>12422623</td>\n",
              "      <td>Lucan</td>\n",
              "      <td>2.0</td>\n",
              "      <td>3.0</td>\n",
              "      <td>C1</td>\n",
              "      <td>Dublin</td>\n",
              "      <td>REA McDonald - Lucan' s longest established es...</td>\n",
              "      <td>prod</td>\n",
              "      <td>NaN</td>\n",
              "      <td>Gas fired central heating.\\nDouble glazed wind...</td>\n",
              "      <td>53.362992</td>\n",
              "      <td>-6.452909</td>\n",
              "      <td>NaN</td>\n",
              "      <td>sale</td>\n",
              "      <td>terraced</td>\n",
              "      <td>114.0</td>\n",
              "    </tr>\n",
              "    <tr>\n",
              "      <th>2</th>\n",
              "      <td>12377408</td>\n",
              "      <td>Swords</td>\n",
              "      <td>3.0</td>\n",
              "      <td>4.0</td>\n",
              "      <td>B3</td>\n",
              "      <td>Dublin</td>\n",
              "      <td>REA Grimes are proud to present to the market ...</td>\n",
              "      <td>prod</td>\n",
              "      <td>NaN</td>\n",
              "      <td>Pristine condition throughout\\nHighly sought-a...</td>\n",
              "      <td>53.454198</td>\n",
              "      <td>-6.262964</td>\n",
              "      <td>NaN</td>\n",
              "      <td>sale</td>\n",
              "      <td>semi-detached</td>\n",
              "      <td>172.0</td>\n",
              "    </tr>\n",
              "  </tbody>\n",
              "</table>\n",
              "</div>"
            ],
            "text/plain": [
              "      ad_id      area  bathrooms  ...  property_category  property_type surface\n",
              "0  12373510  Skerries        2.0  ...               sale       bungalow   142.0\n",
              "1  12422623     Lucan        2.0  ...               sale       terraced   114.0\n",
              "2  12377408    Swords        3.0  ...               sale  semi-detached   172.0\n",
              "\n",
              "[3 rows x 16 columns]"
            ]
          },
          "metadata": {},
          "execution_count": 14
        }
      ]
    },
    {
      "cell_type": "code",
      "metadata": {
        "colab": {
          "base_uri": "https://localhost:8080/",
          "height": 206
        },
        "id": "TfcDnMb0P9to",
        "outputId": "bf3398ff-3ce2-4eb1-c2cd-7a3bde9ef8e2"
      },
      "source": [
        "df_cost.sample(5)"
      ],
      "execution_count": 15,
      "outputs": [
        {
          "output_type": "execute_result",
          "data": {
            "text/html": [
              "<div>\n",
              "<style scoped>\n",
              "    .dataframe tbody tr th:only-of-type {\n",
              "        vertical-align: middle;\n",
              "    }\n",
              "\n",
              "    .dataframe tbody tr th {\n",
              "        vertical-align: top;\n",
              "    }\n",
              "\n",
              "    .dataframe thead th {\n",
              "        text-align: right;\n",
              "    }\n",
              "</style>\n",
              "<table border=\"1\" class=\"dataframe\">\n",
              "  <thead>\n",
              "    <tr style=\"text-align: right;\">\n",
              "      <th></th>\n",
              "      <th>ad_id</th>\n",
              "      <th>price</th>\n",
              "    </tr>\n",
              "  </thead>\n",
              "  <tbody>\n",
              "    <tr>\n",
              "      <th>45</th>\n",
              "      <td>12170365</td>\n",
              "      <td>550000.0</td>\n",
              "    </tr>\n",
              "    <tr>\n",
              "      <th>0</th>\n",
              "      <td>12373510</td>\n",
              "      <td>875000.0</td>\n",
              "    </tr>\n",
              "    <tr>\n",
              "      <th>319</th>\n",
              "      <td>12425100</td>\n",
              "      <td>360000.0</td>\n",
              "    </tr>\n",
              "    <tr>\n",
              "      <th>47</th>\n",
              "      <td>12374493</td>\n",
              "      <td>275000.0</td>\n",
              "    </tr>\n",
              "    <tr>\n",
              "      <th>79</th>\n",
              "      <td>12412821</td>\n",
              "      <td>245000.0</td>\n",
              "    </tr>\n",
              "  </tbody>\n",
              "</table>\n",
              "</div>"
            ],
            "text/plain": [
              "        ad_id     price\n",
              "45   12170365  550000.0\n",
              "0    12373510  875000.0\n",
              "319  12425100  360000.0\n",
              "47   12374493  275000.0\n",
              "79   12412821  245000.0"
            ]
          },
          "metadata": {},
          "execution_count": 15
        }
      ]
    },
    {
      "cell_type": "code",
      "metadata": {
        "colab": {
          "base_uri": "https://localhost:8080/"
        },
        "id": "vmZOmH6qY_ve",
        "outputId": "9cd1cb1a-6754-4f60-fc8c-ff5798e6a48c"
      },
      "source": [
        "df_train.dtypes\n",
        "#df_test.dtypes\n",
        "#df_cost.dtypes"
      ],
      "execution_count": 16,
      "outputs": [
        {
          "output_type": "execute_result",
          "data": {
            "text/plain": [
              "ad_id                   int64\n",
              "area                   object\n",
              "bathrooms             float64\n",
              "beds                  float64\n",
              "ber_classification     object\n",
              "county                 object\n",
              "description_block      object\n",
              "environment            object\n",
              "facility               object\n",
              "features               object\n",
              "latitude              float64\n",
              "longitude             float64\n",
              "no_of_units           float64\n",
              "price                 float64\n",
              "property_category      object\n",
              "property_type          object\n",
              "surface               float64\n",
              "dtype: object"
            ]
          },
          "metadata": {},
          "execution_count": 16
        }
      ]
    },
    {
      "cell_type": "code",
      "metadata": {
        "colab": {
          "base_uri": "https://localhost:8080/"
        },
        "id": "Rcas6SVNX56u",
        "outputId": "cafa2adf-111c-4fb8-8dd6-a9e1847b3b2c"
      },
      "source": [
        "df_train.isna().sum()\n",
        "#df_test.isna().sum()"
      ],
      "execution_count": 17,
      "outputs": [
        {
          "output_type": "execute_result",
          "data": {
            "text/plain": [
              "ad_id                    0\n",
              "area                     0\n",
              "bathrooms               51\n",
              "beds                    51\n",
              "ber_classification     677\n",
              "county                   0\n",
              "description_block        0\n",
              "environment              0\n",
              "facility              2017\n",
              "features                 0\n",
              "latitude                 0\n",
              "longitude                0\n",
              "no_of_units           2923\n",
              "price                   90\n",
              "property_category        0\n",
              "property_type           51\n",
              "surface                551\n",
              "dtype: int64"
            ]
          },
          "metadata": {},
          "execution_count": 17
        }
      ]
    },
    {
      "cell_type": "markdown",
      "metadata": {
        "id": "RHdMbw0WZAEe"
      },
      "source": [
        "Now lets explore each of the variables, decide what features to extract"
      ]
    },
    {
      "cell_type": "markdown",
      "metadata": {
        "id": "FwV_5XSPZ2j1"
      },
      "source": [
        "## Numerical features"
      ]
    },
    {
      "cell_type": "code",
      "metadata": {
        "colab": {
          "base_uri": "https://localhost:8080/",
          "height": 300
        },
        "id": "eyGtnFVuawDN",
        "outputId": "1159b8cc-a485-42a6-9db3-7ce6590733a9"
      },
      "source": [
        "df_train.describe()"
      ],
      "execution_count": 18,
      "outputs": [
        {
          "output_type": "execute_result",
          "data": {
            "text/html": [
              "<div>\n",
              "<style scoped>\n",
              "    .dataframe tbody tr th:only-of-type {\n",
              "        vertical-align: middle;\n",
              "    }\n",
              "\n",
              "    .dataframe tbody tr th {\n",
              "        vertical-align: top;\n",
              "    }\n",
              "\n",
              "    .dataframe thead th {\n",
              "        text-align: right;\n",
              "    }\n",
              "</style>\n",
              "<table border=\"1\" class=\"dataframe\">\n",
              "  <thead>\n",
              "    <tr style=\"text-align: right;\">\n",
              "      <th></th>\n",
              "      <th>ad_id</th>\n",
              "      <th>bathrooms</th>\n",
              "      <th>beds</th>\n",
              "      <th>latitude</th>\n",
              "      <th>longitude</th>\n",
              "      <th>no_of_units</th>\n",
              "      <th>price</th>\n",
              "      <th>surface</th>\n",
              "    </tr>\n",
              "  </thead>\n",
              "  <tbody>\n",
              "    <tr>\n",
              "      <th>count</th>\n",
              "      <td>2.982000e+03</td>\n",
              "      <td>2931.000000</td>\n",
              "      <td>2931.000000</td>\n",
              "      <td>2982.000000</td>\n",
              "      <td>2982.000000</td>\n",
              "      <td>59.000000</td>\n",
              "      <td>2.892000e+03</td>\n",
              "      <td>2431.000000</td>\n",
              "    </tr>\n",
              "    <tr>\n",
              "      <th>mean</th>\n",
              "      <td>1.224065e+07</td>\n",
              "      <td>1.998635</td>\n",
              "      <td>2.979188</td>\n",
              "      <td>53.355991</td>\n",
              "      <td>-6.257175</td>\n",
              "      <td>7.440678</td>\n",
              "      <td>5.323536e+05</td>\n",
              "      <td>318.851787</td>\n",
              "    </tr>\n",
              "    <tr>\n",
              "      <th>std</th>\n",
              "      <td>5.793037e+05</td>\n",
              "      <td>1.291875</td>\n",
              "      <td>1.468408</td>\n",
              "      <td>0.086748</td>\n",
              "      <td>0.141906</td>\n",
              "      <td>8.937081</td>\n",
              "      <td>5.678148e+05</td>\n",
              "      <td>4389.423136</td>\n",
              "    </tr>\n",
              "    <tr>\n",
              "      <th>min</th>\n",
              "      <td>9.968870e+05</td>\n",
              "      <td>0.000000</td>\n",
              "      <td>0.000000</td>\n",
              "      <td>51.458439</td>\n",
              "      <td>-6.521183</td>\n",
              "      <td>0.000000</td>\n",
              "      <td>1.999500e+04</td>\n",
              "      <td>3.400000</td>\n",
              "    </tr>\n",
              "    <tr>\n",
              "      <th>25%</th>\n",
              "      <td>1.226813e+07</td>\n",
              "      <td>1.000000</td>\n",
              "      <td>2.000000</td>\n",
              "      <td>53.298929</td>\n",
              "      <td>-6.314064</td>\n",
              "      <td>2.000000</td>\n",
              "      <td>2.800000e+05</td>\n",
              "      <td>74.100000</td>\n",
              "    </tr>\n",
              "    <tr>\n",
              "      <th>50%</th>\n",
              "      <td>1.237758e+07</td>\n",
              "      <td>2.000000</td>\n",
              "      <td>3.000000</td>\n",
              "      <td>53.345497</td>\n",
              "      <td>-6.252254</td>\n",
              "      <td>3.000000</td>\n",
              "      <td>3.800000e+05</td>\n",
              "      <td>100.000000</td>\n",
              "    </tr>\n",
              "    <tr>\n",
              "      <th>75%</th>\n",
              "      <td>1.240294e+07</td>\n",
              "      <td>3.000000</td>\n",
              "      <td>4.000000</td>\n",
              "      <td>53.388845</td>\n",
              "      <td>-6.196049</td>\n",
              "      <td>8.000000</td>\n",
              "      <td>5.750000e+05</td>\n",
              "      <td>142.000000</td>\n",
              "    </tr>\n",
              "    <tr>\n",
              "      <th>max</th>\n",
              "      <td>1.242836e+07</td>\n",
              "      <td>18.000000</td>\n",
              "      <td>27.000000</td>\n",
              "      <td>53.630588</td>\n",
              "      <td>-1.744995</td>\n",
              "      <td>36.000000</td>\n",
              "      <td>9.995000e+06</td>\n",
              "      <td>182108.539008</td>\n",
              "    </tr>\n",
              "  </tbody>\n",
              "</table>\n",
              "</div>"
            ],
            "text/plain": [
              "              ad_id    bathrooms  ...         price        surface\n",
              "count  2.982000e+03  2931.000000  ...  2.892000e+03    2431.000000\n",
              "mean   1.224065e+07     1.998635  ...  5.323536e+05     318.851787\n",
              "std    5.793037e+05     1.291875  ...  5.678148e+05    4389.423136\n",
              "min    9.968870e+05     0.000000  ...  1.999500e+04       3.400000\n",
              "25%    1.226813e+07     1.000000  ...  2.800000e+05      74.100000\n",
              "50%    1.237758e+07     2.000000  ...  3.800000e+05     100.000000\n",
              "75%    1.240294e+07     3.000000  ...  5.750000e+05     142.000000\n",
              "max    1.242836e+07    18.000000  ...  9.995000e+06  182108.539008\n",
              "\n",
              "[8 rows x 8 columns]"
            ]
          },
          "metadata": {},
          "execution_count": 18
        }
      ]
    },
    {
      "cell_type": "markdown",
      "metadata": {
        "id": "O2U-dQYCakub"
      },
      "source": [
        "`ad_id`: is an identifier for each advert, this will not be neccessary for training ML model so will be dropped.      \n",
        "`bathrooms`: no. of bathrooms in a house. could be a good indicator on a house price, however there is some listings with $0$ bathrooms and others with $18$, so I will need to check for outliers.   \n",
        "`beds`: no. of beds in a house. this is intuitively a good indicator of a house price, but outliers will need addressed, especially those with $0$.    \n",
        "`latitude` and `logitude`: Geographical coordinates of a house location. This could alos be a good indicator of a house's price.     \n",
        "`no_of_units`: Number of units, presumably for bulk buys, there are very few adverts with information on this attribute, so I will drop it.   \n",
        "`price`: Price on an advert, this is the variable we are trying to predict, not every observation has value for price so these will be dropped.    \n",
        "`surface`: Surface area of a property, intuitively a good indicator of a properties price, however outliers will need to be investigated.\n",
        "\n",
        "\n"
      ]
    },
    {
      "cell_type": "code",
      "metadata": {
        "id": "ceyXQBIobO_d"
      },
      "source": [
        "remove_cols = ['ad_id','no_of_units']\n",
        "df_train.drop(remove_cols, axis=1, inplace = True)\n",
        "df_test.drop(remove_cols, axis = 1, inplace = True)\n"
      ],
      "execution_count": 19,
      "outputs": []
    },
    {
      "cell_type": "markdown",
      "metadata": {
        "id": "nmkk2TJctx7N"
      },
      "source": [
        "#### Removing outliers"
      ]
    },
    {
      "cell_type": "code",
      "metadata": {
        "colab": {
          "base_uri": "https://localhost:8080/",
          "height": 269
        },
        "id": "ZbFls6HIeuNX",
        "outputId": "b65febe8-f9c3-4abe-d20c-205809df9961"
      },
      "source": [
        "sns.heatmap(df_train.corr())\n",
        "plt.show()"
      ],
      "execution_count": 20,
      "outputs": [
        {
          "output_type": "display_data",
          "data": {
            "image/png": "[encoded data removed]",
            "text/plain": [
              "<Figure size 432x288 with 2 Axes>"
            ]
          },
          "metadata": {
            "needs_background": "light"
          }
        }
      ]
    },
    {
      "cell_type": "code",
      "metadata": {
        "colab": {
          "base_uri": "https://localhost:8080/",
          "height": 300
        },
        "id": "W6rr5-MTt_n6",
        "outputId": "ea87a1ca-45b9-4bcb-dbb0-6b3c5d6af02d"
      },
      "source": [
        "df_train.describe()"
      ],
      "execution_count": 21,
      "outputs": [
        {
          "output_type": "execute_result",
          "data": {
            "text/html": [
              "<div>\n",
              "<style scoped>\n",
              "    .dataframe tbody tr th:only-of-type {\n",
              "        vertical-align: middle;\n",
              "    }\n",
              "\n",
              "    .dataframe tbody tr th {\n",
              "        vertical-align: top;\n",
              "    }\n",
              "\n",
              "    .dataframe thead th {\n",
              "        text-align: right;\n",
              "    }\n",
              "</style>\n",
              "<table border=\"1\" class=\"dataframe\">\n",
              "  <thead>\n",
              "    <tr style=\"text-align: right;\">\n",
              "      <th></th>\n",
              "      <th>bathrooms</th>\n",
              "      <th>beds</th>\n",
              "      <th>latitude</th>\n",
              "      <th>longitude</th>\n",
              "      <th>price</th>\n",
              "      <th>surface</th>\n",
              "    </tr>\n",
              "  </thead>\n",
              "  <tbody>\n",
              "    <tr>\n",
              "      <th>count</th>\n",
              "      <td>2931.000000</td>\n",
              "      <td>2931.000000</td>\n",
              "      <td>2982.000000</td>\n",
              "      <td>2982.000000</td>\n",
              "      <td>2.892000e+03</td>\n",
              "      <td>2431.000000</td>\n",
              "    </tr>\n",
              "    <tr>\n",
              "      <th>mean</th>\n",
              "      <td>1.998635</td>\n",
              "      <td>2.979188</td>\n",
              "      <td>53.355991</td>\n",
              "      <td>-6.257175</td>\n",
              "      <td>5.323536e+05</td>\n",
              "      <td>318.851787</td>\n",
              "    </tr>\n",
              "    <tr>\n",
              "      <th>std</th>\n",
              "      <td>1.291875</td>\n",
              "      <td>1.468408</td>\n",
              "      <td>0.086748</td>\n",
              "      <td>0.141906</td>\n",
              "      <td>5.678148e+05</td>\n",
              "      <td>4389.423136</td>\n",
              "    </tr>\n",
              "    <tr>\n",
              "      <th>min</th>\n",
              "      <td>0.000000</td>\n",
              "      <td>0.000000</td>\n",
              "      <td>51.458439</td>\n",
              "      <td>-6.521183</td>\n",
              "      <td>1.999500e+04</td>\n",
              "      <td>3.400000</td>\n",
              "    </tr>\n",
              "    <tr>\n",
              "      <th>25%</th>\n",
              "      <td>1.000000</td>\n",
              "      <td>2.000000</td>\n",
              "      <td>53.298929</td>\n",
              "      <td>-6.314064</td>\n",
              "      <td>2.800000e+05</td>\n",
              "      <td>74.100000</td>\n",
              "    </tr>\n",
              "    <tr>\n",
              "      <th>50%</th>\n",
              "      <td>2.000000</td>\n",
              "      <td>3.000000</td>\n",
              "      <td>53.345497</td>\n",
              "      <td>-6.252254</td>\n",
              "      <td>3.800000e+05</td>\n",
              "      <td>100.000000</td>\n",
              "    </tr>\n",
              "    <tr>\n",
              "      <th>75%</th>\n",
              "      <td>3.000000</td>\n",
              "      <td>4.000000</td>\n",
              "      <td>53.388845</td>\n",
              "      <td>-6.196049</td>\n",
              "      <td>5.750000e+05</td>\n",
              "      <td>142.000000</td>\n",
              "    </tr>\n",
              "    <tr>\n",
              "      <th>max</th>\n",
              "      <td>18.000000</td>\n",
              "      <td>27.000000</td>\n",
              "      <td>53.630588</td>\n",
              "      <td>-1.744995</td>\n",
              "      <td>9.995000e+06</td>\n",
              "      <td>182108.539008</td>\n",
              "    </tr>\n",
              "  </tbody>\n",
              "</table>\n",
              "</div>"
            ],
            "text/plain": [
              "         bathrooms         beds  ...         price        surface\n",
              "count  2931.000000  2931.000000  ...  2.892000e+03    2431.000000\n",
              "mean      1.998635     2.979188  ...  5.323536e+05     318.851787\n",
              "std       1.291875     1.468408  ...  5.678148e+05    4389.423136\n",
              "min       0.000000     0.000000  ...  1.999500e+04       3.400000\n",
              "25%       1.000000     2.000000  ...  2.800000e+05      74.100000\n",
              "50%       2.000000     3.000000  ...  3.800000e+05     100.000000\n",
              "75%       3.000000     4.000000  ...  5.750000e+05     142.000000\n",
              "max      18.000000    27.000000  ...  9.995000e+06  182108.539008\n",
              "\n",
              "[8 rows x 6 columns]"
            ]
          },
          "metadata": {},
          "execution_count": 21
        }
      ]
    },
    {
      "cell_type": "code",
      "metadata": {
        "colab": {
          "base_uri": "https://localhost:8080/",
          "height": 1000
        },
        "id": "Djy07XVXpe4a",
        "outputId": "7400d4b3-7fd2-4d93-8f32-400bb552d449"
      },
      "source": [
        "sns.pairplot(df_train)\n",
        "plt.show()"
      ],
      "execution_count": 22,
      "outputs": [
        {
          "output_type": "display_data",
          "data": {
            "image/png": "[encoded data removed]",
            "text/plain": [
              "<Figure size 1080x1080 with 42 Axes>"
            ]
          },
          "metadata": {
            "needs_background": "light"
          }
        }
      ]
    },
    {
      "cell_type": "markdown",
      "metadata": {
        "id": "IChpl19GqCey"
      },
      "source": [
        "Looking at the pairplots of all the remaining numerical features helps to inform what decisions to make when choosing which outliers to ommit from the data.     \n",
        "`bathrooms`: A house should have at least $1$ bathroom, but also not more than a certain amount, for this I will chose a cut-off of 3 standard deviations above the mean, with $\\mu = 1.998635, \\sigma = 1.291875$ I choose $6$ as the upper limit.    \n",
        "`beds`: similarly a house should have at least $1$ bed but not above a certian limit, again I chose a cut-off larger than 3 standard deviations above the mean, with $\\mu = 2.979188, \\sigma = 1.468408 $, I choose $8$ as the upper limit.  \n",
        "`latitude`: There appears to be 2 outliers here with a latitude $<\n",
        "52.5^\\circ N$,these will need to be investigated and potientally removed.     \n",
        "`longitude`:There appears to be 2 outliers here with a longitude $>\n",
        "-6^\\circ W$,these will need to be investigated and potientally removed.     \n",
        "`price`:     \n",
        "`surface`: There is a few significant outliers for surface area of property, the vast majority of properties have a surface less than $500$, while there is examples with over $50000$ which would indicate they are not residental properties at all. I have decided to remove any properties which have a surface area above one standard deviation from the mean, above $4710$. "
      ]
    },
    {
      "cell_type": "code",
      "metadata": {
        "id": "QRMNXpq82Q91"
      },
      "source": [
        "df_train = df_train[(df_train.beds >0) & (df_train.beds <=6) & (df_train.bathrooms >0) & (df_train.bathrooms <=8) & (df_train.surface <=4710)]\n",
        "df_test = df_test[(df_test.beds >0) & (df_test.beds <=6) & (df_test.bathrooms >0) & (df_test.bathrooms <=8) & (df_test.surface <=4710)]"
      ],
      "execution_count": 23,
      "outputs": []
    },
    {
      "cell_type": "code",
      "metadata": {
        "colab": {
          "base_uri": "https://localhost:8080/",
          "height": 81
        },
        "id": "vLH4eAu3uSmy",
        "outputId": "df82404f-9602-45cb-a47a-8068acd4e63f"
      },
      "source": [
        "# Now investigate the outliers for latitude\n",
        "df_train[(df_train.latitude <53) ]"
      ],
      "execution_count": 24,
      "outputs": [
        {
          "output_type": "execute_result",
          "data": {
            "text/html": [
              "<div>\n",
              "<style scoped>\n",
              "    .dataframe tbody tr th:only-of-type {\n",
              "        vertical-align: middle;\n",
              "    }\n",
              "\n",
              "    .dataframe tbody tr th {\n",
              "        vertical-align: top;\n",
              "    }\n",
              "\n",
              "    .dataframe thead th {\n",
              "        text-align: right;\n",
              "    }\n",
              "</style>\n",
              "<table border=\"1\" class=\"dataframe\">\n",
              "  <thead>\n",
              "    <tr style=\"text-align: right;\">\n",
              "      <th></th>\n",
              "      <th>area</th>\n",
              "      <th>bathrooms</th>\n",
              "      <th>beds</th>\n",
              "      <th>ber_classification</th>\n",
              "      <th>county</th>\n",
              "      <th>description_block</th>\n",
              "      <th>environment</th>\n",
              "      <th>facility</th>\n",
              "      <th>features</th>\n",
              "      <th>latitude</th>\n",
              "      <th>longitude</th>\n",
              "      <th>price</th>\n",
              "      <th>property_category</th>\n",
              "      <th>property_type</th>\n",
              "      <th>surface</th>\n",
              "    </tr>\n",
              "  </thead>\n",
              "  <tbody>\n",
              "    <tr>\n",
              "      <th>767</th>\n",
              "      <td>Clondalkin</td>\n",
              "      <td>1.0</td>\n",
              "      <td>3.0</td>\n",
              "      <td>NaN</td>\n",
              "      <td>Dublin</td>\n",
              "      <td>RAY COOKE AUCTIONEERS take great pleasure in i...</td>\n",
              "      <td>prod</td>\n",
              "      <td>NaN</td>\n",
              "      <td>None</td>\n",
              "      <td>52.501856</td>\n",
              "      <td>-1.744995</td>\n",
              "      <td>199000.0</td>\n",
              "      <td>sale</td>\n",
              "      <td>semi-detached</td>\n",
              "      <td>79.0</td>\n",
              "    </tr>\n",
              "  </tbody>\n",
              "</table>\n",
              "</div>"
            ],
            "text/plain": [
              "           area  bathrooms  beds  ... property_category  property_type surface\n",
              "767  Clondalkin        1.0   3.0  ...              sale  semi-detached    79.0\n",
              "\n",
              "[1 rows x 15 columns]"
            ]
          },
          "metadata": {},
          "execution_count": 24
        }
      ]
    },
    {
      "cell_type": "code",
      "metadata": {
        "colab": {
          "base_uri": "https://localhost:8080/",
          "height": 81
        },
        "id": "k4BmjGA65Nq-",
        "outputId": "797052f0-23f5-4c50-ed0b-8ae197ba0eae"
      },
      "source": [
        "# Now investigate the outliers for latitude\n",
        "df_train[(df_train.longitude >-6) ]"
      ],
      "execution_count": 25,
      "outputs": [
        {
          "output_type": "execute_result",
          "data": {
            "text/html": [
              "<div>\n",
              "<style scoped>\n",
              "    .dataframe tbody tr th:only-of-type {\n",
              "        vertical-align: middle;\n",
              "    }\n",
              "\n",
              "    .dataframe tbody tr th {\n",
              "        vertical-align: top;\n",
              "    }\n",
              "\n",
              "    .dataframe thead th {\n",
              "        text-align: right;\n",
              "    }\n",
              "</style>\n",
              "<table border=\"1\" class=\"dataframe\">\n",
              "  <thead>\n",
              "    <tr style=\"text-align: right;\">\n",
              "      <th></th>\n",
              "      <th>area</th>\n",
              "      <th>bathrooms</th>\n",
              "      <th>beds</th>\n",
              "      <th>ber_classification</th>\n",
              "      <th>county</th>\n",
              "      <th>description_block</th>\n",
              "      <th>environment</th>\n",
              "      <th>facility</th>\n",
              "      <th>features</th>\n",
              "      <th>latitude</th>\n",
              "      <th>longitude</th>\n",
              "      <th>price</th>\n",
              "      <th>property_category</th>\n",
              "      <th>property_type</th>\n",
              "      <th>surface</th>\n",
              "    </tr>\n",
              "  </thead>\n",
              "  <tbody>\n",
              "    <tr>\n",
              "      <th>767</th>\n",
              "      <td>Clondalkin</td>\n",
              "      <td>1.0</td>\n",
              "      <td>3.0</td>\n",
              "      <td>NaN</td>\n",
              "      <td>Dublin</td>\n",
              "      <td>RAY COOKE AUCTIONEERS take great pleasure in i...</td>\n",
              "      <td>prod</td>\n",
              "      <td>NaN</td>\n",
              "      <td>None</td>\n",
              "      <td>52.501856</td>\n",
              "      <td>-1.744995</td>\n",
              "      <td>199000.0</td>\n",
              "      <td>sale</td>\n",
              "      <td>semi-detached</td>\n",
              "      <td>79.0</td>\n",
              "    </tr>\n",
              "  </tbody>\n",
              "</table>\n",
              "</div>"
            ],
            "text/plain": [
              "           area  bathrooms  beds  ... property_category  property_type surface\n",
              "767  Clondalkin        1.0   3.0  ...              sale  semi-detached    79.0\n",
              "\n",
              "[1 rows x 15 columns]"
            ]
          },
          "metadata": {},
          "execution_count": 25
        }
      ]
    },
    {
      "cell_type": "markdown",
      "metadata": {
        "id": "ck3bu4ZU5Voh"
      },
      "source": [
        "A quick search of these coordinates points to an address in Birmingham, UK which is certain not in Clondalkin, Dublin. Therefore this will be removed "
      ]
    },
    {
      "cell_type": "code",
      "metadata": {
        "id": "GlPlTkHU5yzj"
      },
      "source": [
        "df_train.drop(index=767,axis=1,inplace=True)"
      ],
      "execution_count": 26,
      "outputs": []
    },
    {
      "cell_type": "code",
      "metadata": {
        "id": "jNIYaH_o2Q6X"
      },
      "source": [
        "#sns.pairplot(df_train)\n",
        "#plt.show()"
      ],
      "execution_count": 27,
      "outputs": []
    },
    {
      "cell_type": "code",
      "metadata": {
        "colab": {
          "base_uri": "https://localhost:8080/"
        },
        "id": "8WNnLxyb80dG",
        "outputId": "6d3bff98-51ac-4ae0-9e50-2aba7fb45a59"
      },
      "source": [
        "df_train.isna().sum()"
      ],
      "execution_count": 28,
      "outputs": [
        {
          "output_type": "execute_result",
          "data": {
            "text/plain": [
              "area                     0\n",
              "bathrooms                0\n",
              "beds                     0\n",
              "ber_classification     353\n",
              "county                   0\n",
              "description_block        0\n",
              "environment              0\n",
              "facility              1511\n",
              "features                 0\n",
              "latitude                 0\n",
              "longitude                0\n",
              "price                   19\n",
              "property_category        0\n",
              "property_type            0\n",
              "surface                  0\n",
              "dtype: int64"
            ]
          },
          "metadata": {},
          "execution_count": 28
        }
      ]
    },
    {
      "cell_type": "code",
      "metadata": {
        "id": "p9kGn6o39WwU"
      },
      "source": [
        "# Lastly I will remove the 19 cases which are missing a price \n",
        "df_train.dropna(subset=['price'],inplace=True)"
      ],
      "execution_count": 29,
      "outputs": []
    },
    {
      "cell_type": "code",
      "metadata": {
        "colab": {
          "base_uri": "https://localhost:8080/"
        },
        "id": "gfEbgPz_973s",
        "outputId": "b5ac2ea6-0f99-4fdd-b98f-bdbb36dbe287"
      },
      "source": [
        "df_train.shape"
      ],
      "execution_count": 30,
      "outputs": [
        {
          "output_type": "execute_result",
          "data": {
            "text/plain": [
              "(2322, 15)"
            ]
          },
          "metadata": {},
          "execution_count": 30
        }
      ]
    },
    {
      "cell_type": "markdown",
      "metadata": {
        "id": "0ATzjNiriNZr"
      },
      "source": [
        "## Cathegorical features"
      ]
    },
    {
      "cell_type": "code",
      "metadata": {
        "colab": {
          "base_uri": "https://localhost:8080/",
          "height": 175
        },
        "id": "1I6rzQN2gdLA",
        "outputId": "3f27bbe1-aefa-4bcc-9c7c-1ed467721cf5"
      },
      "source": [
        "df_train.describe(include=object)"
      ],
      "execution_count": 31,
      "outputs": [
        {
          "output_type": "execute_result",
          "data": {
            "text/html": [
              "<div>\n",
              "<style scoped>\n",
              "    .dataframe tbody tr th:only-of-type {\n",
              "        vertical-align: middle;\n",
              "    }\n",
              "\n",
              "    .dataframe tbody tr th {\n",
              "        vertical-align: top;\n",
              "    }\n",
              "\n",
              "    .dataframe thead th {\n",
              "        text-align: right;\n",
              "    }\n",
              "</style>\n",
              "<table border=\"1\" class=\"dataframe\">\n",
              "  <thead>\n",
              "    <tr style=\"text-align: right;\">\n",
              "      <th></th>\n",
              "      <th>area</th>\n",
              "      <th>ber_classification</th>\n",
              "      <th>county</th>\n",
              "      <th>description_block</th>\n",
              "      <th>environment</th>\n",
              "      <th>facility</th>\n",
              "      <th>features</th>\n",
              "      <th>property_category</th>\n",
              "      <th>property_type</th>\n",
              "    </tr>\n",
              "  </thead>\n",
              "  <tbody>\n",
              "    <tr>\n",
              "      <th>count</th>\n",
              "      <td>2322</td>\n",
              "      <td>1973</td>\n",
              "      <td>2322</td>\n",
              "      <td>2322</td>\n",
              "      <td>2322</td>\n",
              "      <td>820</td>\n",
              "      <td>2322</td>\n",
              "      <td>2322</td>\n",
              "      <td>2322</td>\n",
              "    </tr>\n",
              "    <tr>\n",
              "      <th>unique</th>\n",
              "      <td>148</td>\n",
              "      <td>16</td>\n",
              "      <td>1</td>\n",
              "      <td>2320</td>\n",
              "      <td>1</td>\n",
              "      <td>33</td>\n",
              "      <td>1609</td>\n",
              "      <td>2</td>\n",
              "      <td>10</td>\n",
              "    </tr>\n",
              "    <tr>\n",
              "      <th>top</th>\n",
              "      <td>Rathfarnham</td>\n",
              "      <td>D1</td>\n",
              "      <td>Dublin</td>\n",
              "      <td>Sycamore Grove is a small development of 14 ho...</td>\n",
              "      <td>prod</td>\n",
              "      <td>Parking,Gas Fired Central Heating</td>\n",
              "      <td>None</td>\n",
              "      <td>sale</td>\n",
              "      <td>apartment</td>\n",
              "    </tr>\n",
              "    <tr>\n",
              "      <th>freq</th>\n",
              "      <td>75</td>\n",
              "      <td>252</td>\n",
              "      <td>2322</td>\n",
              "      <td>2</td>\n",
              "      <td>2322</td>\n",
              "      <td>168</td>\n",
              "      <td>708</td>\n",
              "      <td>2316</td>\n",
              "      <td>627</td>\n",
              "    </tr>\n",
              "  </tbody>\n",
              "</table>\n",
              "</div>"
            ],
            "text/plain": [
              "               area ber_classification  ... property_category property_type\n",
              "count          2322               1973  ...              2322          2322\n",
              "unique          148                 16  ...                 2            10\n",
              "top     Rathfarnham                 D1  ...              sale     apartment\n",
              "freq             75                252  ...              2316           627\n",
              "\n",
              "[4 rows x 9 columns]"
            ]
          },
          "metadata": {},
          "execution_count": 31
        }
      ]
    },
    {
      "cell_type": "markdown",
      "metadata": {
        "id": "bijQzowqi6Os"
      },
      "source": [
        "`area`: corresponds to a geographical area by name, could be beneficial to include althought `latitude` and `logitude` should provide the same information.    \n",
        "`ber_classification`: BER rating a house has, should be a good indicator for the model.     \n",
        "`county`: County where the property is listed, there is only one observed value $Dublin$ so this feature will be dropped.    \n",
        "`description_block`: Free text description of the property, seems to be unique for almost every advert. This feature can not be encoded very easily so will be dropped.    \n",
        "`environment`: this feature has only one observed value so will dropped.     \n",
        "`facility`: A list of facilities which a property has. There is only $820$ examples with a value here, will need to be investigated further.    \n",
        "`features`: A free text description of the features a property has. Can not be encoded very easily so this feature will be dropped.\n",
        "`property_category`: describes the type of advert, as the vast majority of adverts are $sale$ I have decided to drop this feature.     \n",
        "`property_type`: describes the type of property for sale. This feature should have good potiential to be one-hot encoded.   "
      ]
    },
    {
      "cell_type": "code",
      "metadata": {
        "id": "6hO1PBrvgdIF"
      },
      "source": [
        "remove_cols2 = ['county','description_block','environment','features','property_category']\n",
        "df_train.drop(remove_cols2, axis=1, inplace = True)\n",
        "df_test.drop(remove_cols2, axis = 1, inplace = True)"
      ],
      "execution_count": 32,
      "outputs": []
    },
    {
      "cell_type": "code",
      "metadata": {
        "colab": {
          "base_uri": "https://localhost:8080/"
        },
        "id": "qD56p1a2gdE9",
        "outputId": "42885c6d-2514-471c-ece6-6ae0fc5c096c"
      },
      "source": [
        "df_train.columns"
      ],
      "execution_count": 33,
      "outputs": [
        {
          "output_type": "execute_result",
          "data": {
            "text/plain": [
              "Index(['area', 'bathrooms', 'beds', 'ber_classification', 'facility',\n",
              "       'latitude', 'longitude', 'price', 'property_type', 'surface'],\n",
              "      dtype='object')"
            ]
          },
          "metadata": {},
          "execution_count": 33
        }
      ]
    },
    {
      "cell_type": "code",
      "metadata": {
        "colab": {
          "base_uri": "https://localhost:8080/"
        },
        "id": "nlrcdQareuKL",
        "outputId": "e5c7856a-c4a1-47d8-fd01-2e70c60edbcf"
      },
      "source": [
        "for col in df_train.columns:\n",
        "  if df_train[col].dtypes ==object:\n",
        "    print(\"Unique values for \",col,\" = \",df_train[col].unique(),'\\n')"
      ],
      "execution_count": 34,
      "outputs": [
        {
          "output_type": "stream",
          "name": "stdout",
          "text": [
            "Unique values for  area  =  ['Clonee' 'Clondalkin' 'Howth' 'Castleknock' 'Rathfarnham' 'Carrickmines'\n",
            " 'Rathmichael' 'Foxrock' 'Dublin 1' 'Balbriggan' 'Lucan' 'Ballsbridge'\n",
            " 'Sandycove' 'Dalkey' 'Booterstown' 'Rush' 'Cabra' 'Swords' 'Garristown'\n",
            " 'Drumcondra' 'Skerries' 'Clontarf' 'Ranelagh' 'Dundrum' 'Donnybrook'\n",
            " 'Malahide' 'Glasnevin' 'Sandyford' 'Dublin 8' 'Palmerstown' 'Finglas'\n",
            " 'Sandymount' 'Terenure' 'Dublin 2' 'Saggart' 'Mulhuddart' 'Cabinteely'\n",
            " 'Whitehall' 'Walkinstown' 'Christchurch' 'Blackrock' 'Shankill'\n",
            " 'Ringsend' 'Churchtown' 'Stepaside' 'Clonskeagh' 'Clongriffin'\n",
            " 'Dun Laoghaire' 'Ballycullen' 'Ballybrack' 'Clonsilla' 'Mount Merrion'\n",
            " 'Dublin 7' 'The Ward' 'Sutton' 'Lusk' \"Harold's Cross\" 'Glenageary'\n",
            " 'Clarehall' 'Phibsborough' 'Donabate' 'Rathmines' 'Rathgar' 'Portobello'\n",
            " 'Citywest' 'Baldoyle' 'Killester' 'Navan Road (D7)' 'Killiney' 'Tallaght'\n",
            " 'Kilmore' 'Loughlinstown' 'Santry' 'Clonshaugh' 'Dublin 4' 'Ballyboughal'\n",
            " 'Donaghmede' 'East Wall' 'Grand Canal Dock' 'Leopardstown' 'Artane'\n",
            " 'Tyrrelstown' 'Kinsealy' 'Kilternan' 'Knocklyon' 'Portmarnock'\n",
            " \"Dolphin's Barn\" 'Raheny' 'Naul' 'Templeogue' 'IFSC' 'Kilmainham'\n",
            " 'Kilnamanagh' 'Firhouse' 'Rathcoole' 'Newcastle' 'Ard Na Greine'\n",
            " 'Goatstown' 'Blanchardstown' 'Loughshinny' 'North Circular Road'\n",
            " 'Beaumont' 'Darndale' 'Crumlin' 'Temple Bar' 'Coolock' 'Stoneybatter'\n",
            " 'Ballyfermot' 'Balgriffin' 'North Strand' 'Rialto' 'Smithfield' 'Kimmage'\n",
            " 'Monkstown' 'Coolmine' 'Adamstown' 'Sallynoggin' 'Ongar' 'Fairview'\n",
            " 'Marino' 'Milltown' 'Dartry' 'Ballinteer' 'Ashtown' 'Kilmacud'\n",
            " 'Irishtown' 'Chapelizod' 'Park West' 'Ballymun' 'Balrothery' 'Perrystown'\n",
            " 'Brittas' 'Kingswood' 'The Coombe' 'Inchicore' 'Drimnagh' 'Edenmore'\n",
            " 'Donnycarney' 'Oldbawn' 'Deansgrange' 'Ballybough' 'Bluebell'\n",
            " 'Windy Arbour' 'Cherry Orchard' 'Islandbridge' 'South Circular Road'\n",
            " 'Kiltipper' 'Greenhills'] \n",
            "\n",
            "Unique values for  ber_classification  =  ['A3' 'A2' 'E2' 'G' 'C1' 'F' nan 'D2' 'D1' 'C3' 'B2' 'SINo666of2006exempt'\n",
            " 'B3' 'E1' 'C2' 'B1' 'A1'] \n",
            "\n",
            "Unique values for  facility  =  [nan 'Parking,Gas Fired Central Heating,Wired for Cable Television'\n",
            " 'Parking,Alarm,Wired for Cable Television,Oil Fired Central Heating'\n",
            " 'Parking,Gas Fired Central Heating,Alarm'\n",
            " 'Parking,Gas Fired Central Heating'\n",
            " 'Parking,Gas Fired Central Heating,Wheelchair Access'\n",
            " 'Parking,Gas Fired Central Heating,Alarm,Wired for Cable Television,Oil Fired Central Heating'\n",
            " 'Parking,Alarm,Oil Fired Central Heating'\n",
            " 'Parking,Gas Fired Central Heating,Alarm,Wired for Cable Television'\n",
            " 'Parking,Wired for Cable Television,Oil Fired Central Heating'\n",
            " 'Parking,Alarm' 'Parking,Wired for Cable Television'\n",
            " 'Parking,Alarm,Wired for Cable Television'\n",
            " 'Gas Fired Central Heating,Alarm' 'Parking' 'Gas Fired Central Heating'\n",
            " 'Wired for Cable Television' 'Parking,Oil Fired Central Heating'\n",
            " 'Parking,Gas Fired Central Heating,Wired for Cable Television,Wheelchair Access'\n",
            " 'Oil Fired Central Heating' 'Alarm,Wired for Cable Television'\n",
            " 'Gas Fired Central Heating,Wired for Cable Television' 'Alarm'\n",
            " 'Wheelchair Access'\n",
            " 'Gas Fired Central Heating,Alarm,Wired for Cable Television'\n",
            " 'Parking,Gas Fired Central Heating,Alarm,Wheelchair Access'\n",
            " 'Parking,Gas Fired Central Heating,Alarm,Wired for Cable Television,Wheelchair Access'\n",
            " 'Parking,Wired for Cable Television,Wheelchair Access'\n",
            " 'Parking,Alarm,Wired for Cable Television,Wheelchair Access'\n",
            " 'Parking,Wired for Cable Television,Wheelchair Access,Oil Fired Central Heating'\n",
            " 'Alarm,Oil Fired Central Heating'\n",
            " 'Gas Fired Central Heating,Alarm,Wired for Cable Television,Wheelchair Access'\n",
            " 'Parking,Wheelchair Access'\n",
            " 'Parking,Alarm,Wired for Cable Television,Wheelchair Access,Oil Fired Central Heating'] \n",
            "\n",
            "Unique values for  property_type  =  ['detached' 'semi-detached' 'apartment' 'terraced' 'bungalow' 'townhouse'\n",
            " 'end-of-terrace' 'duplex' 'studio' 'site'] \n",
            "\n"
          ]
        }
      ]
    },
    {
      "cell_type": "markdown",
      "metadata": {
        "id": "8KY1R7HWAoJY"
      },
      "source": [
        "As `ber_classification` is an ordinal variable, I create a mapper for this variable.     \n",
        "Given `property_type` is not an ordinal variable, I will instead one hot encode it.\n",
        "\n",
        "`area` and `facility` will be dropped instead. \n"
      ]
    },
    {
      "cell_type": "code",
      "metadata": {
        "id": "h0ZylXUJWhGc"
      },
      "source": [
        "remove_cols3 = ['area','facility']\n",
        "df_train.drop(remove_cols3, axis=1, inplace = True)\n",
        "df_test.drop(remove_cols3, axis = 1, inplace = True)"
      ],
      "execution_count": 35,
      "outputs": []
    },
    {
      "cell_type": "code",
      "metadata": {
        "id": "drHyup6oeuHM"
      },
      "source": [
        "ber_mapper = {\n",
        "    'A1':1,'A2':2,'A3':3,\n",
        "    'B1':4,'B2':5,'B3':6,\n",
        "    'C1':7,'C2':8,'C3':9,\n",
        "    'D1':10,'D2':11,\n",
        "    'E1':12,'E2':13,\n",
        "    'F':14,\n",
        "    'G':15,\n",
        "    'SINo666of2006exempt':16\n",
        "}\n",
        "\n",
        "df_train['ber_classification'] = df_train['ber_classification'].replace(ber_mapper)\n",
        "df_test['ber_classification'] = df_test['ber_classification'].replace(ber_mapper)"
      ],
      "execution_count": 36,
      "outputs": []
    },
    {
      "cell_type": "code",
      "metadata": {
        "id": "4YTOUS51V3mh"
      },
      "source": [
        "df_train = pd.get_dummies(df_train, columns=['property_type'], drop_first=True)"
      ],
      "execution_count": 37,
      "outputs": []
    },
    {
      "cell_type": "code",
      "metadata": {
        "id": "Ju9t90aoeuEM"
      },
      "source": [
        "df_test = pd.get_dummies(df_test, columns=['property_type'], drop_first=True)"
      ],
      "execution_count": 38,
      "outputs": []
    },
    {
      "cell_type": "code",
      "metadata": {
        "colab": {
          "base_uri": "https://localhost:8080/"
        },
        "id": "Lp8APxCAeuBV",
        "outputId": "bdd614b5-d8bc-4119-9d50-d700b977c887"
      },
      "source": [
        "print(df_train.isna().sum(),'\\n\\n', df_test.isna().sum())"
      ],
      "execution_count": 39,
      "outputs": [
        {
          "output_type": "stream",
          "name": "stdout",
          "text": [
            "bathrooms                         0\n",
            "beds                              0\n",
            "ber_classification              349\n",
            "latitude                          0\n",
            "longitude                         0\n",
            "price                             0\n",
            "surface                           0\n",
            "property_type_bungalow            0\n",
            "property_type_detached            0\n",
            "property_type_duplex              0\n",
            "property_type_end-of-terrace      0\n",
            "property_type_semi-detached       0\n",
            "property_type_site                0\n",
            "property_type_studio              0\n",
            "property_type_terraced            0\n",
            "property_type_townhouse           0\n",
            "dtype: int64 \n",
            "\n",
            " bathrooms                        0\n",
            "beds                             0\n",
            "ber_classification              47\n",
            "latitude                         0\n",
            "longitude                        0\n",
            "surface                          0\n",
            "property_type_bungalow           0\n",
            "property_type_detached           0\n",
            "property_type_duplex             0\n",
            "property_type_end-of-terrace     0\n",
            "property_type_semi-detached      0\n",
            "property_type_site               0\n",
            "property_type_studio             0\n",
            "property_type_terraced           0\n",
            "property_type_townhouse          0\n",
            "dtype: int64\n"
          ]
        }
      ]
    },
    {
      "cell_type": "code",
      "metadata": {
        "id": "lv72Ab1Ket-b"
      },
      "source": [
        "# Lastly I will remove the cases which have ber_classification = NaN\n",
        "df_train.dropna(subset=['ber_classification'],inplace=True)\n",
        "df_test.dropna(subset=['ber_classification'],inplace=True)\n"
      ],
      "execution_count": 40,
      "outputs": []
    },
    {
      "cell_type": "code",
      "metadata": {
        "colab": {
          "base_uri": "https://localhost:8080/",
          "height": 338
        },
        "id": "xnqXKSGyaVDs",
        "outputId": "dea18967-65c5-45a0-c340-21d80c6093a2"
      },
      "source": [
        "df_train.describe()"
      ],
      "execution_count": 41,
      "outputs": [
        {
          "output_type": "execute_result",
          "data": {
            "text/html": [
              "<div>\n",
              "<style scoped>\n",
              "    .dataframe tbody tr th:only-of-type {\n",
              "        vertical-align: middle;\n",
              "    }\n",
              "\n",
              "    .dataframe tbody tr th {\n",
              "        vertical-align: top;\n",
              "    }\n",
              "\n",
              "    .dataframe thead th {\n",
              "        text-align: right;\n",
              "    }\n",
              "</style>\n",
              "<table border=\"1\" class=\"dataframe\">\n",
              "  <thead>\n",
              "    <tr style=\"text-align: right;\">\n",
              "      <th></th>\n",
              "      <th>bathrooms</th>\n",
              "      <th>beds</th>\n",
              "      <th>ber_classification</th>\n",
              "      <th>latitude</th>\n",
              "      <th>longitude</th>\n",
              "      <th>price</th>\n",
              "      <th>surface</th>\n",
              "      <th>property_type_bungalow</th>\n",
              "      <th>property_type_detached</th>\n",
              "      <th>property_type_duplex</th>\n",
              "      <th>property_type_end-of-terrace</th>\n",
              "      <th>property_type_semi-detached</th>\n",
              "      <th>property_type_site</th>\n",
              "      <th>property_type_studio</th>\n",
              "      <th>property_type_terraced</th>\n",
              "      <th>property_type_townhouse</th>\n",
              "    </tr>\n",
              "  </thead>\n",
              "  <tbody>\n",
              "    <tr>\n",
              "      <th>count</th>\n",
              "      <td>1973.000000</td>\n",
              "      <td>1973.000000</td>\n",
              "      <td>1973.000000</td>\n",
              "      <td>1973.000000</td>\n",
              "      <td>1973.000000</td>\n",
              "      <td>1.973000e+03</td>\n",
              "      <td>1973.000000</td>\n",
              "      <td>1973.000000</td>\n",
              "      <td>1973.000000</td>\n",
              "      <td>1973.000000</td>\n",
              "      <td>1973.000000</td>\n",
              "      <td>1973.000000</td>\n",
              "      <td>1973.000000</td>\n",
              "      <td>1973.000000</td>\n",
              "      <td>1973.000000</td>\n",
              "      <td>1973.000000</td>\n",
              "    </tr>\n",
              "    <tr>\n",
              "      <th>mean</th>\n",
              "      <td>2.022301</td>\n",
              "      <td>2.998479</td>\n",
              "      <td>9.856564</td>\n",
              "      <td>53.349227</td>\n",
              "      <td>-6.252718</td>\n",
              "      <td>5.447949e+05</td>\n",
              "      <td>118.438018</td>\n",
              "      <td>0.027369</td>\n",
              "      <td>0.146984</td>\n",
              "      <td>0.018753</td>\n",
              "      <td>0.077547</td>\n",
              "      <td>0.278763</td>\n",
              "      <td>0.001521</td>\n",
              "      <td>0.000507</td>\n",
              "      <td>0.170299</td>\n",
              "      <td>0.009630</td>\n",
              "    </tr>\n",
              "    <tr>\n",
              "      <th>std</th>\n",
              "      <td>1.020336</td>\n",
              "      <td>1.092338</td>\n",
              "      <td>3.156693</td>\n",
              "      <td>0.074342</td>\n",
              "      <td>0.091602</td>\n",
              "      <td>4.590931e+05</td>\n",
              "      <td>82.280837</td>\n",
              "      <td>0.163199</td>\n",
              "      <td>0.354180</td>\n",
              "      <td>0.135686</td>\n",
              "      <td>0.267525</td>\n",
              "      <td>0.448504</td>\n",
              "      <td>0.038974</td>\n",
              "      <td>0.022513</td>\n",
              "      <td>0.375991</td>\n",
              "      <td>0.097684</td>\n",
              "    </tr>\n",
              "    <tr>\n",
              "      <th>min</th>\n",
              "      <td>1.000000</td>\n",
              "      <td>1.000000</td>\n",
              "      <td>1.000000</td>\n",
              "      <td>53.215264</td>\n",
              "      <td>-6.521183</td>\n",
              "      <td>1.000000e+05</td>\n",
              "      <td>22.450000</td>\n",
              "      <td>0.000000</td>\n",
              "      <td>0.000000</td>\n",
              "      <td>0.000000</td>\n",
              "      <td>0.000000</td>\n",
              "      <td>0.000000</td>\n",
              "      <td>0.000000</td>\n",
              "      <td>0.000000</td>\n",
              "      <td>0.000000</td>\n",
              "      <td>0.000000</td>\n",
              "    </tr>\n",
              "    <tr>\n",
              "      <th>25%</th>\n",
              "      <td>1.000000</td>\n",
              "      <td>2.000000</td>\n",
              "      <td>8.000000</td>\n",
              "      <td>53.291977</td>\n",
              "      <td>-6.303053</td>\n",
              "      <td>3.000000e+05</td>\n",
              "      <td>73.700000</td>\n",
              "      <td>0.000000</td>\n",
              "      <td>0.000000</td>\n",
              "      <td>0.000000</td>\n",
              "      <td>0.000000</td>\n",
              "      <td>0.000000</td>\n",
              "      <td>0.000000</td>\n",
              "      <td>0.000000</td>\n",
              "      <td>0.000000</td>\n",
              "      <td>0.000000</td>\n",
              "    </tr>\n",
              "    <tr>\n",
              "      <th>50%</th>\n",
              "      <td>2.000000</td>\n",
              "      <td>3.000000</td>\n",
              "      <td>10.000000</td>\n",
              "      <td>53.340011</td>\n",
              "      <td>-6.244568</td>\n",
              "      <td>4.200000e+05</td>\n",
              "      <td>99.000000</td>\n",
              "      <td>0.000000</td>\n",
              "      <td>0.000000</td>\n",
              "      <td>0.000000</td>\n",
              "      <td>0.000000</td>\n",
              "      <td>0.000000</td>\n",
              "      <td>0.000000</td>\n",
              "      <td>0.000000</td>\n",
              "      <td>0.000000</td>\n",
              "      <td>0.000000</td>\n",
              "    </tr>\n",
              "    <tr>\n",
              "      <th>75%</th>\n",
              "      <td>3.000000</td>\n",
              "      <td>4.000000</td>\n",
              "      <td>12.000000</td>\n",
              "      <td>53.380545</td>\n",
              "      <td>-6.184865</td>\n",
              "      <td>6.000000e+05</td>\n",
              "      <td>137.000000</td>\n",
              "      <td>0.000000</td>\n",
              "      <td>0.000000</td>\n",
              "      <td>0.000000</td>\n",
              "      <td>0.000000</td>\n",
              "      <td>1.000000</td>\n",
              "      <td>0.000000</td>\n",
              "      <td>0.000000</td>\n",
              "      <td>0.000000</td>\n",
              "      <td>0.000000</td>\n",
              "    </tr>\n",
              "    <tr>\n",
              "      <th>max</th>\n",
              "      <td>8.000000</td>\n",
              "      <td>6.000000</td>\n",
              "      <td>16.000000</td>\n",
              "      <td>53.630588</td>\n",
              "      <td>-6.054719</td>\n",
              "      <td>7.950000e+06</td>\n",
              "      <td>1195.000000</td>\n",
              "      <td>1.000000</td>\n",
              "      <td>1.000000</td>\n",
              "      <td>1.000000</td>\n",
              "      <td>1.000000</td>\n",
              "      <td>1.000000</td>\n",
              "      <td>1.000000</td>\n",
              "      <td>1.000000</td>\n",
              "      <td>1.000000</td>\n",
              "      <td>1.000000</td>\n",
              "    </tr>\n",
              "  </tbody>\n",
              "</table>\n",
              "</div>"
            ],
            "text/plain": [
              "         bathrooms  ...  property_type_townhouse\n",
              "count  1973.000000  ...              1973.000000\n",
              "mean      2.022301  ...                 0.009630\n",
              "std       1.020336  ...                 0.097684\n",
              "min       1.000000  ...                 0.000000\n",
              "25%       1.000000  ...                 0.000000\n",
              "50%       2.000000  ...                 0.000000\n",
              "75%       3.000000  ...                 0.000000\n",
              "max       8.000000  ...                 1.000000\n",
              "\n",
              "[8 rows x 16 columns]"
            ]
          },
          "metadata": {},
          "execution_count": 41
        }
      ]
    },
    {
      "cell_type": "code",
      "metadata": {
        "id": "KxPaqUv4X9Cv"
      },
      "source": [
        ""
      ],
      "execution_count": 41,
      "outputs": []
    },
    {
      "cell_type": "code",
      "metadata": {
        "id": "loLTHklwKGnV"
      },
      "source": [
        "# split data into training and test\n",
        "\n",
        "from sklearn.model_selection import train_test_split\n",
        "X = df_train.drop(['price'], axis=1)\n",
        "y = df_train['price']\n",
        "\n",
        "# training: 70% (0.7), test: 30% (0.3) \n",
        "# you could try any other combination \n",
        "# but consider 50% of training as the low boundary\n",
        "\n",
        "X_train,X_test,y_train,y_test = train_test_split(X, y, test_size=0.3)"
      ],
      "execution_count": 43,
      "outputs": []
    },
    {
      "cell_type": "markdown",
      "metadata": {
        "id": "2PMoPLlUJ1Ly"
      },
      "source": [
        "## Training & Test Data"
      ]
    },
    {
      "cell_type": "markdown",
      "metadata": {
        "id": "ztBkSZluye87"
      },
      "source": [
        "### Train dataset"
      ]
    },
    {
      "cell_type": "code",
      "metadata": {
        "id": "6XUFUPABMHfF",
        "colab": {
          "base_uri": "https://localhost:8080/",
          "height": 244
        },
        "outputId": "64040a0c-822e-4f47-c76b-eb369e784405"
      },
      "source": [
        "# show first data frame rows \n",
        "X_train.head()"
      ],
      "execution_count": 45,
      "outputs": [
        {
          "output_type": "execute_result",
          "data": {
            "text/html": [
              "<div>\n",
              "<style scoped>\n",
              "    .dataframe tbody tr th:only-of-type {\n",
              "        vertical-align: middle;\n",
              "    }\n",
              "\n",
              "    .dataframe tbody tr th {\n",
              "        vertical-align: top;\n",
              "    }\n",
              "\n",
              "    .dataframe thead th {\n",
              "        text-align: right;\n",
              "    }\n",
              "</style>\n",
              "<table border=\"1\" class=\"dataframe\">\n",
              "  <thead>\n",
              "    <tr style=\"text-align: right;\">\n",
              "      <th></th>\n",
              "      <th>bathrooms</th>\n",
              "      <th>beds</th>\n",
              "      <th>ber_classification</th>\n",
              "      <th>latitude</th>\n",
              "      <th>longitude</th>\n",
              "      <th>surface</th>\n",
              "      <th>property_type_bungalow</th>\n",
              "      <th>property_type_detached</th>\n",
              "      <th>property_type_duplex</th>\n",
              "      <th>property_type_end-of-terrace</th>\n",
              "      <th>property_type_semi-detached</th>\n",
              "      <th>property_type_site</th>\n",
              "      <th>property_type_studio</th>\n",
              "      <th>property_type_terraced</th>\n",
              "      <th>property_type_townhouse</th>\n",
              "    </tr>\n",
              "  </thead>\n",
              "  <tbody>\n",
              "    <tr>\n",
              "      <th>807</th>\n",
              "      <td>3.0</td>\n",
              "      <td>3.0</td>\n",
              "      <td>11.0</td>\n",
              "      <td>53.295404</td>\n",
              "      <td>-6.221404</td>\n",
              "      <td>143.3</td>\n",
              "      <td>1</td>\n",
              "      <td>0</td>\n",
              "      <td>0</td>\n",
              "      <td>0</td>\n",
              "      <td>0</td>\n",
              "      <td>0</td>\n",
              "      <td>0</td>\n",
              "      <td>0</td>\n",
              "      <td>0</td>\n",
              "    </tr>\n",
              "    <tr>\n",
              "      <th>456</th>\n",
              "      <td>2.0</td>\n",
              "      <td>2.0</td>\n",
              "      <td>14.0</td>\n",
              "      <td>53.328997</td>\n",
              "      <td>-6.221030</td>\n",
              "      <td>134.7</td>\n",
              "      <td>0</td>\n",
              "      <td>0</td>\n",
              "      <td>0</td>\n",
              "      <td>0</td>\n",
              "      <td>1</td>\n",
              "      <td>0</td>\n",
              "      <td>0</td>\n",
              "      <td>0</td>\n",
              "      <td>0</td>\n",
              "    </tr>\n",
              "    <tr>\n",
              "      <th>2275</th>\n",
              "      <td>1.0</td>\n",
              "      <td>2.0</td>\n",
              "      <td>9.0</td>\n",
              "      <td>53.324772</td>\n",
              "      <td>-6.402370</td>\n",
              "      <td>57.6</td>\n",
              "      <td>0</td>\n",
              "      <td>0</td>\n",
              "      <td>0</td>\n",
              "      <td>0</td>\n",
              "      <td>0</td>\n",
              "      <td>0</td>\n",
              "      <td>0</td>\n",
              "      <td>0</td>\n",
              "      <td>0</td>\n",
              "    </tr>\n",
              "    <tr>\n",
              "      <th>2193</th>\n",
              "      <td>2.0</td>\n",
              "      <td>3.0</td>\n",
              "      <td>10.0</td>\n",
              "      <td>53.398083</td>\n",
              "      <td>-6.133787</td>\n",
              "      <td>111.0</td>\n",
              "      <td>0</td>\n",
              "      <td>0</td>\n",
              "      <td>0</td>\n",
              "      <td>0</td>\n",
              "      <td>1</td>\n",
              "      <td>0</td>\n",
              "      <td>0</td>\n",
              "      <td>0</td>\n",
              "      <td>0</td>\n",
              "    </tr>\n",
              "    <tr>\n",
              "      <th>1479</th>\n",
              "      <td>2.0</td>\n",
              "      <td>3.0</td>\n",
              "      <td>11.0</td>\n",
              "      <td>53.463189</td>\n",
              "      <td>-6.250065</td>\n",
              "      <td>105.0</td>\n",
              "      <td>0</td>\n",
              "      <td>0</td>\n",
              "      <td>0</td>\n",
              "      <td>0</td>\n",
              "      <td>1</td>\n",
              "      <td>0</td>\n",
              "      <td>0</td>\n",
              "      <td>0</td>\n",
              "      <td>0</td>\n",
              "    </tr>\n",
              "  </tbody>\n",
              "</table>\n",
              "</div>"
            ],
            "text/plain": [
              "      bathrooms  beds  ...  property_type_terraced  property_type_townhouse\n",
              "807         3.0   3.0  ...                       0                        0\n",
              "456         2.0   2.0  ...                       0                        0\n",
              "2275        1.0   2.0  ...                       0                        0\n",
              "2193        2.0   3.0  ...                       0                        0\n",
              "1479        2.0   3.0  ...                       0                        0\n",
              "\n",
              "[5 rows x 15 columns]"
            ]
          },
          "metadata": {},
          "execution_count": 45
        }
      ]
    },
    {
      "cell_type": "code",
      "metadata": {
        "id": "5rq_p-D4yLBe",
        "colab": {
          "base_uri": "https://localhost:8080/",
          "height": 338
        },
        "outputId": "c55ec7ed-65ef-4c49-c34d-2568b3648478"
      },
      "source": [
        "# Generate descriptive statistics\n",
        "X_train.describe()"
      ],
      "execution_count": 46,
      "outputs": [
        {
          "output_type": "execute_result",
          "data": {
            "text/html": [
              "<div>\n",
              "<style scoped>\n",
              "    .dataframe tbody tr th:only-of-type {\n",
              "        vertical-align: middle;\n",
              "    }\n",
              "\n",
              "    .dataframe tbody tr th {\n",
              "        vertical-align: top;\n",
              "    }\n",
              "\n",
              "    .dataframe thead th {\n",
              "        text-align: right;\n",
              "    }\n",
              "</style>\n",
              "<table border=\"1\" class=\"dataframe\">\n",
              "  <thead>\n",
              "    <tr style=\"text-align: right;\">\n",
              "      <th></th>\n",
              "      <th>bathrooms</th>\n",
              "      <th>beds</th>\n",
              "      <th>ber_classification</th>\n",
              "      <th>latitude</th>\n",
              "      <th>longitude</th>\n",
              "      <th>surface</th>\n",
              "      <th>property_type_bungalow</th>\n",
              "      <th>property_type_detached</th>\n",
              "      <th>property_type_duplex</th>\n",
              "      <th>property_type_end-of-terrace</th>\n",
              "      <th>property_type_semi-detached</th>\n",
              "      <th>property_type_site</th>\n",
              "      <th>property_type_studio</th>\n",
              "      <th>property_type_terraced</th>\n",
              "      <th>property_type_townhouse</th>\n",
              "    </tr>\n",
              "  </thead>\n",
              "  <tbody>\n",
              "    <tr>\n",
              "      <th>count</th>\n",
              "      <td>1381.00000</td>\n",
              "      <td>1381.000000</td>\n",
              "      <td>1381.000000</td>\n",
              "      <td>1381.000000</td>\n",
              "      <td>1381.000000</td>\n",
              "      <td>1381.000000</td>\n",
              "      <td>1381.000000</td>\n",
              "      <td>1381.000000</td>\n",
              "      <td>1381.000000</td>\n",
              "      <td>1381.000000</td>\n",
              "      <td>1381.000000</td>\n",
              "      <td>1381.0</td>\n",
              "      <td>1381.000000</td>\n",
              "      <td>1381.000000</td>\n",
              "      <td>1381.000000</td>\n",
              "    </tr>\n",
              "    <tr>\n",
              "      <th>mean</th>\n",
              "      <td>2.02824</td>\n",
              "      <td>3.002896</td>\n",
              "      <td>9.814627</td>\n",
              "      <td>53.348759</td>\n",
              "      <td>-6.252938</td>\n",
              "      <td>119.481985</td>\n",
              "      <td>0.027516</td>\n",
              "      <td>0.141926</td>\n",
              "      <td>0.018103</td>\n",
              "      <td>0.083997</td>\n",
              "      <td>0.281680</td>\n",
              "      <td>0.0</td>\n",
              "      <td>0.000724</td>\n",
              "      <td>0.168718</td>\n",
              "      <td>0.007965</td>\n",
              "    </tr>\n",
              "    <tr>\n",
              "      <th>std</th>\n",
              "      <td>1.03276</td>\n",
              "      <td>1.092792</td>\n",
              "      <td>3.191309</td>\n",
              "      <td>0.074309</td>\n",
              "      <td>0.091540</td>\n",
              "      <td>84.358182</td>\n",
              "      <td>0.163641</td>\n",
              "      <td>0.349101</td>\n",
              "      <td>0.133372</td>\n",
              "      <td>0.277484</td>\n",
              "      <td>0.449981</td>\n",
              "      <td>0.0</td>\n",
              "      <td>0.026909</td>\n",
              "      <td>0.374639</td>\n",
              "      <td>0.088924</td>\n",
              "    </tr>\n",
              "    <tr>\n",
              "      <th>min</th>\n",
              "      <td>1.00000</td>\n",
              "      <td>1.000000</td>\n",
              "      <td>2.000000</td>\n",
              "      <td>53.215264</td>\n",
              "      <td>-6.497000</td>\n",
              "      <td>22.450000</td>\n",
              "      <td>0.000000</td>\n",
              "      <td>0.000000</td>\n",
              "      <td>0.000000</td>\n",
              "      <td>0.000000</td>\n",
              "      <td>0.000000</td>\n",
              "      <td>0.0</td>\n",
              "      <td>0.000000</td>\n",
              "      <td>0.000000</td>\n",
              "      <td>0.000000</td>\n",
              "    </tr>\n",
              "    <tr>\n",
              "      <th>25%</th>\n",
              "      <td>1.00000</td>\n",
              "      <td>2.000000</td>\n",
              "      <td>8.000000</td>\n",
              "      <td>53.291834</td>\n",
              "      <td>-6.301314</td>\n",
              "      <td>73.000000</td>\n",
              "      <td>0.000000</td>\n",
              "      <td>0.000000</td>\n",
              "      <td>0.000000</td>\n",
              "      <td>0.000000</td>\n",
              "      <td>0.000000</td>\n",
              "      <td>0.0</td>\n",
              "      <td>0.000000</td>\n",
              "      <td>0.000000</td>\n",
              "      <td>0.000000</td>\n",
              "    </tr>\n",
              "    <tr>\n",
              "      <th>50%</th>\n",
              "      <td>2.00000</td>\n",
              "      <td>3.000000</td>\n",
              "      <td>10.000000</td>\n",
              "      <td>53.338815</td>\n",
              "      <td>-6.244516</td>\n",
              "      <td>98.000000</td>\n",
              "      <td>0.000000</td>\n",
              "      <td>0.000000</td>\n",
              "      <td>0.000000</td>\n",
              "      <td>0.000000</td>\n",
              "      <td>0.000000</td>\n",
              "      <td>0.0</td>\n",
              "      <td>0.000000</td>\n",
              "      <td>0.000000</td>\n",
              "      <td>0.000000</td>\n",
              "    </tr>\n",
              "    <tr>\n",
              "      <th>75%</th>\n",
              "      <td>3.00000</td>\n",
              "      <td>4.000000</td>\n",
              "      <td>12.000000</td>\n",
              "      <td>53.380343</td>\n",
              "      <td>-6.185413</td>\n",
              "      <td>139.000000</td>\n",
              "      <td>0.000000</td>\n",
              "      <td>0.000000</td>\n",
              "      <td>0.000000</td>\n",
              "      <td>0.000000</td>\n",
              "      <td>1.000000</td>\n",
              "      <td>0.0</td>\n",
              "      <td>0.000000</td>\n",
              "      <td>0.000000</td>\n",
              "      <td>0.000000</td>\n",
              "    </tr>\n",
              "    <tr>\n",
              "      <th>max</th>\n",
              "      <td>8.00000</td>\n",
              "      <td>6.000000</td>\n",
              "      <td>16.000000</td>\n",
              "      <td>53.617443</td>\n",
              "      <td>-6.054719</td>\n",
              "      <td>1195.000000</td>\n",
              "      <td>1.000000</td>\n",
              "      <td>1.000000</td>\n",
              "      <td>1.000000</td>\n",
              "      <td>1.000000</td>\n",
              "      <td>1.000000</td>\n",
              "      <td>0.0</td>\n",
              "      <td>1.000000</td>\n",
              "      <td>1.000000</td>\n",
              "      <td>1.000000</td>\n",
              "    </tr>\n",
              "  </tbody>\n",
              "</table>\n",
              "</div>"
            ],
            "text/plain": [
              "        bathrooms         beds  ...  property_type_terraced  property_type_townhouse\n",
              "count  1381.00000  1381.000000  ...             1381.000000              1381.000000\n",
              "mean      2.02824     3.002896  ...                0.168718                 0.007965\n",
              "std       1.03276     1.092792  ...                0.374639                 0.088924\n",
              "min       1.00000     1.000000  ...                0.000000                 0.000000\n",
              "25%       1.00000     2.000000  ...                0.000000                 0.000000\n",
              "50%       2.00000     3.000000  ...                0.000000                 0.000000\n",
              "75%       3.00000     4.000000  ...                0.000000                 0.000000\n",
              "max       8.00000     6.000000  ...                1.000000                 1.000000\n",
              "\n",
              "[8 rows x 15 columns]"
            ]
          },
          "metadata": {},
          "execution_count": 46
        }
      ]
    },
    {
      "cell_type": "markdown",
      "metadata": {
        "id": "Iqg9_uxFyZli"
      },
      "source": [
        "### Test dataset"
      ]
    },
    {
      "cell_type": "code",
      "metadata": {
        "id": "bw2_yypxMfsi",
        "colab": {
          "base_uri": "https://localhost:8080/",
          "height": 461
        },
        "outputId": "b1a990ff-cffe-4874-ee65-ee4b70c111b5"
      },
      "source": [
        "# show first data frame rows \n",
        "X_test.head()"
      ],
      "execution_count": 50,
      "outputs": [
        {
          "output_type": "execute_result",
          "data": {
            "text/html": [
              "<div>\n",
              "<style scoped>\n",
              "    .dataframe tbody tr th:only-of-type {\n",
              "        vertical-align: middle;\n",
              "    }\n",
              "\n",
              "    .dataframe tbody tr th {\n",
              "        vertical-align: top;\n",
              "    }\n",
              "\n",
              "    .dataframe thead th {\n",
              "        text-align: right;\n",
              "    }\n",
              "</style>\n",
              "<table border=\"1\" class=\"dataframe\">\n",
              "  <thead>\n",
              "    <tr style=\"text-align: right;\">\n",
              "      <th></th>\n",
              "      <th>bathrooms</th>\n",
              "      <th>beds</th>\n",
              "      <th>ber_classification</th>\n",
              "      <th>latitude</th>\n",
              "      <th>longitude</th>\n",
              "      <th>surface</th>\n",
              "      <th>property_type_bungalow</th>\n",
              "      <th>property_type_detached</th>\n",
              "      <th>property_type_duplex</th>\n",
              "      <th>property_type_end-of-terrace</th>\n",
              "      <th>property_type_semi-detached</th>\n",
              "      <th>property_type_site</th>\n",
              "      <th>property_type_studio</th>\n",
              "      <th>property_type_terraced</th>\n",
              "      <th>property_type_townhouse</th>\n",
              "    </tr>\n",
              "  </thead>\n",
              "  <tbody>\n",
              "    <tr>\n",
              "      <th>1608</th>\n",
              "      <td>4.0</td>\n",
              "      <td>4.0</td>\n",
              "      <td>6.0</td>\n",
              "      <td>53.363218</td>\n",
              "      <td>-6.182091</td>\n",
              "      <td>228.60</td>\n",
              "      <td>0</td>\n",
              "      <td>0</td>\n",
              "      <td>0</td>\n",
              "      <td>0</td>\n",
              "      <td>0</td>\n",
              "      <td>0</td>\n",
              "      <td>0</td>\n",
              "      <td>0</td>\n",
              "      <td>0</td>\n",
              "    </tr>\n",
              "    <tr>\n",
              "      <th>587</th>\n",
              "      <td>2.0</td>\n",
              "      <td>4.0</td>\n",
              "      <td>13.0</td>\n",
              "      <td>53.301321</td>\n",
              "      <td>-6.218509</td>\n",
              "      <td>163.69</td>\n",
              "      <td>0</td>\n",
              "      <td>1</td>\n",
              "      <td>0</td>\n",
              "      <td>0</td>\n",
              "      <td>0</td>\n",
              "      <td>0</td>\n",
              "      <td>0</td>\n",
              "      <td>0</td>\n",
              "      <td>0</td>\n",
              "    </tr>\n",
              "    <tr>\n",
              "      <th>551</th>\n",
              "      <td>2.0</td>\n",
              "      <td>3.0</td>\n",
              "      <td>11.0</td>\n",
              "      <td>53.385714</td>\n",
              "      <td>-6.196458</td>\n",
              "      <td>95.00</td>\n",
              "      <td>0</td>\n",
              "      <td>0</td>\n",
              "      <td>0</td>\n",
              "      <td>0</td>\n",
              "      <td>0</td>\n",
              "      <td>0</td>\n",
              "      <td>0</td>\n",
              "      <td>1</td>\n",
              "      <td>0</td>\n",
              "    </tr>\n",
              "    <tr>\n",
              "      <th>1814</th>\n",
              "      <td>1.0</td>\n",
              "      <td>3.0</td>\n",
              "      <td>15.0</td>\n",
              "      <td>53.390720</td>\n",
              "      <td>-6.123945</td>\n",
              "      <td>102.00</td>\n",
              "      <td>1</td>\n",
              "      <td>0</td>\n",
              "      <td>0</td>\n",
              "      <td>0</td>\n",
              "      <td>0</td>\n",
              "      <td>0</td>\n",
              "      <td>0</td>\n",
              "      <td>0</td>\n",
              "      <td>0</td>\n",
              "    </tr>\n",
              "    <tr>\n",
              "      <th>880</th>\n",
              "      <td>3.0</td>\n",
              "      <td>4.0</td>\n",
              "      <td>3.0</td>\n",
              "      <td>53.392975</td>\n",
              "      <td>-6.287996</td>\n",
              "      <td>135.00</td>\n",
              "      <td>0</td>\n",
              "      <td>0</td>\n",
              "      <td>0</td>\n",
              "      <td>0</td>\n",
              "      <td>0</td>\n",
              "      <td>0</td>\n",
              "      <td>0</td>\n",
              "      <td>1</td>\n",
              "      <td>0</td>\n",
              "    </tr>\n",
              "    <tr>\n",
              "      <th>...</th>\n",
              "      <td>...</td>\n",
              "      <td>...</td>\n",
              "      <td>...</td>\n",
              "      <td>...</td>\n",
              "      <td>...</td>\n",
              "      <td>...</td>\n",
              "      <td>...</td>\n",
              "      <td>...</td>\n",
              "      <td>...</td>\n",
              "      <td>...</td>\n",
              "      <td>...</td>\n",
              "      <td>...</td>\n",
              "      <td>...</td>\n",
              "      <td>...</td>\n",
              "      <td>...</td>\n",
              "    </tr>\n",
              "    <tr>\n",
              "      <th>1331</th>\n",
              "      <td>3.0</td>\n",
              "      <td>4.0</td>\n",
              "      <td>9.0</td>\n",
              "      <td>53.312119</td>\n",
              "      <td>-6.241301</td>\n",
              "      <td>155.00</td>\n",
              "      <td>0</td>\n",
              "      <td>0</td>\n",
              "      <td>0</td>\n",
              "      <td>0</td>\n",
              "      <td>1</td>\n",
              "      <td>0</td>\n",
              "      <td>0</td>\n",
              "      <td>0</td>\n",
              "      <td>0</td>\n",
              "    </tr>\n",
              "    <tr>\n",
              "      <th>645</th>\n",
              "      <td>1.0</td>\n",
              "      <td>3.0</td>\n",
              "      <td>8.0</td>\n",
              "      <td>53.354007</td>\n",
              "      <td>-6.288310</td>\n",
              "      <td>81.00</td>\n",
              "      <td>0</td>\n",
              "      <td>0</td>\n",
              "      <td>0</td>\n",
              "      <td>0</td>\n",
              "      <td>0</td>\n",
              "      <td>0</td>\n",
              "      <td>0</td>\n",
              "      <td>1</td>\n",
              "      <td>0</td>\n",
              "    </tr>\n",
              "    <tr>\n",
              "      <th>791</th>\n",
              "      <td>3.0</td>\n",
              "      <td>4.0</td>\n",
              "      <td>13.0</td>\n",
              "      <td>53.293483</td>\n",
              "      <td>-6.208982</td>\n",
              "      <td>170.00</td>\n",
              "      <td>0</td>\n",
              "      <td>1</td>\n",
              "      <td>0</td>\n",
              "      <td>0</td>\n",
              "      <td>0</td>\n",
              "      <td>0</td>\n",
              "      <td>0</td>\n",
              "      <td>0</td>\n",
              "      <td>0</td>\n",
              "    </tr>\n",
              "    <tr>\n",
              "      <th>2280</th>\n",
              "      <td>2.0</td>\n",
              "      <td>3.0</td>\n",
              "      <td>9.0</td>\n",
              "      <td>53.361952</td>\n",
              "      <td>-6.214504</td>\n",
              "      <td>134.00</td>\n",
              "      <td>0</td>\n",
              "      <td>0</td>\n",
              "      <td>0</td>\n",
              "      <td>0</td>\n",
              "      <td>0</td>\n",
              "      <td>0</td>\n",
              "      <td>0</td>\n",
              "      <td>1</td>\n",
              "      <td>0</td>\n",
              "    </tr>\n",
              "    <tr>\n",
              "      <th>1718</th>\n",
              "      <td>2.0</td>\n",
              "      <td>4.0</td>\n",
              "      <td>15.0</td>\n",
              "      <td>53.379486</td>\n",
              "      <td>-6.186442</td>\n",
              "      <td>108.00</td>\n",
              "      <td>0</td>\n",
              "      <td>0</td>\n",
              "      <td>0</td>\n",
              "      <td>0</td>\n",
              "      <td>1</td>\n",
              "      <td>0</td>\n",
              "      <td>0</td>\n",
              "      <td>0</td>\n",
              "      <td>0</td>\n",
              "    </tr>\n",
              "  </tbody>\n",
              "</table>\n",
              "<p>592 rows × 15 columns</p>\n",
              "</div>"
            ],
            "text/plain": [
              "      bathrooms  beds  ...  property_type_terraced  property_type_townhouse\n",
              "1608        4.0   4.0  ...                       0                        0\n",
              "587         2.0   4.0  ...                       0                        0\n",
              "551         2.0   3.0  ...                       1                        0\n",
              "1814        1.0   3.0  ...                       0                        0\n",
              "880         3.0   4.0  ...                       1                        0\n",
              "...         ...   ...  ...                     ...                      ...\n",
              "1331        3.0   4.0  ...                       0                        0\n",
              "645         1.0   3.0  ...                       1                        0\n",
              "791         3.0   4.0  ...                       0                        0\n",
              "2280        2.0   3.0  ...                       1                        0\n",
              "1718        2.0   4.0  ...                       0                        0\n",
              "\n",
              "[592 rows x 15 columns]"
            ]
          },
          "metadata": {},
          "execution_count": 50
        }
      ]
    },
    {
      "cell_type": "code",
      "metadata": {
        "id": "FXo0x2u7T7-1",
        "colab": {
          "base_uri": "https://localhost:8080/",
          "height": 338
        },
        "outputId": "e90e8885-01e0-42de-ac84-1682a8243668"
      },
      "source": [
        "# Generate descriptive statistics\n",
        "X_test.describe()"
      ],
      "execution_count": 47,
      "outputs": [
        {
          "output_type": "execute_result",
          "data": {
            "text/html": [
              "<div>\n",
              "<style scoped>\n",
              "    .dataframe tbody tr th:only-of-type {\n",
              "        vertical-align: middle;\n",
              "    }\n",
              "\n",
              "    .dataframe tbody tr th {\n",
              "        vertical-align: top;\n",
              "    }\n",
              "\n",
              "    .dataframe thead th {\n",
              "        text-align: right;\n",
              "    }\n",
              "</style>\n",
              "<table border=\"1\" class=\"dataframe\">\n",
              "  <thead>\n",
              "    <tr style=\"text-align: right;\">\n",
              "      <th></th>\n",
              "      <th>bathrooms</th>\n",
              "      <th>beds</th>\n",
              "      <th>ber_classification</th>\n",
              "      <th>latitude</th>\n",
              "      <th>longitude</th>\n",
              "      <th>surface</th>\n",
              "      <th>property_type_bungalow</th>\n",
              "      <th>property_type_detached</th>\n",
              "      <th>property_type_duplex</th>\n",
              "      <th>property_type_end-of-terrace</th>\n",
              "      <th>property_type_semi-detached</th>\n",
              "      <th>property_type_site</th>\n",
              "      <th>property_type_studio</th>\n",
              "      <th>property_type_terraced</th>\n",
              "      <th>property_type_townhouse</th>\n",
              "    </tr>\n",
              "  </thead>\n",
              "  <tbody>\n",
              "    <tr>\n",
              "      <th>count</th>\n",
              "      <td>592.000000</td>\n",
              "      <td>592.000000</td>\n",
              "      <td>592.000000</td>\n",
              "      <td>592.000000</td>\n",
              "      <td>592.000000</td>\n",
              "      <td>592.000000</td>\n",
              "      <td>592.000000</td>\n",
              "      <td>592.000000</td>\n",
              "      <td>592.000000</td>\n",
              "      <td>592.000000</td>\n",
              "      <td>592.000000</td>\n",
              "      <td>592.000000</td>\n",
              "      <td>592.0</td>\n",
              "      <td>592.000000</td>\n",
              "      <td>592.000000</td>\n",
              "    </tr>\n",
              "    <tr>\n",
              "      <th>mean</th>\n",
              "      <td>2.008446</td>\n",
              "      <td>2.988176</td>\n",
              "      <td>9.954392</td>\n",
              "      <td>53.350321</td>\n",
              "      <td>-6.252205</td>\n",
              "      <td>116.002685</td>\n",
              "      <td>0.027027</td>\n",
              "      <td>0.158784</td>\n",
              "      <td>0.020270</td>\n",
              "      <td>0.062500</td>\n",
              "      <td>0.271959</td>\n",
              "      <td>0.005068</td>\n",
              "      <td>0.0</td>\n",
              "      <td>0.173986</td>\n",
              "      <td>0.013514</td>\n",
              "    </tr>\n",
              "    <tr>\n",
              "      <th>std</th>\n",
              "      <td>0.991468</td>\n",
              "      <td>1.092132</td>\n",
              "      <td>3.074861</td>\n",
              "      <td>0.074471</td>\n",
              "      <td>0.091820</td>\n",
              "      <td>77.232092</td>\n",
              "      <td>0.162299</td>\n",
              "      <td>0.365783</td>\n",
              "      <td>0.141043</td>\n",
              "      <td>0.242266</td>\n",
              "      <td>0.445345</td>\n",
              "      <td>0.071066</td>\n",
              "      <td>0.0</td>\n",
              "      <td>0.379418</td>\n",
              "      <td>0.115557</td>\n",
              "    </tr>\n",
              "    <tr>\n",
              "      <th>min</th>\n",
              "      <td>1.000000</td>\n",
              "      <td>1.000000</td>\n",
              "      <td>1.000000</td>\n",
              "      <td>53.221594</td>\n",
              "      <td>-6.521183</td>\n",
              "      <td>33.000000</td>\n",
              "      <td>0.000000</td>\n",
              "      <td>0.000000</td>\n",
              "      <td>0.000000</td>\n",
              "      <td>0.000000</td>\n",
              "      <td>0.000000</td>\n",
              "      <td>0.000000</td>\n",
              "      <td>0.0</td>\n",
              "      <td>0.000000</td>\n",
              "      <td>0.000000</td>\n",
              "    </tr>\n",
              "    <tr>\n",
              "      <th>25%</th>\n",
              "      <td>1.000000</td>\n",
              "      <td>2.000000</td>\n",
              "      <td>8.000000</td>\n",
              "      <td>53.292958</td>\n",
              "      <td>-6.305840</td>\n",
              "      <td>75.000000</td>\n",
              "      <td>0.000000</td>\n",
              "      <td>0.000000</td>\n",
              "      <td>0.000000</td>\n",
              "      <td>0.000000</td>\n",
              "      <td>0.000000</td>\n",
              "      <td>0.000000</td>\n",
              "      <td>0.0</td>\n",
              "      <td>0.000000</td>\n",
              "      <td>0.000000</td>\n",
              "    </tr>\n",
              "    <tr>\n",
              "      <th>50%</th>\n",
              "      <td>2.000000</td>\n",
              "      <td>3.000000</td>\n",
              "      <td>10.000000</td>\n",
              "      <td>53.341259</td>\n",
              "      <td>-6.244749</td>\n",
              "      <td>99.300000</td>\n",
              "      <td>0.000000</td>\n",
              "      <td>0.000000</td>\n",
              "      <td>0.000000</td>\n",
              "      <td>0.000000</td>\n",
              "      <td>0.000000</td>\n",
              "      <td>0.000000</td>\n",
              "      <td>0.0</td>\n",
              "      <td>0.000000</td>\n",
              "      <td>0.000000</td>\n",
              "    </tr>\n",
              "    <tr>\n",
              "      <th>75%</th>\n",
              "      <td>3.000000</td>\n",
              "      <td>4.000000</td>\n",
              "      <td>12.000000</td>\n",
              "      <td>53.381965</td>\n",
              "      <td>-6.182212</td>\n",
              "      <td>133.380000</td>\n",
              "      <td>0.000000</td>\n",
              "      <td>0.000000</td>\n",
              "      <td>0.000000</td>\n",
              "      <td>0.000000</td>\n",
              "      <td>1.000000</td>\n",
              "      <td>0.000000</td>\n",
              "      <td>0.0</td>\n",
              "      <td>0.000000</td>\n",
              "      <td>0.000000</td>\n",
              "    </tr>\n",
              "    <tr>\n",
              "      <th>max</th>\n",
              "      <td>7.000000</td>\n",
              "      <td>6.000000</td>\n",
              "      <td>16.000000</td>\n",
              "      <td>53.630588</td>\n",
              "      <td>-6.056749</td>\n",
              "      <td>985.000000</td>\n",
              "      <td>1.000000</td>\n",
              "      <td>1.000000</td>\n",
              "      <td>1.000000</td>\n",
              "      <td>1.000000</td>\n",
              "      <td>1.000000</td>\n",
              "      <td>1.000000</td>\n",
              "      <td>0.0</td>\n",
              "      <td>1.000000</td>\n",
              "      <td>1.000000</td>\n",
              "    </tr>\n",
              "  </tbody>\n",
              "</table>\n",
              "</div>"
            ],
            "text/plain": [
              "        bathrooms        beds  ...  property_type_terraced  property_type_townhouse\n",
              "count  592.000000  592.000000  ...              592.000000               592.000000\n",
              "mean     2.008446    2.988176  ...                0.173986                 0.013514\n",
              "std      0.991468    1.092132  ...                0.379418                 0.115557\n",
              "min      1.000000    1.000000  ...                0.000000                 0.000000\n",
              "25%      1.000000    2.000000  ...                0.000000                 0.000000\n",
              "50%      2.000000    3.000000  ...                0.000000                 0.000000\n",
              "75%      3.000000    4.000000  ...                0.000000                 0.000000\n",
              "max      7.000000    6.000000  ...                1.000000                 1.000000\n",
              "\n",
              "[8 rows x 15 columns]"
            ]
          },
          "metadata": {},
          "execution_count": 47
        }
      ]
    },
    {
      "cell_type": "markdown",
      "metadata": {
        "id": "UjMH1CSEUA1A"
      },
      "source": [
        "### Expected Cost dataset"
      ]
    },
    {
      "cell_type": "code",
      "metadata": {
        "id": "y1qlirlNiPNW",
        "outputId": "1974143d-56d1-4303-a76f-49b092a42b89",
        "colab": {
          "base_uri": "https://localhost:8080/",
          "height": 206
        }
      },
      "source": [
        "df_cost.head()"
      ],
      "execution_count": 49,
      "outputs": [
        {
          "output_type": "execute_result",
          "data": {
            "text/html": [
              "<div>\n",
              "<style scoped>\n",
              "    .dataframe tbody tr th:only-of-type {\n",
              "        vertical-align: middle;\n",
              "    }\n",
              "\n",
              "    .dataframe tbody tr th {\n",
              "        vertical-align: top;\n",
              "    }\n",
              "\n",
              "    .dataframe thead th {\n",
              "        text-align: right;\n",
              "    }\n",
              "</style>\n",
              "<table border=\"1\" class=\"dataframe\">\n",
              "  <thead>\n",
              "    <tr style=\"text-align: right;\">\n",
              "      <th></th>\n",
              "      <th>ad_id</th>\n",
              "      <th>price</th>\n",
              "    </tr>\n",
              "  </thead>\n",
              "  <tbody>\n",
              "    <tr>\n",
              "      <th>0</th>\n",
              "      <td>12373510</td>\n",
              "      <td>875000.0</td>\n",
              "    </tr>\n",
              "    <tr>\n",
              "      <th>1</th>\n",
              "      <td>12422623</td>\n",
              "      <td>355000.0</td>\n",
              "    </tr>\n",
              "    <tr>\n",
              "      <th>2</th>\n",
              "      <td>12377408</td>\n",
              "      <td>440000.0</td>\n",
              "    </tr>\n",
              "    <tr>\n",
              "      <th>3</th>\n",
              "      <td>12420093</td>\n",
              "      <td>425000.0</td>\n",
              "    </tr>\n",
              "    <tr>\n",
              "      <th>4</th>\n",
              "      <td>12417338</td>\n",
              "      <td>265000.0</td>\n",
              "    </tr>\n",
              "  </tbody>\n",
              "</table>\n",
              "</div>"
            ],
            "text/plain": [
              "      ad_id     price\n",
              "0  12373510  875000.0\n",
              "1  12422623  355000.0\n",
              "2  12377408  440000.0\n",
              "3  12420093  425000.0\n",
              "4  12417338  265000.0"
            ]
          },
          "metadata": {},
          "execution_count": 49
        }
      ]
    },
    {
      "cell_type": "code",
      "metadata": {
        "id": "7p63sCZeUNx3",
        "colab": {
          "base_uri": "https://localhost:8080/",
          "height": 300
        },
        "outputId": "a7522072-7aa3-4fda-da48-f93b8f8d4a47"
      },
      "source": [
        "# Generate descriptive statistics\n",
        "df_cost.describe()"
      ],
      "execution_count": 48,
      "outputs": [
        {
          "output_type": "execute_result",
          "data": {
            "text/html": [
              "<div>\n",
              "<style scoped>\n",
              "    .dataframe tbody tr th:only-of-type {\n",
              "        vertical-align: middle;\n",
              "    }\n",
              "\n",
              "    .dataframe tbody tr th {\n",
              "        vertical-align: top;\n",
              "    }\n",
              "\n",
              "    .dataframe thead th {\n",
              "        text-align: right;\n",
              "    }\n",
              "</style>\n",
              "<table border=\"1\" class=\"dataframe\">\n",
              "  <thead>\n",
              "    <tr style=\"text-align: right;\">\n",
              "      <th></th>\n",
              "      <th>ad_id</th>\n",
              "      <th>price</th>\n",
              "    </tr>\n",
              "  </thead>\n",
              "  <tbody>\n",
              "    <tr>\n",
              "      <th>count</th>\n",
              "      <td>5.000000e+02</td>\n",
              "      <td>5.000000e+02</td>\n",
              "    </tr>\n",
              "    <tr>\n",
              "      <th>mean</th>\n",
              "      <td>1.231695e+07</td>\n",
              "      <td>5.810356e+05</td>\n",
              "    </tr>\n",
              "    <tr>\n",
              "      <th>std</th>\n",
              "      <td>1.485832e+05</td>\n",
              "      <td>6.009194e+05</td>\n",
              "    </tr>\n",
              "    <tr>\n",
              "      <th>min</th>\n",
              "      <td>1.130615e+07</td>\n",
              "      <td>8.500000e+04</td>\n",
              "    </tr>\n",
              "    <tr>\n",
              "      <th>25%</th>\n",
              "      <td>1.228617e+07</td>\n",
              "      <td>2.950000e+05</td>\n",
              "    </tr>\n",
              "    <tr>\n",
              "      <th>50%</th>\n",
              "      <td>1.237964e+07</td>\n",
              "      <td>4.250000e+05</td>\n",
              "    </tr>\n",
              "    <tr>\n",
              "      <th>75%</th>\n",
              "      <td>1.240544e+07</td>\n",
              "      <td>5.950000e+05</td>\n",
              "    </tr>\n",
              "    <tr>\n",
              "      <th>max</th>\n",
              "      <td>1.242809e+07</td>\n",
              "      <td>5.750000e+06</td>\n",
              "    </tr>\n",
              "  </tbody>\n",
              "</table>\n",
              "</div>"
            ],
            "text/plain": [
              "              ad_id         price\n",
              "count  5.000000e+02  5.000000e+02\n",
              "mean   1.231695e+07  5.810356e+05\n",
              "std    1.485832e+05  6.009194e+05\n",
              "min    1.130615e+07  8.500000e+04\n",
              "25%    1.228617e+07  2.950000e+05\n",
              "50%    1.237964e+07  4.250000e+05\n",
              "75%    1.240544e+07  5.950000e+05\n",
              "max    1.242809e+07  5.750000e+06"
            ]
          },
          "metadata": {},
          "execution_count": 48
        }
      ]
    },
    {
      "cell_type": "markdown",
      "metadata": {
        "id": "bJFJQxAS9HZK"
      },
      "source": [
        "# PIECEWISE REGRESSION"
      ]
    },
    {
      "cell_type": "markdown",
      "metadata": {
        "id": "uQ_1QsLToIDi"
      },
      "source": [
        "## Full Model"
      ]
    },
    {
      "cell_type": "markdown",
      "metadata": {
        "id": "UnBjtSTVizXZ"
      },
      "source": [
        "Notes:        \n",
        "-Need to retain ad_id, and cost in the preprocessing datasets       \n",
        "-Don't remove NaN observations just yet       \n",
        "-Also will need to scale features\n",
        "\n"
      ]
    },
    {
      "cell_type": "code",
      "metadata": {
        "id": "Yv5j1KzzMUnm"
      },
      "source": [
        "# select some features columns just for the baseline model\n",
        "# assume not all of the features are informative or useful\n",
        "# in this exercise you could try all of them if possible\n",
        "\n",
        "featrain = ['feature_1','feature_2','feature_3','cost']\n",
        "# dropna: remove missing values\n",
        "df_subset_train = dftrain[featrain].dropna(axis=0)\n",
        "\n",
        "featest = ['feature_1','feature_2','feature_3']\n",
        "df_subset_test  =  dftest[featest].dropna(axis=0)\n",
        "\n",
        "# cost\n",
        "df_cost = df_cost[df_cost.index.isin(df_subset_test.index)]"
      ],
      "execution_count": null,
      "outputs": []
    },
    {
      "cell_type": "code",
      "metadata": {
        "id": "Zc-7b-Gfjf14"
      },
      "source": [
        ""
      ],
      "execution_count": null,
      "outputs": []
    },
    {
      "cell_type": "code",
      "metadata": {
        "id": "kx7sjMi0TZ-G"
      },
      "source": [
        "# StandardScaler() will normalize the features i.e. each column of X, \n",
        "# so, each column/feature/variable will have μ = 0 and σ = 1\n",
        "sc = StandardScaler()\n",
        "\n",
        "Xss_train = np.hstack([Xs_train,Xs_train[:,[2]]**2])\n",
        "xscaler = sc.fit(Xss_train)\n",
        "Xn_train = xscaler.transform(Xss_train)\n",
        "\n",
        "Xss_test = np.hstack([Xs_test,Xs_test[:,[2]]**2])\n",
        "Xn_test = xscaler.transform(Xss_test)\n",
        "\n",
        "ylog = np.log(ys_train.astype('float'))\n",
        "yscaler = StandardScaler().fit(ylog)\n",
        "yn_train = yscaler.transform(ylog)"
      ],
      "execution_count": null,
      "outputs": []
    },
    {
      "cell_type": "code",
      "metadata": {
        "id": "PZK2kfygoIDi"
      },
      "source": [
        "# model\n",
        "with pm.Model() as model:\n",
        "    #prior over the parameters of linear regression\n",
        "    alpha = pm.Normal('alpha', mu=0, sigma=30)\n",
        "    #we have one beta for each column of Xn\n",
        "    beta = pm.Normal('beta', mu=0, sigma=30, shape=Xn_train.shape[1])\n",
        "    #prior over the variance of the noise\n",
        "    sigma = pm.HalfCauchy('sigma_n', 5)\n",
        "    #linear regression model in matrix form\n",
        "    mu = alpha + pm.math.dot(beta, Xn_train.T)\n",
        "    #likelihood, be sure that observed is a 1d vector\n",
        "    like = pm.Normal('like', mu=mu, sigma=sigma, observed=yn_train[:,0])\n",
        "    "
      ],
      "execution_count": null,
      "outputs": []
    },
    {
      "cell_type": "code",
      "metadata": {
        "id": "-V5HNZonj4yU"
      },
      "source": [
        ""
      ],
      "execution_count": null,
      "outputs": []
    },
    {
      "cell_type": "code",
      "metadata": {
        "id": "5AZgLW40oIDi"
      },
      "source": [
        "#number of iterations of the algorithms\n",
        "iter = 50000 \n",
        "\n",
        "# run the model\n",
        "with model:\n",
        "    approximation = pm.fit(iter,method='advi')\n",
        "    \n",
        "# check the convergence\n",
        "plt.plot(approximation.hist);"
      ],
      "execution_count": 51,
      "outputs": []
    },
    {
      "cell_type": "code",
      "metadata": {
        "id": "o3lOwO5Qj4px"
      },
      "source": [
        "# samples from the posterior\n",
        "posterior = approximation.sample(5000)"
      ],
      "execution_count": null,
      "outputs": []
    },
    {
      "cell_type": "code",
      "metadata": {
        "id": "cIskuS3ToIDk"
      },
      "source": [
        "# prediction\n",
        "ll=np.mean(posterior['alpha']) + np.dot(np.mean(posterior['beta'],axis=0), Xn_test.T)\n",
        "y_pred_BLR = np.exp(yscaler.inverse_transform(ll.reshape(-1,1)))[:,0]\n",
        "print(\"MAE = \",(np.mean(abs(y_pred_BLR - y_test))))\n",
        "print(\"MAPE = \",(np.mean(abs(y_pred_BLR - y_test) / y_test)))"
      ],
      "execution_count": null,
      "outputs": []
    },
    {
      "cell_type": "markdown",
      "metadata": {
        "id": "q_jBBKvtoIDk"
      },
      "source": [
        "## Clustering"
      ]
    },
    {
      "cell_type": "markdown",
      "metadata": {
        "id": "VYFvbgYDaEOS"
      },
      "source": [
        "### Full Model"
      ]
    },
    {
      "cell_type": "code",
      "metadata": {
        "id": "iphQ53UE0iVw"
      },
      "source": [
        "# training gaussian mixture model \n",
        "from sklearn.mixture import GaussianMixture\n",
        "\n",
        "gmm = GaussianMixture(n_components=4)\n",
        "ind =[0,1] \n"
      ],
      "execution_count": null,
      "outputs": []
    },
    {
      "cell_type": "markdown",
      "metadata": {
        "id": "h51OhBV5Z4tY"
      },
      "source": [
        "### Clusters"
      ]
    },
    {
      "cell_type": "code",
      "metadata": {
        "id": "vNvx_KxrLt90"
      },
      "source": [
        "# train clusters\n",
        "\n"
      ],
      "execution_count": null,
      "outputs": []
    },
    {
      "cell_type": "code",
      "metadata": {
        "id": "-wTT4220zFNx"
      },
      "source": [
        "# test clusters\n"
      ],
      "execution_count": null,
      "outputs": []
    },
    {
      "cell_type": "markdown",
      "metadata": {
        "id": "dXF25ZDYoIDl"
      },
      "source": [
        "## Piecewise Model"
      ]
    },
    {
      "cell_type": "code",
      "metadata": {
        "id": "N1e-4ruvaJci"
      },
      "source": [
        "# model_0\n",
        "with pm.Model() as model_0:\n",
        "  # prior over the parameters of linear regression\n",
        "  alpha = pm.Normal('alpha', mu=0, sigma=30)\n",
        "  # we have a beta for each column of Xn0\n",
        "  beta = pm.Normal('beta', mu=0, sigma=30, shape=Xn0.shape[1])\n",
        "  # prior over the variance of the noise\n",
        "  sigma = pm.HalfCauchy('sigma_n', 5)\n",
        "  # linear regression relationship\n",
        "  #linear regression model in matrix form\n",
        "  mu = alpha + pm.math.dot(beta, Xn0.T)\n",
        "  # likelihood, be sure that observed is a 1d vector\n",
        "  like = pm.Normal('like', mu=mu, sigma=sigma, observed=yn0[:,0])\n",
        "\n"
      ],
      "execution_count": null,
      "outputs": []
    },
    {
      "cell_type": "markdown",
      "metadata": {
        "id": "wHBgUe1pcZQQ"
      },
      "source": [
        "##Simulations"
      ]
    },
    {
      "cell_type": "markdown",
      "metadata": {
        "id": "bfSEdYAUoIDn"
      },
      "source": [
        "### Only Cluster 0"
      ]
    },
    {
      "cell_type": "markdown",
      "metadata": {
        "id": "qgMUwBO7oIDq"
      },
      "source": [
        "## Overall"
      ]
    },
    {
      "cell_type": "markdown",
      "metadata": {
        "id": "QMY9rDvVoIDq"
      },
      "source": [
        "## Test set performance"
      ]
    },
    {
      "cell_type": "markdown",
      "metadata": {
        "id": "YGmB9BNkoIDr"
      },
      "source": [
        "### PPC on the Test set\n",
        "\n"
      ]
    },
    {
      "cell_type": "markdown",
      "metadata": {
        "id": "f0GYCpwEM09T"
      },
      "source": [
        "# SUMMARY"
      ]
    }
  ]
}