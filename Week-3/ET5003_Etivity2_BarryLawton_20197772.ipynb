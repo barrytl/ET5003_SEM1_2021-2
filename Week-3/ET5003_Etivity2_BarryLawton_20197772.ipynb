{
  "nbformat": 4,
  "nbformat_minor": 0,
  "metadata": {
    "colab": {
      "name": "ET5003_Etivity2_template.ipynb",
      "provenance": []
    },
    "kernelspec": {
      "name": "python3",
      "display_name": "Python 3"
    },
    "language_info": {
      "name": "python"
    }
  },
  "cells": [
    {
      "cell_type": "markdown",
      "metadata": {
        "id": "930vlW5BrOtq"
      },
      "source": [
        "<div>\n",
        "<img src=\"https://drive.google.com/uc?export=view&id=1vK33e_EqaHgBHcbRV_m38hx6IkG0blK_\" width=\"350\"/>\n",
        "</div> \n",
        "\n",
        "#**Artificial Intelligence - MSc**\n",
        "##ET5003 - MACHINE LEARNING APPLICATIONS \n",
        "\n",
        "###Instructor: Enrique Naredo\n",
        "###ET5003_Etivity-2"
      ]
    },
    {
      "cell_type": "code",
      "metadata": {
        "id": "LqXD_IwUQuBF",
        "cellView": "form"
      },
      "source": [
        "#@title Current Date\n",
        "Today = '2021-09-27' #@param {type:\"date\"}\n"
      ],
      "execution_count": 1,
      "outputs": []
    },
    {
      "cell_type": "code",
      "metadata": {
        "id": "uzDKau31OjVO",
        "cellView": "form"
      },
      "source": [
        "#@markdown ---\n",
        "#@markdown ### Enter your details here:\n",
        "Student_ID = \"20197772\" #@param {type:\"string\"}\n",
        "Student_full_name = \"Barry Lawton\" #@param {type:\"string\"}\n",
        "#@markdown ---"
      ],
      "execution_count": 2,
      "outputs": []
    },
    {
      "cell_type": "code",
      "metadata": {
        "id": "r39xGZckTpKx",
        "cellView": "form"
      },
      "source": [
        "#@title Notebook information\n",
        "Notebook_type = 'Example' #@param [\"Example\", \"Lab\", \"Practice\", \"Etivity\", \"Assignment\", \"Exam\"]\n",
        "Version = 'Draft' #@param [\"Draft\", \"Final\"] {type:\"raw\"}\n",
        "Submission = False #@param {type:\"boolean\"}"
      ],
      "execution_count": 3,
      "outputs": []
    },
    {
      "cell_type": "markdown",
      "metadata": {
        "id": "_A0Z6S-r6DpA"
      },
      "source": [
        "# INTRODUCTION"
      ]
    },
    {
      "cell_type": "markdown",
      "metadata": {
        "id": "QkRchZtf6IV-"
      },
      "source": [
        "**Piecewise regression**, extract from [Wikipedia](https://en.wikipedia.org/wiki/Segmented_regression):\n",
        "\n",
        "Segmented regression, also known as piecewise regression or broken-stick regression, is a method in regression analysis in which the independent variable is partitioned into intervals and a separate line segment is fit to each interval. \n",
        "\n",
        "* Segmented regression analysis can also be performed on \n",
        "multivariate data by partitioning the various independent variables. \n",
        "* Segmented regression is useful when the independent variables, clustered into different groups, exhibit different relationships between the variables in these regions. \n",
        "\n",
        "* The boundaries between the segments are breakpoints.\n",
        "\n",
        "* Segmented linear regression is segmented regression whereby the relations in the intervals are obtained by linear regression. "
      ]
    },
    {
      "cell_type": "markdown",
      "metadata": {
        "id": "aajlS0WCJ8pm"
      },
      "source": [
        "***The goal is to use advanced Machine Learning methods to predict House price.***"
      ]
    },
    {
      "cell_type": "markdown",
      "metadata": {
        "id": "Wg7VCbX77eAA"
      },
      "source": [
        "## Imports"
      ]
    },
    {
      "cell_type": "code",
      "metadata": {
        "id": "iFFLThrpwibd"
      },
      "source": [
        "# Suppressing Warnings:\n",
        "import warnings\n",
        "warnings.filterwarnings(\"ignore\")"
      ],
      "execution_count": 1,
      "outputs": []
    },
    {
      "cell_type": "code",
      "metadata": {
        "id": "d1770_fNrCWn"
      },
      "source": [
        "import pandas as pd\n",
        "import matplotlib.pyplot as plt\n",
        "import numpy as np\n",
        "import pymc3 as pm\n",
        "import arviz as az\n",
        "from sklearn.preprocessing import StandardScaler"
      ],
      "execution_count": 2,
      "outputs": []
    },
    {
      "cell_type": "code",
      "metadata": {
        "id": "sYPJU_Y6O6Dq"
      },
      "source": [
        "# to plot\n",
        "import matplotlib.colors\n",
        "from mpl_toolkits.mplot3d import Axes3D\n",
        "\n",
        "# to generate classification, regression and clustering datasets\n",
        "import sklearn.datasets as dt\n",
        "\n",
        "# to create data frames\n",
        "from pandas import DataFrame\n",
        "\n",
        "# to generate data from an existing dataset\n",
        "from sklearn.neighbors import KernelDensity\n",
        "from sklearn.model_selection import GridSearchCV"
      ],
      "execution_count": 3,
      "outputs": []
    },
    {
      "cell_type": "code",
      "metadata": {
        "id": "6MUJdlxSPSMM"
      },
      "source": [
        "# Define the seed so that results can be reproduced\n",
        "seed = 11\n",
        "rand_state = 11\n",
        "\n",
        "# Define the color maps for plots\n",
        "color_map = plt.cm.get_cmap('RdYlBu')\n",
        "color_map_discrete = matplotlib.colors.LinearSegmentedColormap.from_list(\"\", [\"red\",\"cyan\",\"magenta\",\"blue\"])"
      ],
      "execution_count": 4,
      "outputs": []
    },
    {
      "cell_type": "markdown",
      "metadata": {
        "id": "WL91ShB19RPw"
      },
      "source": [
        "# DATASET"
      ]
    },
    {
      "cell_type": "markdown",
      "metadata": {
        "id": "ESg5DGKWJSOf"
      },
      "source": [
        "Extract from this [paper](https://ieeexplore.ieee.org/document/9300074):\n",
        "\n",
        "* House prices are a significant impression of the economy, and its value ranges are of great concerns for the clients and property dealers. \n",
        "\n",
        "* Housing price escalate every year that eventually reinforced the need of strategy or technique that could predict house prices in future. \n",
        "\n",
        "* There are certain factors that influence house prices including physical conditions, locations, number of bedrooms and others.\n"
      ]
    },
    {
      "cell_type": "markdown",
      "metadata": {
        "id": "a8Y2pf50FlYL"
      },
      "source": [
        "1. [Download the dataset](https://github.com/UL-ET5003/ET5003_SEM1_2021-2/tree/main/Week-3). \n",
        "\n",
        "2. Upload the dataset into your folder.\n",
        "\n"
      ]
    },
    {
      "cell_type": "markdown",
      "metadata": {
        "id": "FMkdCQEmKTof"
      },
      "source": [
        "The challenge is to predict the final price of each house."
      ]
    },
    {
      "cell_type": "code",
      "metadata": {
        "colab": {
          "base_uri": "https://localhost:8080/"
        },
        "id": "I2wjRmPgLhqn",
        "outputId": "3adbcda3-15d9-47f1-f168-36d5d7e2f7d7"
      },
      "source": [
        "from google.colab import drive\n",
        "drive.mount('/content/drive')"
      ],
      "execution_count": 5,
      "outputs": [
        {
          "output_type": "stream",
          "name": "stdout",
          "text": [
            "Mounted at /content/drive\n"
          ]
        }
      ]
    },
    {
      "cell_type": "code",
      "metadata": {
        "id": "4rosmH4665uJ"
      },
      "source": [
        "# training dataset: \n",
        "#training_file = syntPath+filename1\n",
        "# test dataset: \n",
        "#testing_file = syntPath+filename2\n",
        "# cost dataset: \n",
        "#cost_file = syntPath+filename3"
      ],
      "execution_count": 9,
      "outputs": []
    },
    {
      "cell_type": "code",
      "metadata": {
        "colab": {
          "base_uri": "https://localhost:8080/"
        },
        "id": "qEjpvbbOLfFB",
        "outputId": "0710436b-3edb-43f0-c53a-5fb972f380c1"
      },
      "source": [
        "# Path from my google Drive\n",
        "\n",
        "Path = '/content/drive/My Drive/Data/ET5003_Etivity_2/'\n",
        "# house data\n",
        "train_data = Path + 'house_train.csv'\n",
        "test_data = Path + 'house_test.csv'\n",
        "true_price = Path + 'true_price.csv'\n",
        "\n",
        "# train data\n",
        "df_train = pd.read_csv(train_data)\n",
        "print(\"Training dataset shape : \",df_train.shape)\n",
        "\n",
        "# test data\n",
        "df_test = pd.read_csv(test_data)\n",
        "print(\"Test dataset shape : \",df_test.shape)\n",
        "\n",
        "# true price data\n",
        "df_cost = pd.read_csv(true_price)\n",
        "print(\"True Price dataset shape : \",df_cost.shape) "
      ],
      "execution_count": 6,
      "outputs": [
        {
          "output_type": "stream",
          "name": "stdout",
          "text": [
            "Training dataset shape :  (2982, 17)\n",
            "Test dataset shape :  (500, 16)\n",
            "True Price dataset shape :  (500, 2)\n"
          ]
        }
      ]
    },
    {
      "cell_type": "code",
      "metadata": {
        "id": "xfXrnM5eY4rz"
      },
      "source": [
        "# Make a copy of the origianl dataset in case I need it later \n",
        "df_train_copy = df_train\n",
        "df_test_copy = df_test\n",
        "df_cost_copy = df_cost"
      ],
      "execution_count": 7,
      "outputs": []
    },
    {
      "cell_type": "code",
      "metadata": {
        "colab": {
          "base_uri": "https://localhost:8080/"
        },
        "id": "z4vCMER2PLFO",
        "outputId": "aa261716-cce4-404e-a975-680c68b97680"
      },
      "source": [
        "df_train.columns"
      ],
      "execution_count": 8,
      "outputs": [
        {
          "output_type": "execute_result",
          "data": {
            "text/plain": [
              "Index(['ad_id', 'area', 'bathrooms', 'beds', 'ber_classification', 'county',\n",
              "       'description_block', 'environment', 'facility', 'features', 'latitude',\n",
              "       'longitude', 'no_of_units', 'price', 'property_category',\n",
              "       'property_type', 'surface'],\n",
              "      dtype='object')"
            ]
          },
          "metadata": {},
          "execution_count": 8
        }
      ]
    },
    {
      "cell_type": "code",
      "metadata": {
        "colab": {
          "base_uri": "https://localhost:8080/"
        },
        "id": "h6Gz-egAPLCg",
        "outputId": "c7e2bb99-eb4e-4de5-b94a-dffe02cbcac6"
      },
      "source": [
        "df_test.columns"
      ],
      "execution_count": 9,
      "outputs": [
        {
          "output_type": "execute_result",
          "data": {
            "text/plain": [
              "Index(['ad_id', 'area', 'bathrooms', 'beds', 'ber_classification', 'county',\n",
              "       'description_block', 'environment', 'facility', 'features', 'latitude',\n",
              "       'longitude', 'no_of_units', 'property_category', 'property_type',\n",
              "       'surface'],\n",
              "      dtype='object')"
            ]
          },
          "metadata": {},
          "execution_count": 9
        }
      ]
    },
    {
      "cell_type": "code",
      "metadata": {
        "colab": {
          "base_uri": "https://localhost:8080/"
        },
        "id": "5MsOuxk0PK_m",
        "outputId": "8a80cc49-e3a7-4a62-c7cc-b5d8a80ac899"
      },
      "source": [
        "df_cost.columns"
      ],
      "execution_count": 10,
      "outputs": [
        {
          "output_type": "execute_result",
          "data": {
            "text/plain": [
              "Index(['Id', 'Expected'], dtype='object')"
            ]
          },
          "metadata": {},
          "execution_count": 10
        }
      ]
    },
    {
      "cell_type": "code",
      "metadata": {
        "id": "oVx3qDz8X6Dj"
      },
      "source": [
        "# Lets make the column names consistent with df_train and df_test\n",
        "df_cost = df_cost.rename(columns={'Id':'ad_id','Expected':'price'})"
      ],
      "execution_count": 11,
      "outputs": []
    },
    {
      "cell_type": "code",
      "metadata": {
        "colab": {
          "base_uri": "https://localhost:8080/",
          "height": 265
        },
        "id": "5yEQLKDfRCoO",
        "outputId": "6f5d06c2-bc68-4e25-f3e5-dd58592aa818"
      },
      "source": [
        "df_train.sample(3)"
      ],
      "execution_count": 12,
      "outputs": [
        {
          "output_type": "execute_result",
          "data": {
            "text/html": [
              "<div>\n",
              "<style scoped>\n",
              "    .dataframe tbody tr th:only-of-type {\n",
              "        vertical-align: middle;\n",
              "    }\n",
              "\n",
              "    .dataframe tbody tr th {\n",
              "        vertical-align: top;\n",
              "    }\n",
              "\n",
              "    .dataframe thead th {\n",
              "        text-align: right;\n",
              "    }\n",
              "</style>\n",
              "<table border=\"1\" class=\"dataframe\">\n",
              "  <thead>\n",
              "    <tr style=\"text-align: right;\">\n",
              "      <th></th>\n",
              "      <th>ad_id</th>\n",
              "      <th>area</th>\n",
              "      <th>bathrooms</th>\n",
              "      <th>beds</th>\n",
              "      <th>ber_classification</th>\n",
              "      <th>county</th>\n",
              "      <th>description_block</th>\n",
              "      <th>environment</th>\n",
              "      <th>facility</th>\n",
              "      <th>features</th>\n",
              "      <th>latitude</th>\n",
              "      <th>longitude</th>\n",
              "      <th>no_of_units</th>\n",
              "      <th>price</th>\n",
              "      <th>property_category</th>\n",
              "      <th>property_type</th>\n",
              "      <th>surface</th>\n",
              "    </tr>\n",
              "  </thead>\n",
              "  <tbody>\n",
              "    <tr>\n",
              "      <th>1830</th>\n",
              "      <td>12387899</td>\n",
              "      <td>Malahide</td>\n",
              "      <td>2.0</td>\n",
              "      <td>4.0</td>\n",
              "      <td>NaN</td>\n",
              "      <td>Dublin</td>\n",
              "      <td>We are delighted to bring to the market this b...</td>\n",
              "      <td>prod</td>\n",
              "      <td>Parking,Gas Fired Central Heating,Wired for Ca...</td>\n",
              "      <td>Excellent location close to all amenities\\nGas...</td>\n",
              "      <td>53.453664</td>\n",
              "      <td>-6.166859</td>\n",
              "      <td>NaN</td>\n",
              "      <td>635000.0</td>\n",
              "      <td>sale</td>\n",
              "      <td>semi-detached</td>\n",
              "      <td>128.0</td>\n",
              "    </tr>\n",
              "    <tr>\n",
              "      <th>2559</th>\n",
              "      <td>12415445</td>\n",
              "      <td>Tyrrelstown</td>\n",
              "      <td>3.0</td>\n",
              "      <td>3.0</td>\n",
              "      <td>C1</td>\n",
              "      <td>Dublin</td>\n",
              "      <td>No. 24 Bellgree Drive enjoys a commanding loca...</td>\n",
              "      <td>prod</td>\n",
              "      <td>Parking,Gas Fired Central Heating,Alarm</td>\n",
              "      <td>Large rear garden \\nFully alarmed  \\nExtra sto...</td>\n",
              "      <td>53.422401</td>\n",
              "      <td>-6.387608</td>\n",
              "      <td>NaN</td>\n",
              "      <td>285000.0</td>\n",
              "      <td>sale</td>\n",
              "      <td>semi-detached</td>\n",
              "      <td>95.0</td>\n",
              "    </tr>\n",
              "    <tr>\n",
              "      <th>1594</th>\n",
              "      <td>12380579</td>\n",
              "      <td>Inchicore</td>\n",
              "      <td>1.0</td>\n",
              "      <td>3.0</td>\n",
              "      <td>D2</td>\n",
              "      <td>Dublin</td>\n",
              "      <td>PROPERTY PARTNERS O BRIEN SWAINE offer this 3 ...</td>\n",
              "      <td>prod</td>\n",
              "      <td>NaN</td>\n",
              "      <td>None</td>\n",
              "      <td>53.336934</td>\n",
              "      <td>-6.324606</td>\n",
              "      <td>NaN</td>\n",
              "      <td>325000.0</td>\n",
              "      <td>sale</td>\n",
              "      <td>terraced</td>\n",
              "      <td>106.0</td>\n",
              "    </tr>\n",
              "  </tbody>\n",
              "</table>\n",
              "</div>"
            ],
            "text/plain": [
              "         ad_id         area  ...  property_type  surface\n",
              "1830  12387899     Malahide  ...  semi-detached    128.0\n",
              "2559  12415445  Tyrrelstown  ...  semi-detached     95.0\n",
              "1594  12380579    Inchicore  ...       terraced    106.0\n",
              "\n",
              "[3 rows x 17 columns]"
            ]
          },
          "metadata": {},
          "execution_count": 12
        }
      ]
    },
    {
      "cell_type": "code",
      "metadata": {
        "colab": {
          "base_uri": "https://localhost:8080/",
          "height": 230
        },
        "id": "W3hTnZC9SND0",
        "outputId": "926f4ef6-7c27-4b32-bd0c-e7fafa14a796"
      },
      "source": [
        "df_test.head(3)"
      ],
      "execution_count": 13,
      "outputs": [
        {
          "output_type": "execute_result",
          "data": {
            "text/html": [
              "<div>\n",
              "<style scoped>\n",
              "    .dataframe tbody tr th:only-of-type {\n",
              "        vertical-align: middle;\n",
              "    }\n",
              "\n",
              "    .dataframe tbody tr th {\n",
              "        vertical-align: top;\n",
              "    }\n",
              "\n",
              "    .dataframe thead th {\n",
              "        text-align: right;\n",
              "    }\n",
              "</style>\n",
              "<table border=\"1\" class=\"dataframe\">\n",
              "  <thead>\n",
              "    <tr style=\"text-align: right;\">\n",
              "      <th></th>\n",
              "      <th>ad_id</th>\n",
              "      <th>area</th>\n",
              "      <th>bathrooms</th>\n",
              "      <th>beds</th>\n",
              "      <th>ber_classification</th>\n",
              "      <th>county</th>\n",
              "      <th>description_block</th>\n",
              "      <th>environment</th>\n",
              "      <th>facility</th>\n",
              "      <th>features</th>\n",
              "      <th>latitude</th>\n",
              "      <th>longitude</th>\n",
              "      <th>no_of_units</th>\n",
              "      <th>property_category</th>\n",
              "      <th>property_type</th>\n",
              "      <th>surface</th>\n",
              "    </tr>\n",
              "  </thead>\n",
              "  <tbody>\n",
              "    <tr>\n",
              "      <th>0</th>\n",
              "      <td>12373510</td>\n",
              "      <td>Skerries</td>\n",
              "      <td>2.0</td>\n",
              "      <td>4.0</td>\n",
              "      <td>G</td>\n",
              "      <td>Dublin</td>\n",
              "      <td>It's all in the name \"Island View\";. Truly won...</td>\n",
              "      <td>prod</td>\n",
              "      <td>Parking,Alarm,Oil Fired Central Heating</td>\n",
              "      <td>Breath-taking panoramic views radiate from thi...</td>\n",
              "      <td>53.566881</td>\n",
              "      <td>-6.101148</td>\n",
              "      <td>NaN</td>\n",
              "      <td>sale</td>\n",
              "      <td>bungalow</td>\n",
              "      <td>142.0</td>\n",
              "    </tr>\n",
              "    <tr>\n",
              "      <th>1</th>\n",
              "      <td>12422623</td>\n",
              "      <td>Lucan</td>\n",
              "      <td>2.0</td>\n",
              "      <td>3.0</td>\n",
              "      <td>C1</td>\n",
              "      <td>Dublin</td>\n",
              "      <td>REA McDonald - Lucan' s longest established es...</td>\n",
              "      <td>prod</td>\n",
              "      <td>NaN</td>\n",
              "      <td>Gas fired central heating.\\nDouble glazed wind...</td>\n",
              "      <td>53.362992</td>\n",
              "      <td>-6.452909</td>\n",
              "      <td>NaN</td>\n",
              "      <td>sale</td>\n",
              "      <td>terraced</td>\n",
              "      <td>114.0</td>\n",
              "    </tr>\n",
              "    <tr>\n",
              "      <th>2</th>\n",
              "      <td>12377408</td>\n",
              "      <td>Swords</td>\n",
              "      <td>3.0</td>\n",
              "      <td>4.0</td>\n",
              "      <td>B3</td>\n",
              "      <td>Dublin</td>\n",
              "      <td>REA Grimes are proud to present to the market ...</td>\n",
              "      <td>prod</td>\n",
              "      <td>NaN</td>\n",
              "      <td>Pristine condition throughout\\nHighly sought-a...</td>\n",
              "      <td>53.454198</td>\n",
              "      <td>-6.262964</td>\n",
              "      <td>NaN</td>\n",
              "      <td>sale</td>\n",
              "      <td>semi-detached</td>\n",
              "      <td>172.0</td>\n",
              "    </tr>\n",
              "  </tbody>\n",
              "</table>\n",
              "</div>"
            ],
            "text/plain": [
              "      ad_id      area  bathrooms  ...  property_category  property_type surface\n",
              "0  12373510  Skerries        2.0  ...               sale       bungalow   142.0\n",
              "1  12422623     Lucan        2.0  ...               sale       terraced   114.0\n",
              "2  12377408    Swords        3.0  ...               sale  semi-detached   172.0\n",
              "\n",
              "[3 rows x 16 columns]"
            ]
          },
          "metadata": {},
          "execution_count": 13
        }
      ]
    },
    {
      "cell_type": "code",
      "metadata": {
        "colab": {
          "base_uri": "https://localhost:8080/",
          "height": 206
        },
        "id": "TfcDnMb0P9to",
        "outputId": "ac785575-6c0d-4dde-df60-b98fbf68d129"
      },
      "source": [
        "df_cost.sample(5)"
      ],
      "execution_count": 14,
      "outputs": [
        {
          "output_type": "execute_result",
          "data": {
            "text/html": [
              "<div>\n",
              "<style scoped>\n",
              "    .dataframe tbody tr th:only-of-type {\n",
              "        vertical-align: middle;\n",
              "    }\n",
              "\n",
              "    .dataframe tbody tr th {\n",
              "        vertical-align: top;\n",
              "    }\n",
              "\n",
              "    .dataframe thead th {\n",
              "        text-align: right;\n",
              "    }\n",
              "</style>\n",
              "<table border=\"1\" class=\"dataframe\">\n",
              "  <thead>\n",
              "    <tr style=\"text-align: right;\">\n",
              "      <th></th>\n",
              "      <th>ad_id</th>\n",
              "      <th>price</th>\n",
              "    </tr>\n",
              "  </thead>\n",
              "  <tbody>\n",
              "    <tr>\n",
              "      <th>123</th>\n",
              "      <td>12412528</td>\n",
              "      <td>850000.0</td>\n",
              "    </tr>\n",
              "    <tr>\n",
              "      <th>455</th>\n",
              "      <td>12405779</td>\n",
              "      <td>195000.0</td>\n",
              "    </tr>\n",
              "    <tr>\n",
              "      <th>200</th>\n",
              "      <td>12377313</td>\n",
              "      <td>770000.0</td>\n",
              "    </tr>\n",
              "    <tr>\n",
              "      <th>86</th>\n",
              "      <td>12408396</td>\n",
              "      <td>369000.0</td>\n",
              "    </tr>\n",
              "    <tr>\n",
              "      <th>280</th>\n",
              "      <td>12388787</td>\n",
              "      <td>475000.0</td>\n",
              "    </tr>\n",
              "  </tbody>\n",
              "</table>\n",
              "</div>"
            ],
            "text/plain": [
              "        ad_id     price\n",
              "123  12412528  850000.0\n",
              "455  12405779  195000.0\n",
              "200  12377313  770000.0\n",
              "86   12408396  369000.0\n",
              "280  12388787  475000.0"
            ]
          },
          "metadata": {},
          "execution_count": 14
        }
      ]
    },
    {
      "cell_type": "code",
      "metadata": {
        "colab": {
          "base_uri": "https://localhost:8080/"
        },
        "id": "vmZOmH6qY_ve",
        "outputId": "1e8c86ee-5a89-4457-e668-c60a4833e18d"
      },
      "source": [
        "df_train.dtypes\n",
        "#df_test.dtypes\n",
        "#df_cost.dtypes"
      ],
      "execution_count": 15,
      "outputs": [
        {
          "output_type": "execute_result",
          "data": {
            "text/plain": [
              "ad_id                   int64\n",
              "area                   object\n",
              "bathrooms             float64\n",
              "beds                  float64\n",
              "ber_classification     object\n",
              "county                 object\n",
              "description_block      object\n",
              "environment            object\n",
              "facility               object\n",
              "features               object\n",
              "latitude              float64\n",
              "longitude             float64\n",
              "no_of_units           float64\n",
              "price                 float64\n",
              "property_category      object\n",
              "property_type          object\n",
              "surface               float64\n",
              "dtype: object"
            ]
          },
          "metadata": {},
          "execution_count": 15
        }
      ]
    },
    {
      "cell_type": "code",
      "metadata": {
        "colab": {
          "base_uri": "https://localhost:8080/"
        },
        "id": "Rcas6SVNX56u",
        "outputId": "860a1b4c-2631-464d-d937-5e2394a9718f"
      },
      "source": [
        "df_train.isna().sum()\n",
        "#df_test.isna().sum()"
      ],
      "execution_count": 16,
      "outputs": [
        {
          "output_type": "execute_result",
          "data": {
            "text/plain": [
              "ad_id                    0\n",
              "area                     0\n",
              "bathrooms               51\n",
              "beds                    51\n",
              "ber_classification     677\n",
              "county                   0\n",
              "description_block        0\n",
              "environment              0\n",
              "facility              2017\n",
              "features                 0\n",
              "latitude                 0\n",
              "longitude                0\n",
              "no_of_units           2923\n",
              "price                   90\n",
              "property_category        0\n",
              "property_type           51\n",
              "surface                551\n",
              "dtype: int64"
            ]
          },
          "metadata": {},
          "execution_count": 16
        }
      ]
    },
    {
      "cell_type": "markdown",
      "metadata": {
        "id": "RHdMbw0WZAEe"
      },
      "source": [
        "Now lets explore each of the variables, decide what features to extract"
      ]
    },
    {
      "cell_type": "markdown",
      "metadata": {
        "id": "FwV_5XSPZ2j1"
      },
      "source": [
        "## Numerical features"
      ]
    },
    {
      "cell_type": "code",
      "metadata": {
        "colab": {
          "base_uri": "https://localhost:8080/",
          "height": 300
        },
        "id": "eyGtnFVuawDN",
        "outputId": "33984b9c-a06c-4a0d-cff7-b5a9722faa12"
      },
      "source": [
        "df_train.describe()"
      ],
      "execution_count": 17,
      "outputs": [
        {
          "output_type": "execute_result",
          "data": {
            "text/html": [
              "<div>\n",
              "<style scoped>\n",
              "    .dataframe tbody tr th:only-of-type {\n",
              "        vertical-align: middle;\n",
              "    }\n",
              "\n",
              "    .dataframe tbody tr th {\n",
              "        vertical-align: top;\n",
              "    }\n",
              "\n",
              "    .dataframe thead th {\n",
              "        text-align: right;\n",
              "    }\n",
              "</style>\n",
              "<table border=\"1\" class=\"dataframe\">\n",
              "  <thead>\n",
              "    <tr style=\"text-align: right;\">\n",
              "      <th></th>\n",
              "      <th>ad_id</th>\n",
              "      <th>bathrooms</th>\n",
              "      <th>beds</th>\n",
              "      <th>latitude</th>\n",
              "      <th>longitude</th>\n",
              "      <th>no_of_units</th>\n",
              "      <th>price</th>\n",
              "      <th>surface</th>\n",
              "    </tr>\n",
              "  </thead>\n",
              "  <tbody>\n",
              "    <tr>\n",
              "      <th>count</th>\n",
              "      <td>2.982000e+03</td>\n",
              "      <td>2931.000000</td>\n",
              "      <td>2931.000000</td>\n",
              "      <td>2982.000000</td>\n",
              "      <td>2982.000000</td>\n",
              "      <td>59.000000</td>\n",
              "      <td>2.892000e+03</td>\n",
              "      <td>2431.000000</td>\n",
              "    </tr>\n",
              "    <tr>\n",
              "      <th>mean</th>\n",
              "      <td>1.224065e+07</td>\n",
              "      <td>1.998635</td>\n",
              "      <td>2.979188</td>\n",
              "      <td>53.355991</td>\n",
              "      <td>-6.257175</td>\n",
              "      <td>7.440678</td>\n",
              "      <td>5.323536e+05</td>\n",
              "      <td>318.851787</td>\n",
              "    </tr>\n",
              "    <tr>\n",
              "      <th>std</th>\n",
              "      <td>5.793037e+05</td>\n",
              "      <td>1.291875</td>\n",
              "      <td>1.468408</td>\n",
              "      <td>0.086748</td>\n",
              "      <td>0.141906</td>\n",
              "      <td>8.937081</td>\n",
              "      <td>5.678148e+05</td>\n",
              "      <td>4389.423136</td>\n",
              "    </tr>\n",
              "    <tr>\n",
              "      <th>min</th>\n",
              "      <td>9.968870e+05</td>\n",
              "      <td>0.000000</td>\n",
              "      <td>0.000000</td>\n",
              "      <td>51.458439</td>\n",
              "      <td>-6.521183</td>\n",
              "      <td>0.000000</td>\n",
              "      <td>1.999500e+04</td>\n",
              "      <td>3.400000</td>\n",
              "    </tr>\n",
              "    <tr>\n",
              "      <th>25%</th>\n",
              "      <td>1.226813e+07</td>\n",
              "      <td>1.000000</td>\n",
              "      <td>2.000000</td>\n",
              "      <td>53.298929</td>\n",
              "      <td>-6.314064</td>\n",
              "      <td>2.000000</td>\n",
              "      <td>2.800000e+05</td>\n",
              "      <td>74.100000</td>\n",
              "    </tr>\n",
              "    <tr>\n",
              "      <th>50%</th>\n",
              "      <td>1.237758e+07</td>\n",
              "      <td>2.000000</td>\n",
              "      <td>3.000000</td>\n",
              "      <td>53.345497</td>\n",
              "      <td>-6.252254</td>\n",
              "      <td>3.000000</td>\n",
              "      <td>3.800000e+05</td>\n",
              "      <td>100.000000</td>\n",
              "    </tr>\n",
              "    <tr>\n",
              "      <th>75%</th>\n",
              "      <td>1.240294e+07</td>\n",
              "      <td>3.000000</td>\n",
              "      <td>4.000000</td>\n",
              "      <td>53.388845</td>\n",
              "      <td>-6.196049</td>\n",
              "      <td>8.000000</td>\n",
              "      <td>5.750000e+05</td>\n",
              "      <td>142.000000</td>\n",
              "    </tr>\n",
              "    <tr>\n",
              "      <th>max</th>\n",
              "      <td>1.242836e+07</td>\n",
              "      <td>18.000000</td>\n",
              "      <td>27.000000</td>\n",
              "      <td>53.630588</td>\n",
              "      <td>-1.744995</td>\n",
              "      <td>36.000000</td>\n",
              "      <td>9.995000e+06</td>\n",
              "      <td>182108.539008</td>\n",
              "    </tr>\n",
              "  </tbody>\n",
              "</table>\n",
              "</div>"
            ],
            "text/plain": [
              "              ad_id    bathrooms  ...         price        surface\n",
              "count  2.982000e+03  2931.000000  ...  2.892000e+03    2431.000000\n",
              "mean   1.224065e+07     1.998635  ...  5.323536e+05     318.851787\n",
              "std    5.793037e+05     1.291875  ...  5.678148e+05    4389.423136\n",
              "min    9.968870e+05     0.000000  ...  1.999500e+04       3.400000\n",
              "25%    1.226813e+07     1.000000  ...  2.800000e+05      74.100000\n",
              "50%    1.237758e+07     2.000000  ...  3.800000e+05     100.000000\n",
              "75%    1.240294e+07     3.000000  ...  5.750000e+05     142.000000\n",
              "max    1.242836e+07    18.000000  ...  9.995000e+06  182108.539008\n",
              "\n",
              "[8 rows x 8 columns]"
            ]
          },
          "metadata": {},
          "execution_count": 17
        }
      ]
    },
    {
      "cell_type": "markdown",
      "metadata": {
        "id": "O2U-dQYCakub"
      },
      "source": [
        "`ad_id`: is an identifier for each advert, this will not be neccessary for training ML model so will be dropped.      \n",
        "`bathrooms`: no. of bathrooms in a house. could be a good indicator on a house price, however there is some listings with $0$ bathrooms and others with $18$, so I will need to check for outliers.   \n",
        "`beds`: no. of beds in a house. this is intuitively a good indicator of a house price, but outliers will need addressed, especially those with $0$.    \n",
        "`latitude` and `logitude`: Geographical coordinates of a house location. This could alos be a good indicator of a house's price.     \n",
        "`no_of_units`: Number of units, presumably for bulk buys, there are very few adverts with information on this attribute, so I will drop it.   \n",
        "`price`: Price on an advert, this is the variable we are trying to predict, not every observation has value for price so these will be dropped.    \n",
        "`surface`: Surface area of a property, intuitively a good indicator of a properties price, however outliers will need to be investigated.\n",
        "\n",
        "\n"
      ]
    },
    {
      "cell_type": "code",
      "metadata": {
        "id": "ceyXQBIobO_d"
      },
      "source": [
        "remove_cols = ['ad_id','no_of_units']\n",
        "df_train.drop(remove_cols, axis=1, inplace = True)\n",
        "df_test.drop(remove_cols, axis = 1, inplace = True)\n"
      ],
      "execution_count": 18,
      "outputs": []
    },
    {
      "cell_type": "markdown",
      "metadata": {
        "id": "0ATzjNiriNZr"
      },
      "source": [
        "## Cathegorical features"
      ]
    },
    {
      "cell_type": "code",
      "metadata": {
        "colab": {
          "base_uri": "https://localhost:8080/",
          "height": 175
        },
        "id": "1I6rzQN2gdLA",
        "outputId": "73a5d684-8274-4763-e9ac-2d5f4eda0aee"
      },
      "source": [
        "df_train.describe(include=object)"
      ],
      "execution_count": 19,
      "outputs": [
        {
          "output_type": "execute_result",
          "data": {
            "text/html": [
              "<div>\n",
              "<style scoped>\n",
              "    .dataframe tbody tr th:only-of-type {\n",
              "        vertical-align: middle;\n",
              "    }\n",
              "\n",
              "    .dataframe tbody tr th {\n",
              "        vertical-align: top;\n",
              "    }\n",
              "\n",
              "    .dataframe thead th {\n",
              "        text-align: right;\n",
              "    }\n",
              "</style>\n",
              "<table border=\"1\" class=\"dataframe\">\n",
              "  <thead>\n",
              "    <tr style=\"text-align: right;\">\n",
              "      <th></th>\n",
              "      <th>area</th>\n",
              "      <th>ber_classification</th>\n",
              "      <th>county</th>\n",
              "      <th>description_block</th>\n",
              "      <th>environment</th>\n",
              "      <th>facility</th>\n",
              "      <th>features</th>\n",
              "      <th>property_category</th>\n",
              "      <th>property_type</th>\n",
              "    </tr>\n",
              "  </thead>\n",
              "  <tbody>\n",
              "    <tr>\n",
              "      <th>count</th>\n",
              "      <td>2982</td>\n",
              "      <td>2305</td>\n",
              "      <td>2982</td>\n",
              "      <td>2982</td>\n",
              "      <td>2982</td>\n",
              "      <td>965</td>\n",
              "      <td>2982</td>\n",
              "      <td>2982</td>\n",
              "      <td>2931</td>\n",
              "    </tr>\n",
              "    <tr>\n",
              "      <th>unique</th>\n",
              "      <td>156</td>\n",
              "      <td>16</td>\n",
              "      <td>1</td>\n",
              "      <td>2978</td>\n",
              "      <td>1</td>\n",
              "      <td>34</td>\n",
              "      <td>1882</td>\n",
              "      <td>2</td>\n",
              "      <td>10</td>\n",
              "    </tr>\n",
              "    <tr>\n",
              "      <th>top</th>\n",
              "      <td>Finglas</td>\n",
              "      <td>D1</td>\n",
              "      <td>Dublin</td>\n",
              "      <td>Location\\r\\nThe property is situated at the no...</td>\n",
              "      <td>prod</td>\n",
              "      <td>Parking,Gas Fired Central Heating</td>\n",
              "      <td>None</td>\n",
              "      <td>sale</td>\n",
              "      <td>apartment</td>\n",
              "    </tr>\n",
              "    <tr>\n",
              "      <th>freq</th>\n",
              "      <td>94</td>\n",
              "      <td>283</td>\n",
              "      <td>2982</td>\n",
              "      <td>2</td>\n",
              "      <td>2982</td>\n",
              "      <td>184</td>\n",
              "      <td>1095</td>\n",
              "      <td>2923</td>\n",
              "      <td>759</td>\n",
              "    </tr>\n",
              "  </tbody>\n",
              "</table>\n",
              "</div>"
            ],
            "text/plain": [
              "           area ber_classification  ... property_category property_type\n",
              "count      2982               2305  ...              2982          2931\n",
              "unique      156                 16  ...                 2            10\n",
              "top     Finglas                 D1  ...              sale     apartment\n",
              "freq         94                283  ...              2923           759\n",
              "\n",
              "[4 rows x 9 columns]"
            ]
          },
          "metadata": {},
          "execution_count": 19
        }
      ]
    },
    {
      "cell_type": "markdown",
      "metadata": {
        "id": "bijQzowqi6Os"
      },
      "source": [
        "`area`: corresponds to a geographical area by name, could be beneficial to include althought `latitude` and `logitude` should provide the same information.    \n",
        "`ber_classification`: BER rating a house has, should be a good indicator for the model.     \n",
        "`county`: County where the property is listed, there is only one observed value $Dublin$ so this feature will be dropped.    \n",
        "`description_block`: Free text description of the property, seems to be unique for almost every advert. This feature can not be encoded very easily so will be dropped.    \n",
        "`environment`: this feature has only one observed value so will dropped.     \n",
        "`facility`: A list of facilities which a property has. There is only $965$ examples with a value here, will need to be investigated further.    \n",
        "`features`: A free text description of the features a property has. Can not be encoded very easily so this feature will be dropped.\n",
        "`property_category`: describes the type of advert, as the vast majority of adverts are $sale$ I have decided to drop this feature.     \n",
        "`property_type`: describes the type of property for sale. This feature should have good potiential to be one-hot encoded.   "
      ]
    },
    {
      "cell_type": "code",
      "metadata": {
        "id": "6hO1PBrvgdIF"
      },
      "source": [
        "remove_cols2 = ['county','description_block','environment','features','property_category']\n",
        "df_train.drop(remove_cols2, axis=1, inplace = True)\n",
        "df_test.drop(remove_cols2, axis = 1, inplace = True)"
      ],
      "execution_count": 25,
      "outputs": []
    },
    {
      "cell_type": "code",
      "metadata": {
        "colab": {
          "base_uri": "https://localhost:8080/"
        },
        "id": "qD56p1a2gdE9",
        "outputId": "70b48775-d290-425f-f563-298576fa1274"
      },
      "source": [
        "df_train.columns"
      ],
      "execution_count": 26,
      "outputs": [
        {
          "output_type": "execute_result",
          "data": {
            "text/plain": [
              "Index(['area', 'bathrooms', 'beds', 'ber_classification', 'facility',\n",
              "       'latitude', 'longitude', 'price', 'property_type', 'surface'],\n",
              "      dtype='object')"
            ]
          },
          "metadata": {},
          "execution_count": 26
        }
      ]
    },
    {
      "cell_type": "code",
      "metadata": {
        "id": "Be9zeCc7euQa"
      },
      "source": [
        ""
      ],
      "execution_count": null,
      "outputs": []
    },
    {
      "cell_type": "code",
      "metadata": {
        "id": "ZbFls6HIeuNX"
      },
      "source": [
        ""
      ],
      "execution_count": null,
      "outputs": []
    },
    {
      "cell_type": "code",
      "metadata": {
        "id": "nlrcdQareuKL"
      },
      "source": [
        ""
      ],
      "execution_count": null,
      "outputs": []
    },
    {
      "cell_type": "code",
      "metadata": {
        "id": "drHyup6oeuHM"
      },
      "source": [
        ""
      ],
      "execution_count": null,
      "outputs": []
    },
    {
      "cell_type": "code",
      "metadata": {
        "id": "Ju9t90aoeuEM"
      },
      "source": [
        ""
      ],
      "execution_count": null,
      "outputs": []
    },
    {
      "cell_type": "code",
      "metadata": {
        "id": "Lp8APxCAeuBV"
      },
      "source": [
        ""
      ],
      "execution_count": null,
      "outputs": []
    },
    {
      "cell_type": "code",
      "metadata": {
        "id": "lv72Ab1Ket-b"
      },
      "source": [
        ""
      ],
      "execution_count": null,
      "outputs": []
    },
    {
      "cell_type": "code",
      "metadata": {
        "id": "xnqXKSGyaVDs"
      },
      "source": [
        ""
      ],
      "execution_count": null,
      "outputs": []
    },
    {
      "cell_type": "markdown",
      "metadata": {
        "id": "cMV0Sx3TbPmv"
      },
      "source": [
        "Looking at the variables which have missing values, `facility` and `no_of_units` have a high frequency of `NaN` in both the training and testing datasets so I will to drop those columns.\n",
        "\n",
        "In the Training dataset, the variables `bathrooms`, `beds`, `ber_classification`, `property_category`, `property_type` & `surface` have some missing values so I will need to decide on what to do with these, but will need to look into them further.\n",
        "\n",
        "I will remove any observations in the training dataset which have a missing value for`price`, given this is our predictor variable."
      ]
    },
    {
      "cell_type": "code",
      "metadata": {
        "id": "jy5_m-btX9FN"
      },
      "source": [
        "#for col in remove_cols:\n",
        "#  df_train = df_train.drop(col, axis=1)\n",
        "#  df_test =  df_test.drop(col, axis=1)"
      ],
      "execution_count": null,
      "outputs": []
    },
    {
      "cell_type": "code",
      "metadata": {
        "id": "KxPaqUv4X9Cv"
      },
      "source": [
        ""
      ],
      "execution_count": null,
      "outputs": []
    },
    {
      "cell_type": "code",
      "metadata": {
        "id": "6QiDFXeeX5nK"
      },
      "source": [
        ""
      ],
      "execution_count": null,
      "outputs": []
    },
    {
      "cell_type": "code",
      "metadata": {
        "id": "mYVngLzLX3hq"
      },
      "source": [
        ""
      ],
      "execution_count": null,
      "outputs": []
    },
    {
      "cell_type": "code",
      "metadata": {
        "id": "loLTHklwKGnV"
      },
      "source": [
        "# split data into training and test\n",
        "from sklearn.model_selection import train_test_split\n",
        "y = \n",
        "# training: 70% (0.7), test: 30% (0.3) \n",
        "# you could try any other combination \n",
        "# but consider 50% of training as the low boundary\n",
        "#X_train,X_test,y_train,y_test = train_test_split(X, y, test_size=0.3)"
      ],
      "execution_count": 9,
      "outputs": []
    },
    {
      "cell_type": "markdown",
      "metadata": {
        "id": "2PMoPLlUJ1Ly"
      },
      "source": [
        "## Training & Test Data"
      ]
    },
    {
      "cell_type": "markdown",
      "metadata": {
        "id": "ztBkSZluye87"
      },
      "source": [
        "### Train dataset"
      ]
    },
    {
      "cell_type": "code",
      "metadata": {
        "id": "6XUFUPABMHfF"
      },
      "source": [
        "# show first data frame rows \n",
        "dftrain.head()"
      ],
      "execution_count": null,
      "outputs": []
    },
    {
      "cell_type": "code",
      "metadata": {
        "id": "5rq_p-D4yLBe"
      },
      "source": [
        "# Generate descriptive statistics\n",
        "dftrain.describe()"
      ],
      "execution_count": null,
      "outputs": []
    },
    {
      "cell_type": "markdown",
      "metadata": {
        "id": "Iqg9_uxFyZli"
      },
      "source": [
        "### Test dataset"
      ]
    },
    {
      "cell_type": "code",
      "metadata": {
        "id": "bw2_yypxMfsi"
      },
      "source": [
        "# show first data frame rows \n",
        "dftest.head()"
      ],
      "execution_count": null,
      "outputs": []
    },
    {
      "cell_type": "code",
      "metadata": {
        "id": "FXo0x2u7T7-1"
      },
      "source": [
        "# Generate descriptive statistics\n",
        "dftest.describe()"
      ],
      "execution_count": null,
      "outputs": []
    },
    {
      "cell_type": "markdown",
      "metadata": {
        "id": "UjMH1CSEUA1A"
      },
      "source": [
        "### Expected Cost dataset"
      ]
    },
    {
      "cell_type": "code",
      "metadata": {
        "id": "7p63sCZeUNx3"
      },
      "source": [
        "# Generate descriptive statistics\n",
        "dfcost.describe()"
      ],
      "execution_count": null,
      "outputs": []
    },
    {
      "cell_type": "markdown",
      "metadata": {
        "id": "bJFJQxAS9HZK"
      },
      "source": [
        "# PIECEWISE REGRESSION"
      ]
    },
    {
      "cell_type": "markdown",
      "metadata": {
        "id": "uQ_1QsLToIDi"
      },
      "source": [
        "## Full Model"
      ]
    },
    {
      "cell_type": "code",
      "metadata": {
        "id": "Yv5j1KzzMUnm"
      },
      "source": [
        "# select some features columns just for the baseline model\n",
        "# assume not all of the features are informative or useful\n",
        "# in this exercise you could try all of them if possible\n",
        "\n",
        "featrain = ['feature_1','feature_2','feature_3','cost']\n",
        "# dropna: remove missing values\n",
        "df_subset_train = dftrain[featrain].dropna(axis=0)\n",
        "\n",
        "featest = ['feature_1','feature_2','feature_3']\n",
        "df_subset_test  =  dftest[featest].dropna(axis=0)\n",
        "\n",
        "# cost\n",
        "df_cost = df_cost[df_cost.index.isin(df_subset_test.index)]"
      ],
      "execution_count": null,
      "outputs": []
    },
    {
      "cell_type": "code",
      "metadata": {
        "id": "PZK2kfygoIDi"
      },
      "source": [
        "# model\n",
        "with pm.Model() as model:\n",
        "    #prior over the parameters of linear regression\n",
        "    alpha = pm.Normal('alpha', mu=0, sigma=30)\n",
        "    #we have one beta for each column of Xn\n",
        "    beta = pm.Normal('beta', mu=0, sigma=30, shape=Xn_train.shape[1])\n",
        "    #prior over the variance of the noise\n",
        "    sigma = pm.HalfCauchy('sigma_n', 5)\n",
        "    #linear regression model in matrix form\n",
        "    mu = alpha + pm.math.dot(beta, Xn_train.T)\n",
        "    #likelihood, be sure that observed is a 1d vector\n",
        "    like = pm.Normal('like', mu=mu, sigma=sigma, observed=yn_train[:,0])\n",
        "    "
      ],
      "execution_count": null,
      "outputs": []
    },
    {
      "cell_type": "code",
      "metadata": {
        "id": "cIskuS3ToIDk"
      },
      "source": [
        "# prediction\n",
        "ll=np.mean(posterior['alpha']) + np.dot(np.mean(posterior['beta'],axis=0), Xn_test.T)\n",
        "y_pred_BLR = np.exp(yscaler.inverse_transform(ll.reshape(-1,1)))[:,0]\n",
        "print(\"MAE = \",(np.mean(abs(y_pred_BLR - y_test))))\n",
        "print(\"MAPE = \",(np.mean(abs(y_pred_BLR - y_test) / y_test)))"
      ],
      "execution_count": null,
      "outputs": []
    },
    {
      "cell_type": "markdown",
      "metadata": {
        "id": "q_jBBKvtoIDk"
      },
      "source": [
        "## Clustering"
      ]
    },
    {
      "cell_type": "markdown",
      "metadata": {
        "id": "VYFvbgYDaEOS"
      },
      "source": [
        "### Full Model"
      ]
    },
    {
      "cell_type": "code",
      "metadata": {
        "id": "iphQ53UE0iVw"
      },
      "source": [
        "# training gaussian mixture model \n",
        "from sklearn.mixture import GaussianMixture\n",
        "\n",
        "gmm = GaussianMixture(n_components=4)\n"
      ],
      "execution_count": null,
      "outputs": []
    },
    {
      "cell_type": "markdown",
      "metadata": {
        "id": "h51OhBV5Z4tY"
      },
      "source": [
        "### Clusters"
      ]
    },
    {
      "cell_type": "code",
      "metadata": {
        "id": "vNvx_KxrLt90"
      },
      "source": [
        "# train clusters\n",
        "\n"
      ],
      "execution_count": null,
      "outputs": []
    },
    {
      "cell_type": "code",
      "metadata": {
        "id": "-wTT4220zFNx"
      },
      "source": [
        "# test clusters\n"
      ],
      "execution_count": null,
      "outputs": []
    },
    {
      "cell_type": "markdown",
      "metadata": {
        "id": "dXF25ZDYoIDl"
      },
      "source": [
        "## Piecewise Model"
      ]
    },
    {
      "cell_type": "code",
      "metadata": {
        "id": "N1e-4ruvaJci"
      },
      "source": [
        "# model_0\n",
        "with pm.Model() as model_0:\n",
        "  # prior over the parameters of linear regression\n",
        "  alpha = pm.Normal('alpha', mu=0, sigma=30)\n",
        "  # we have a beta for each column of Xn0\n",
        "  beta = pm.Normal('beta', mu=0, sigma=30, shape=Xn0.shape[1])\n",
        "  # prior over the variance of the noise\n",
        "  sigma = pm.HalfCauchy('sigma_n', 5)\n",
        "  # linear regression relationship\n",
        "  #linear regression model in matrix form\n",
        "  mu = alpha + pm.math.dot(beta, Xn0.T)\n",
        "  # likelihood, be sure that observed is a 1d vector\n",
        "  like = pm.Normal('like', mu=mu, sigma=sigma, observed=yn0[:,0])\n",
        "\n"
      ],
      "execution_count": null,
      "outputs": []
    },
    {
      "cell_type": "markdown",
      "metadata": {
        "id": "wHBgUe1pcZQQ"
      },
      "source": [
        "##Simulations"
      ]
    },
    {
      "cell_type": "markdown",
      "metadata": {
        "id": "bfSEdYAUoIDn"
      },
      "source": [
        "### Only Cluster 0"
      ]
    },
    {
      "cell_type": "markdown",
      "metadata": {
        "id": "qgMUwBO7oIDq"
      },
      "source": [
        "## Overall"
      ]
    },
    {
      "cell_type": "markdown",
      "metadata": {
        "id": "QMY9rDvVoIDq"
      },
      "source": [
        "## Test set performance"
      ]
    },
    {
      "cell_type": "markdown",
      "metadata": {
        "id": "YGmB9BNkoIDr"
      },
      "source": [
        "### PPC on the Test set\n",
        "\n"
      ]
    },
    {
      "cell_type": "markdown",
      "metadata": {
        "id": "f0GYCpwEM09T"
      },
      "source": [
        "# SUMMARY"
      ]
    }
  ]
}